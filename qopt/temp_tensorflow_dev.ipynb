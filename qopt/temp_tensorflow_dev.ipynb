{
 "cells": [
  {
   "cell_type": "code",
   "execution_count": 1,
   "metadata": {
    "collapsed": true,
    "pycharm": {
     "name": "#%%\n"
    }
   },
   "outputs": [
    {
     "name": "stderr",
     "output_type": "stream",
     "text": [
      "C:\\Users\\julia\\Documents\\qopt\\qopt\\matrix.py:80: UserWarning: Qutip not installed. plot_bloch_vector_evolution() is not available\n",
      "  warn('Qutip not installed. plot_bloch_vector_evolution() is not available')\n",
      "C:\\Users\\julia\\.conda\\envs\\qopt_tensorflow\\lib\\site-packages\\filter_functions\\plotting.py:68: UserWarning: Qutip not installed. plot_bloch_vector_evolution() is not available\n",
      "  warn('Qutip not installed. plot_bloch_vector_evolution() is not available')\n",
      "C:\\Users\\julia\\Documents\\qopt\\qopt\\optimize.py:88: UserWarning: simanneal not installed. SimulatedAnnealing is not available\n",
      "  warn('simanneal not installed. '\n",
      "C:\\Users\\julia\\Documents\\qopt\\qopt\\plotting.py:55: UserWarning: Qutip not installed. plot_bloch_vector_evolution() is not available\n",
      "  warn('Qutip not installed. plot_bloch_vector_evolution() is not available')\n"
     ]
    }
   ],
   "source": [
    "import tensorflow as tf\n",
    "import time\n",
    "import numpy as np\n",
    "from qopt import *\n",
    "from qopt.solver_algorithms import Solver"
   ]
  },
  {
   "cell_type": "code",
   "execution_count": 2,
   "outputs": [],
   "source": [
    "class TensorflowSS(Solver):\n",
    "    def __init__(self):\n",
    "        pass"
   ],
   "metadata": {
    "collapsed": false,
    "pycharm": {
     "name": "#%%\n"
    }
   }
  },
  {
   "cell_type": "code",
   "execution_count": 3,
   "outputs": [],
   "source": [
    "n_time_steps = int(1e4)\n",
    "delta_t = np.pi / n_time_steps\n",
    "\n",
    "solver = SchroedingerSolver(\n",
    "    h_ctrl=[.5 * DenseOperator.pauli_x()],\n",
    "    h_drift=[0 * DenseOperator.pauli_x()],\n",
    "    tau=delta_t * np.ones(1),\n",
    "    transfer_function=OversamplingTF(oversampling=n_time_steps, num_ctrls=1)\n",
    ")"
   ],
   "metadata": {
    "collapsed": false,
    "pycharm": {
     "name": "#%%\n"
    }
   }
  },
  {
   "cell_type": "code",
   "execution_count": 4,
   "outputs": [
    {
     "name": "stderr",
     "output_type": "stream",
     "text": [
      "C:\\Users\\julia\\Documents\\qopt\\qopt\\solver_algorithms.py:977: NumbaWarning: \u001B[1m\n",
      "Compilation is falling back to object mode WITH looplifting enabled because Function \"_jit_compute_propagation\" failed type inference due to: \u001B[1mUntyped global name 'super':\u001B[0m \u001B[1m\u001B[1mCannot determine Numba type of <class 'type'>\u001B[0m\n",
      "\u001B[1m\n",
      "File \"solver_algorithms.py\", line 982:\u001B[0m\n",
      "\u001B[1m    def _jit_compute_propagation(\n",
      "        <source elided>\n",
      "        \"\"\"See base class. \"\"\"\n",
      "\u001B[1m        super()._compute_propagation()\n",
      "\u001B[0m        \u001B[1m^\u001B[0m\u001B[0m\n",
      "\u001B[0m\u001B[0m\n",
      "  @numba.jit(nopython=False)\n"
     ]
    },
    {
     "ename": "ValueError",
     "evalue": "Failed in object mode pipeline (step: object mode frontend)\ntoo many values to unpack (expected 1)",
     "output_type": "error",
     "traceback": [
      "\u001B[1;31m---------------------------------------------------------------------------\u001B[0m",
      "\u001B[1;31mValueError\u001B[0m                                Traceback (most recent call last)",
      "Input \u001B[1;32mIn [4]\u001B[0m, in \u001B[0;36m<cell line: 2>\u001B[1;34m()\u001B[0m\n\u001B[0;32m      1\u001B[0m solver\u001B[38;5;241m.\u001B[39mset_optimization_parameters(np\u001B[38;5;241m.\u001B[39mones((\u001B[38;5;241m1\u001B[39m, \u001B[38;5;241m1\u001B[39m)))\n\u001B[1;32m----> 2\u001B[0m \u001B[43msolver\u001B[49m\u001B[38;5;241;43m.\u001B[39;49m\u001B[43m_jit_compute_propagation\u001B[49m\u001B[43m(\u001B[49m\u001B[43m)\u001B[49m\n\u001B[0;32m      4\u001B[0m start \u001B[38;5;241m=\u001B[39m time\u001B[38;5;241m.\u001B[39mtime()\n\u001B[0;32m      5\u001B[0m solver\u001B[38;5;241m.\u001B[39m_jit_compute_propagation()\n",
      "File \u001B[1;32m~\\.conda\\envs\\qopt_tensorflow\\lib\\site-packages\\numba\\core\\dispatcher.py:487\u001B[0m, in \u001B[0;36m_DispatcherBase._compile_for_args\u001B[1;34m(self, *args, **kws)\u001B[0m\n\u001B[0;32m    485\u001B[0m             e\u001B[38;5;241m.\u001B[39mpatch_message(\u001B[38;5;124m'\u001B[39m\u001B[38;5;130;01m\\n\u001B[39;00m\u001B[38;5;124m'\u001B[39m\u001B[38;5;241m.\u001B[39mjoin((\u001B[38;5;28mstr\u001B[39m(e)\u001B[38;5;241m.\u001B[39mrstrip(), help_msg)))\n\u001B[0;32m    486\u001B[0m     \u001B[38;5;66;03m# ignore the FULL_TRACEBACKS config, this needs reporting!\u001B[39;00m\n\u001B[1;32m--> 487\u001B[0m     \u001B[38;5;28;01mraise\u001B[39;00m e\n\u001B[0;32m    488\u001B[0m \u001B[38;5;28;01mfinally\u001B[39;00m:\n\u001B[0;32m    489\u001B[0m     \u001B[38;5;28mself\u001B[39m\u001B[38;5;241m.\u001B[39m_types_active_call \u001B[38;5;241m=\u001B[39m []\n",
      "File \u001B[1;32m~\\.conda\\envs\\qopt_tensorflow\\lib\\site-packages\\numba\\core\\dispatcher.py:420\u001B[0m, in \u001B[0;36m_DispatcherBase._compile_for_args\u001B[1;34m(self, *args, **kws)\u001B[0m\n\u001B[0;32m    418\u001B[0m return_val \u001B[38;5;241m=\u001B[39m \u001B[38;5;28;01mNone\u001B[39;00m\n\u001B[0;32m    419\u001B[0m \u001B[38;5;28;01mtry\u001B[39;00m:\n\u001B[1;32m--> 420\u001B[0m     return_val \u001B[38;5;241m=\u001B[39m \u001B[38;5;28;43mself\u001B[39;49m\u001B[38;5;241;43m.\u001B[39;49m\u001B[43mcompile\u001B[49m\u001B[43m(\u001B[49m\u001B[38;5;28;43mtuple\u001B[39;49m\u001B[43m(\u001B[49m\u001B[43margtypes\u001B[49m\u001B[43m)\u001B[49m\u001B[43m)\u001B[49m\n\u001B[0;32m    421\u001B[0m \u001B[38;5;28;01mexcept\u001B[39;00m errors\u001B[38;5;241m.\u001B[39mForceLiteralArg \u001B[38;5;28;01mas\u001B[39;00m e:\n\u001B[0;32m    422\u001B[0m     \u001B[38;5;66;03m# Received request for compiler re-entry with the list of arguments\u001B[39;00m\n\u001B[0;32m    423\u001B[0m     \u001B[38;5;66;03m# indicated by e.requested_args.\u001B[39;00m\n\u001B[0;32m    424\u001B[0m     \u001B[38;5;66;03m# First, check if any of these args are already Literal-ized\u001B[39;00m\n\u001B[0;32m    425\u001B[0m     already_lit_pos \u001B[38;5;241m=\u001B[39m [i \u001B[38;5;28;01mfor\u001B[39;00m i \u001B[38;5;129;01min\u001B[39;00m e\u001B[38;5;241m.\u001B[39mrequested_args\n\u001B[0;32m    426\u001B[0m                        \u001B[38;5;28;01mif\u001B[39;00m \u001B[38;5;28misinstance\u001B[39m(args[i], types\u001B[38;5;241m.\u001B[39mLiteral)]\n",
      "File \u001B[1;32m~\\.conda\\envs\\qopt_tensorflow\\lib\\site-packages\\numba\\core\\dispatcher.py:965\u001B[0m, in \u001B[0;36mDispatcher.compile\u001B[1;34m(self, sig)\u001B[0m\n\u001B[0;32m    963\u001B[0m \u001B[38;5;28;01mwith\u001B[39;00m ev\u001B[38;5;241m.\u001B[39mtrigger_event(\u001B[38;5;124m\"\u001B[39m\u001B[38;5;124mnumba:compile\u001B[39m\u001B[38;5;124m\"\u001B[39m, data\u001B[38;5;241m=\u001B[39mev_details):\n\u001B[0;32m    964\u001B[0m     \u001B[38;5;28;01mtry\u001B[39;00m:\n\u001B[1;32m--> 965\u001B[0m         cres \u001B[38;5;241m=\u001B[39m \u001B[38;5;28;43mself\u001B[39;49m\u001B[38;5;241;43m.\u001B[39;49m\u001B[43m_compiler\u001B[49m\u001B[38;5;241;43m.\u001B[39;49m\u001B[43mcompile\u001B[49m\u001B[43m(\u001B[49m\u001B[43margs\u001B[49m\u001B[43m,\u001B[49m\u001B[43m \u001B[49m\u001B[43mreturn_type\u001B[49m\u001B[43m)\u001B[49m\n\u001B[0;32m    966\u001B[0m     \u001B[38;5;28;01mexcept\u001B[39;00m errors\u001B[38;5;241m.\u001B[39mForceLiteralArg \u001B[38;5;28;01mas\u001B[39;00m e:\n\u001B[0;32m    967\u001B[0m         \u001B[38;5;28;01mdef\u001B[39;00m \u001B[38;5;21mfolded\u001B[39m(args, kws):\n",
      "File \u001B[1;32m~\\.conda\\envs\\qopt_tensorflow\\lib\\site-packages\\numba\\core\\dispatcher.py:125\u001B[0m, in \u001B[0;36m_FunctionCompiler.compile\u001B[1;34m(self, args, return_type)\u001B[0m\n\u001B[0;32m    124\u001B[0m \u001B[38;5;28;01mdef\u001B[39;00m \u001B[38;5;21mcompile\u001B[39m(\u001B[38;5;28mself\u001B[39m, args, return_type):\n\u001B[1;32m--> 125\u001B[0m     status, retval \u001B[38;5;241m=\u001B[39m \u001B[38;5;28;43mself\u001B[39;49m\u001B[38;5;241;43m.\u001B[39;49m\u001B[43m_compile_cached\u001B[49m\u001B[43m(\u001B[49m\u001B[43margs\u001B[49m\u001B[43m,\u001B[49m\u001B[43m \u001B[49m\u001B[43mreturn_type\u001B[49m\u001B[43m)\u001B[49m\n\u001B[0;32m    126\u001B[0m     \u001B[38;5;28;01mif\u001B[39;00m status:\n\u001B[0;32m    127\u001B[0m         \u001B[38;5;28;01mreturn\u001B[39;00m retval\n",
      "File \u001B[1;32m~\\.conda\\envs\\qopt_tensorflow\\lib\\site-packages\\numba\\core\\dispatcher.py:139\u001B[0m, in \u001B[0;36m_FunctionCompiler._compile_cached\u001B[1;34m(self, args, return_type)\u001B[0m\n\u001B[0;32m    136\u001B[0m     \u001B[38;5;28;01mpass\u001B[39;00m\n\u001B[0;32m    138\u001B[0m \u001B[38;5;28;01mtry\u001B[39;00m:\n\u001B[1;32m--> 139\u001B[0m     retval \u001B[38;5;241m=\u001B[39m \u001B[38;5;28;43mself\u001B[39;49m\u001B[38;5;241;43m.\u001B[39;49m\u001B[43m_compile_core\u001B[49m\u001B[43m(\u001B[49m\u001B[43margs\u001B[49m\u001B[43m,\u001B[49m\u001B[43m \u001B[49m\u001B[43mreturn_type\u001B[49m\u001B[43m)\u001B[49m\n\u001B[0;32m    140\u001B[0m \u001B[38;5;28;01mexcept\u001B[39;00m errors\u001B[38;5;241m.\u001B[39mTypingError \u001B[38;5;28;01mas\u001B[39;00m e:\n\u001B[0;32m    141\u001B[0m     \u001B[38;5;28mself\u001B[39m\u001B[38;5;241m.\u001B[39m_failed_cache[key] \u001B[38;5;241m=\u001B[39m e\n",
      "File \u001B[1;32m~\\.conda\\envs\\qopt_tensorflow\\lib\\site-packages\\numba\\core\\dispatcher.py:152\u001B[0m, in \u001B[0;36m_FunctionCompiler._compile_core\u001B[1;34m(self, args, return_type)\u001B[0m\n\u001B[0;32m    149\u001B[0m flags \u001B[38;5;241m=\u001B[39m \u001B[38;5;28mself\u001B[39m\u001B[38;5;241m.\u001B[39m_customize_flags(flags)\n\u001B[0;32m    151\u001B[0m impl \u001B[38;5;241m=\u001B[39m \u001B[38;5;28mself\u001B[39m\u001B[38;5;241m.\u001B[39m_get_implementation(args, {})\n\u001B[1;32m--> 152\u001B[0m cres \u001B[38;5;241m=\u001B[39m \u001B[43mcompiler\u001B[49m\u001B[38;5;241;43m.\u001B[39;49m\u001B[43mcompile_extra\u001B[49m\u001B[43m(\u001B[49m\u001B[38;5;28;43mself\u001B[39;49m\u001B[38;5;241;43m.\u001B[39;49m\u001B[43mtargetdescr\u001B[49m\u001B[38;5;241;43m.\u001B[39;49m\u001B[43mtyping_context\u001B[49m\u001B[43m,\u001B[49m\n\u001B[0;32m    153\u001B[0m \u001B[43m                              \u001B[49m\u001B[38;5;28;43mself\u001B[39;49m\u001B[38;5;241;43m.\u001B[39;49m\u001B[43mtargetdescr\u001B[49m\u001B[38;5;241;43m.\u001B[39;49m\u001B[43mtarget_context\u001B[49m\u001B[43m,\u001B[49m\n\u001B[0;32m    154\u001B[0m \u001B[43m                              \u001B[49m\u001B[43mimpl\u001B[49m\u001B[43m,\u001B[49m\n\u001B[0;32m    155\u001B[0m \u001B[43m                              \u001B[49m\u001B[43margs\u001B[49m\u001B[38;5;241;43m=\u001B[39;49m\u001B[43margs\u001B[49m\u001B[43m,\u001B[49m\u001B[43m \u001B[49m\u001B[43mreturn_type\u001B[49m\u001B[38;5;241;43m=\u001B[39;49m\u001B[43mreturn_type\u001B[49m\u001B[43m,\u001B[49m\n\u001B[0;32m    156\u001B[0m \u001B[43m                              \u001B[49m\u001B[43mflags\u001B[49m\u001B[38;5;241;43m=\u001B[39;49m\u001B[43mflags\u001B[49m\u001B[43m,\u001B[49m\u001B[43m \u001B[49m\u001B[38;5;28;43mlocals\u001B[39;49m\u001B[38;5;241;43m=\u001B[39;49m\u001B[38;5;28;43mself\u001B[39;49m\u001B[38;5;241;43m.\u001B[39;49m\u001B[43mlocals\u001B[49m\u001B[43m,\u001B[49m\n\u001B[0;32m    157\u001B[0m \u001B[43m                              \u001B[49m\u001B[43mpipeline_class\u001B[49m\u001B[38;5;241;43m=\u001B[39;49m\u001B[38;5;28;43mself\u001B[39;49m\u001B[38;5;241;43m.\u001B[39;49m\u001B[43mpipeline_class\u001B[49m\u001B[43m)\u001B[49m\n\u001B[0;32m    158\u001B[0m \u001B[38;5;66;03m# Check typing error if object mode is used\u001B[39;00m\n\u001B[0;32m    159\u001B[0m \u001B[38;5;28;01mif\u001B[39;00m cres\u001B[38;5;241m.\u001B[39mtyping_error \u001B[38;5;129;01mis\u001B[39;00m \u001B[38;5;129;01mnot\u001B[39;00m \u001B[38;5;28;01mNone\u001B[39;00m \u001B[38;5;129;01mand\u001B[39;00m \u001B[38;5;129;01mnot\u001B[39;00m flags\u001B[38;5;241m.\u001B[39menable_pyobject:\n",
      "File \u001B[1;32m~\\.conda\\envs\\qopt_tensorflow\\lib\\site-packages\\numba\\core\\compiler.py:693\u001B[0m, in \u001B[0;36mcompile_extra\u001B[1;34m(typingctx, targetctx, func, args, return_type, flags, locals, library, pipeline_class)\u001B[0m\n\u001B[0;32m    669\u001B[0m \u001B[38;5;124;03m\"\"\"Compiler entry point\u001B[39;00m\n\u001B[0;32m    670\u001B[0m \n\u001B[0;32m    671\u001B[0m \u001B[38;5;124;03mParameter\u001B[39;00m\n\u001B[1;32m   (...)\u001B[0m\n\u001B[0;32m    689\u001B[0m \u001B[38;5;124;03m    compiler pipeline\u001B[39;00m\n\u001B[0;32m    690\u001B[0m \u001B[38;5;124;03m\"\"\"\u001B[39;00m\n\u001B[0;32m    691\u001B[0m pipeline \u001B[38;5;241m=\u001B[39m pipeline_class(typingctx, targetctx, library,\n\u001B[0;32m    692\u001B[0m                           args, return_type, flags, \u001B[38;5;28mlocals\u001B[39m)\n\u001B[1;32m--> 693\u001B[0m \u001B[38;5;28;01mreturn\u001B[39;00m \u001B[43mpipeline\u001B[49m\u001B[38;5;241;43m.\u001B[39;49m\u001B[43mcompile_extra\u001B[49m\u001B[43m(\u001B[49m\u001B[43mfunc\u001B[49m\u001B[43m)\u001B[49m\n",
      "File \u001B[1;32m~\\.conda\\envs\\qopt_tensorflow\\lib\\site-packages\\numba\\core\\compiler.py:429\u001B[0m, in \u001B[0;36mCompilerBase.compile_extra\u001B[1;34m(self, func)\u001B[0m\n\u001B[0;32m    427\u001B[0m \u001B[38;5;28mself\u001B[39m\u001B[38;5;241m.\u001B[39mstate\u001B[38;5;241m.\u001B[39mlifted \u001B[38;5;241m=\u001B[39m ()\n\u001B[0;32m    428\u001B[0m \u001B[38;5;28mself\u001B[39m\u001B[38;5;241m.\u001B[39mstate\u001B[38;5;241m.\u001B[39mlifted_from \u001B[38;5;241m=\u001B[39m \u001B[38;5;28;01mNone\u001B[39;00m\n\u001B[1;32m--> 429\u001B[0m \u001B[38;5;28;01mreturn\u001B[39;00m \u001B[38;5;28;43mself\u001B[39;49m\u001B[38;5;241;43m.\u001B[39;49m\u001B[43m_compile_bytecode\u001B[49m\u001B[43m(\u001B[49m\u001B[43m)\u001B[49m\n",
      "File \u001B[1;32m~\\.conda\\envs\\qopt_tensorflow\\lib\\site-packages\\numba\\core\\compiler.py:497\u001B[0m, in \u001B[0;36mCompilerBase._compile_bytecode\u001B[1;34m(self)\u001B[0m\n\u001B[0;32m    493\u001B[0m \u001B[38;5;124;03m\"\"\"\u001B[39;00m\n\u001B[0;32m    494\u001B[0m \u001B[38;5;124;03mPopulate and run pipeline for bytecode input\u001B[39;00m\n\u001B[0;32m    495\u001B[0m \u001B[38;5;124;03m\"\"\"\u001B[39;00m\n\u001B[0;32m    496\u001B[0m \u001B[38;5;28;01massert\u001B[39;00m \u001B[38;5;28mself\u001B[39m\u001B[38;5;241m.\u001B[39mstate\u001B[38;5;241m.\u001B[39mfunc_ir \u001B[38;5;129;01mis\u001B[39;00m \u001B[38;5;28;01mNone\u001B[39;00m\n\u001B[1;32m--> 497\u001B[0m \u001B[38;5;28;01mreturn\u001B[39;00m \u001B[38;5;28;43mself\u001B[39;49m\u001B[38;5;241;43m.\u001B[39;49m\u001B[43m_compile_core\u001B[49m\u001B[43m(\u001B[49m\u001B[43m)\u001B[49m\n",
      "File \u001B[1;32m~\\.conda\\envs\\qopt_tensorflow\\lib\\site-packages\\numba\\core\\compiler.py:476\u001B[0m, in \u001B[0;36mCompilerBase._compile_core\u001B[1;34m(self)\u001B[0m\n\u001B[0;32m    474\u001B[0m         \u001B[38;5;28mself\u001B[39m\u001B[38;5;241m.\u001B[39mstate\u001B[38;5;241m.\u001B[39mstatus\u001B[38;5;241m.\u001B[39mfail_reason \u001B[38;5;241m=\u001B[39m e\n\u001B[0;32m    475\u001B[0m         \u001B[38;5;28;01mif\u001B[39;00m is_final_pipeline:\n\u001B[1;32m--> 476\u001B[0m             \u001B[38;5;28;01mraise\u001B[39;00m e\n\u001B[0;32m    477\u001B[0m \u001B[38;5;28;01melse\u001B[39;00m:\n\u001B[0;32m    478\u001B[0m     \u001B[38;5;28;01mraise\u001B[39;00m CompilerError(\u001B[38;5;124m\"\u001B[39m\u001B[38;5;124mAll available pipelines exhausted\u001B[39m\u001B[38;5;124m\"\u001B[39m)\n",
      "File \u001B[1;32m~\\.conda\\envs\\qopt_tensorflow\\lib\\site-packages\\numba\\core\\compiler.py:463\u001B[0m, in \u001B[0;36mCompilerBase._compile_core\u001B[1;34m(self)\u001B[0m\n\u001B[0;32m    461\u001B[0m res \u001B[38;5;241m=\u001B[39m \u001B[38;5;28;01mNone\u001B[39;00m\n\u001B[0;32m    462\u001B[0m \u001B[38;5;28;01mtry\u001B[39;00m:\n\u001B[1;32m--> 463\u001B[0m     \u001B[43mpm\u001B[49m\u001B[38;5;241;43m.\u001B[39;49m\u001B[43mrun\u001B[49m\u001B[43m(\u001B[49m\u001B[38;5;28;43mself\u001B[39;49m\u001B[38;5;241;43m.\u001B[39;49m\u001B[43mstate\u001B[49m\u001B[43m)\u001B[49m\n\u001B[0;32m    464\u001B[0m     \u001B[38;5;28;01mif\u001B[39;00m \u001B[38;5;28mself\u001B[39m\u001B[38;5;241m.\u001B[39mstate\u001B[38;5;241m.\u001B[39mcr \u001B[38;5;129;01mis\u001B[39;00m \u001B[38;5;129;01mnot\u001B[39;00m \u001B[38;5;28;01mNone\u001B[39;00m:\n\u001B[0;32m    465\u001B[0m         \u001B[38;5;28;01mbreak\u001B[39;00m\n",
      "File \u001B[1;32m~\\.conda\\envs\\qopt_tensorflow\\lib\\site-packages\\numba\\core\\compiler_machinery.py:353\u001B[0m, in \u001B[0;36mPassManager.run\u001B[1;34m(self, state)\u001B[0m\n\u001B[0;32m    350\u001B[0m msg \u001B[38;5;241m=\u001B[39m \u001B[38;5;124m\"\u001B[39m\u001B[38;5;124mFailed in \u001B[39m\u001B[38;5;132;01m%s\u001B[39;00m\u001B[38;5;124m mode pipeline (step: \u001B[39m\u001B[38;5;132;01m%s\u001B[39;00m\u001B[38;5;124m)\u001B[39m\u001B[38;5;124m\"\u001B[39m \u001B[38;5;241m%\u001B[39m \\\n\u001B[0;32m    351\u001B[0m     (\u001B[38;5;28mself\u001B[39m\u001B[38;5;241m.\u001B[39mpipeline_name, pass_desc)\n\u001B[0;32m    352\u001B[0m patched_exception \u001B[38;5;241m=\u001B[39m \u001B[38;5;28mself\u001B[39m\u001B[38;5;241m.\u001B[39m_patch_error(msg, e)\n\u001B[1;32m--> 353\u001B[0m \u001B[38;5;28;01mraise\u001B[39;00m patched_exception\n",
      "File \u001B[1;32m~\\.conda\\envs\\qopt_tensorflow\\lib\\site-packages\\numba\\core\\compiler_machinery.py:341\u001B[0m, in \u001B[0;36mPassManager.run\u001B[1;34m(self, state)\u001B[0m\n\u001B[0;32m    339\u001B[0m pass_inst \u001B[38;5;241m=\u001B[39m _pass_registry\u001B[38;5;241m.\u001B[39mget(pss)\u001B[38;5;241m.\u001B[39mpass_inst\n\u001B[0;32m    340\u001B[0m \u001B[38;5;28;01mif\u001B[39;00m \u001B[38;5;28misinstance\u001B[39m(pass_inst, CompilerPass):\n\u001B[1;32m--> 341\u001B[0m     \u001B[38;5;28;43mself\u001B[39;49m\u001B[38;5;241;43m.\u001B[39;49m\u001B[43m_runPass\u001B[49m\u001B[43m(\u001B[49m\u001B[43midx\u001B[49m\u001B[43m,\u001B[49m\u001B[43m \u001B[49m\u001B[43mpass_inst\u001B[49m\u001B[43m,\u001B[49m\u001B[43m \u001B[49m\u001B[43mstate\u001B[49m\u001B[43m)\u001B[49m\n\u001B[0;32m    342\u001B[0m \u001B[38;5;28;01melse\u001B[39;00m:\n\u001B[0;32m    343\u001B[0m     \u001B[38;5;28;01mraise\u001B[39;00m \u001B[38;5;167;01mBaseException\u001B[39;00m(\u001B[38;5;124m\"\u001B[39m\u001B[38;5;124mLegacy pass in use\u001B[39m\u001B[38;5;124m\"\u001B[39m)\n",
      "File \u001B[1;32m~\\.conda\\envs\\qopt_tensorflow\\lib\\site-packages\\numba\\core\\compiler_lock.py:35\u001B[0m, in \u001B[0;36m_CompilerLock.__call__.<locals>._acquire_compile_lock\u001B[1;34m(*args, **kwargs)\u001B[0m\n\u001B[0;32m     32\u001B[0m \u001B[38;5;129m@functools\u001B[39m\u001B[38;5;241m.\u001B[39mwraps(func)\n\u001B[0;32m     33\u001B[0m \u001B[38;5;28;01mdef\u001B[39;00m \u001B[38;5;21m_acquire_compile_lock\u001B[39m(\u001B[38;5;241m*\u001B[39margs, \u001B[38;5;241m*\u001B[39m\u001B[38;5;241m*\u001B[39mkwargs):\n\u001B[0;32m     34\u001B[0m     \u001B[38;5;28;01mwith\u001B[39;00m \u001B[38;5;28mself\u001B[39m:\n\u001B[1;32m---> 35\u001B[0m         \u001B[38;5;28;01mreturn\u001B[39;00m func(\u001B[38;5;241m*\u001B[39margs, \u001B[38;5;241m*\u001B[39m\u001B[38;5;241m*\u001B[39mkwargs)\n",
      "File \u001B[1;32m~\\.conda\\envs\\qopt_tensorflow\\lib\\site-packages\\numba\\core\\compiler_machinery.py:296\u001B[0m, in \u001B[0;36mPassManager._runPass\u001B[1;34m(self, index, pss, internal_state)\u001B[0m\n\u001B[0;32m    294\u001B[0m     mutated \u001B[38;5;241m|\u001B[39m\u001B[38;5;241m=\u001B[39m check(pss\u001B[38;5;241m.\u001B[39mrun_initialization, internal_state)\n\u001B[0;32m    295\u001B[0m \u001B[38;5;28;01mwith\u001B[39;00m SimpleTimer() \u001B[38;5;28;01mas\u001B[39;00m pass_time:\n\u001B[1;32m--> 296\u001B[0m     mutated \u001B[38;5;241m|\u001B[39m\u001B[38;5;241m=\u001B[39m \u001B[43mcheck\u001B[49m\u001B[43m(\u001B[49m\u001B[43mpss\u001B[49m\u001B[38;5;241;43m.\u001B[39;49m\u001B[43mrun_pass\u001B[49m\u001B[43m,\u001B[49m\u001B[43m \u001B[49m\u001B[43minternal_state\u001B[49m\u001B[43m)\u001B[49m\n\u001B[0;32m    297\u001B[0m \u001B[38;5;28;01mwith\u001B[39;00m SimpleTimer() \u001B[38;5;28;01mas\u001B[39;00m finalize_time:\n\u001B[0;32m    298\u001B[0m     mutated \u001B[38;5;241m|\u001B[39m\u001B[38;5;241m=\u001B[39m check(pss\u001B[38;5;241m.\u001B[39mrun_finalizer, internal_state)\n",
      "File \u001B[1;32m~\\.conda\\envs\\qopt_tensorflow\\lib\\site-packages\\numba\\core\\compiler_machinery.py:269\u001B[0m, in \u001B[0;36mPassManager._runPass.<locals>.check\u001B[1;34m(func, compiler_state)\u001B[0m\n\u001B[0;32m    268\u001B[0m \u001B[38;5;28;01mdef\u001B[39;00m \u001B[38;5;21mcheck\u001B[39m(func, compiler_state):\n\u001B[1;32m--> 269\u001B[0m     mangled \u001B[38;5;241m=\u001B[39m \u001B[43mfunc\u001B[49m\u001B[43m(\u001B[49m\u001B[43mcompiler_state\u001B[49m\u001B[43m)\u001B[49m\n\u001B[0;32m    270\u001B[0m     \u001B[38;5;28;01mif\u001B[39;00m mangled \u001B[38;5;129;01mnot\u001B[39;00m \u001B[38;5;129;01min\u001B[39;00m (\u001B[38;5;28;01mTrue\u001B[39;00m, \u001B[38;5;28;01mFalse\u001B[39;00m):\n\u001B[0;32m    271\u001B[0m         msg \u001B[38;5;241m=\u001B[39m (\u001B[38;5;124m\"\u001B[39m\u001B[38;5;124mCompilerPass implementations should return True/False. \u001B[39m\u001B[38;5;124m\"\u001B[39m\n\u001B[0;32m    272\u001B[0m                \u001B[38;5;124m\"\u001B[39m\u001B[38;5;124mCompilerPass with name \u001B[39m\u001B[38;5;124m'\u001B[39m\u001B[38;5;132;01m%s\u001B[39;00m\u001B[38;5;124m'\u001B[39m\u001B[38;5;124m did not.\u001B[39m\u001B[38;5;124m\"\u001B[39m)\n",
      "File \u001B[1;32m~\\.conda\\envs\\qopt_tensorflow\\lib\\site-packages\\numba\\core\\object_mode_passes.py:53\u001B[0m, in \u001B[0;36mObjectModeFrontEnd.run_pass\u001B[1;34m(self, state)\u001B[0m\n\u001B[0;32m     51\u001B[0m \u001B[38;5;28;01mif\u001B[39;00m state\u001B[38;5;241m.\u001B[39mflags\u001B[38;5;241m.\u001B[39menable_looplift:\n\u001B[0;32m     52\u001B[0m     \u001B[38;5;28;01massert\u001B[39;00m \u001B[38;5;129;01mnot\u001B[39;00m state\u001B[38;5;241m.\u001B[39mlifted\n\u001B[1;32m---> 53\u001B[0m     cres \u001B[38;5;241m=\u001B[39m \u001B[38;5;28;43mself\u001B[39;49m\u001B[38;5;241;43m.\u001B[39;49m\u001B[43m_frontend_looplift\u001B[49m\u001B[43m(\u001B[49m\u001B[43mstate\u001B[49m\u001B[43m)\u001B[49m\n\u001B[0;32m     54\u001B[0m     \u001B[38;5;28;01mif\u001B[39;00m cres \u001B[38;5;129;01mis\u001B[39;00m \u001B[38;5;129;01mnot\u001B[39;00m \u001B[38;5;28;01mNone\u001B[39;00m:\n\u001B[0;32m     55\u001B[0m         \u001B[38;5;28;01mraise\u001B[39;00m _EarlyPipelineCompletion(cres)\n",
      "File \u001B[1;32m~\\.conda\\envs\\qopt_tensorflow\\lib\\site-packages\\numba\\core\\object_mode_passes.py:29\u001B[0m, in \u001B[0;36mObjectModeFrontEnd._frontend_looplift\u001B[1;34m(self, state)\u001B[0m\n\u001B[0;32m     26\u001B[0m     loop_flags\u001B[38;5;241m.\u001B[39menable_pyobject \u001B[38;5;241m=\u001B[39m \u001B[38;5;28;01mFalse\u001B[39;00m\n\u001B[0;32m     27\u001B[0m loop_flags\u001B[38;5;241m.\u001B[39menable_ssa \u001B[38;5;241m=\u001B[39m \u001B[38;5;28;01mFalse\u001B[39;00m\n\u001B[1;32m---> 29\u001B[0m main, loops \u001B[38;5;241m=\u001B[39m \u001B[43mtransforms\u001B[49m\u001B[38;5;241;43m.\u001B[39;49m\u001B[43mloop_lifting\u001B[49m\u001B[43m(\u001B[49m\u001B[43mstate\u001B[49m\u001B[38;5;241;43m.\u001B[39;49m\u001B[43mfunc_ir\u001B[49m\u001B[43m,\u001B[49m\n\u001B[0;32m     30\u001B[0m \u001B[43m                                      \u001B[49m\u001B[43mtypingctx\u001B[49m\u001B[38;5;241;43m=\u001B[39;49m\u001B[43mstate\u001B[49m\u001B[38;5;241;43m.\u001B[39;49m\u001B[43mtypingctx\u001B[49m\u001B[43m,\u001B[49m\n\u001B[0;32m     31\u001B[0m \u001B[43m                                      \u001B[49m\u001B[43mtargetctx\u001B[49m\u001B[38;5;241;43m=\u001B[39;49m\u001B[43mstate\u001B[49m\u001B[38;5;241;43m.\u001B[39;49m\u001B[43mtargetctx\u001B[49m\u001B[43m,\u001B[49m\n\u001B[0;32m     32\u001B[0m \u001B[43m                                      \u001B[49m\u001B[38;5;28;43mlocals\u001B[39;49m\u001B[38;5;241;43m=\u001B[39;49m\u001B[43mstate\u001B[49m\u001B[38;5;241;43m.\u001B[39;49m\u001B[43mlocals\u001B[49m\u001B[43m,\u001B[49m\n\u001B[0;32m     33\u001B[0m \u001B[43m                                      \u001B[49m\u001B[43mflags\u001B[49m\u001B[38;5;241;43m=\u001B[39;49m\u001B[43mloop_flags\u001B[49m\u001B[43m)\u001B[49m\n\u001B[0;32m     34\u001B[0m \u001B[38;5;28;01mif\u001B[39;00m loops:\n\u001B[0;32m     35\u001B[0m     \u001B[38;5;66;03m# Some loops were extracted\u001B[39;00m\n\u001B[0;32m     36\u001B[0m     \u001B[38;5;28;01mif\u001B[39;00m config\u001B[38;5;241m.\u001B[39mDEBUG_FRONTEND \u001B[38;5;129;01mor\u001B[39;00m config\u001B[38;5;241m.\u001B[39mDEBUG:\n",
      "File \u001B[1;32m~\\.conda\\envs\\qopt_tensorflow\\lib\\site-packages\\numba\\core\\transforms.py:263\u001B[0m, in \u001B[0;36mloop_lifting\u001B[1;34m(func_ir, typingctx, targetctx, flags, locals)\u001B[0m\n\u001B[0;32m    256\u001B[0m \u001B[38;5;28;01mdef\u001B[39;00m \u001B[38;5;21mloop_lifting\u001B[39m(func_ir, typingctx, targetctx, flags, \u001B[38;5;28mlocals\u001B[39m):\n\u001B[0;32m    257\u001B[0m     \u001B[38;5;124;03m\"\"\"\u001B[39;00m\n\u001B[0;32m    258\u001B[0m \u001B[38;5;124;03m    Loop lifting transformation.\u001B[39;00m\n\u001B[0;32m    259\u001B[0m \n\u001B[0;32m    260\u001B[0m \u001B[38;5;124;03m    Given a interpreter `func_ir` returns a 2 tuple of\u001B[39;00m\n\u001B[0;32m    261\u001B[0m \u001B[38;5;124;03m    `(toplevel_interp, [loop0_interp, loop1_interp, ....])`\u001B[39;00m\n\u001B[0;32m    262\u001B[0m \u001B[38;5;124;03m    \"\"\"\u001B[39;00m\n\u001B[1;32m--> 263\u001B[0m     func_ir \u001B[38;5;241m=\u001B[39m \u001B[43m_pre_looplift_transform\u001B[49m\u001B[43m(\u001B[49m\u001B[43mfunc_ir\u001B[49m\u001B[43m)\u001B[49m\n\u001B[0;32m    264\u001B[0m     blocks \u001B[38;5;241m=\u001B[39m func_ir\u001B[38;5;241m.\u001B[39mblocks\u001B[38;5;241m.\u001B[39mcopy()\n\u001B[0;32m    265\u001B[0m     cfg \u001B[38;5;241m=\u001B[39m compute_cfg_from_blocks(blocks)\n",
      "File \u001B[1;32m~\\.conda\\envs\\qopt_tensorflow\\lib\\site-packages\\numba\\core\\transforms.py:247\u001B[0m, in \u001B[0;36m_pre_looplift_transform\u001B[1;34m(func_ir)\u001B[0m\n\u001B[0;32m    245\u001B[0m \u001B[38;5;28;01mfor\u001B[39;00m loop_info \u001B[38;5;129;01min\u001B[39;00m cfg\u001B[38;5;241m.\u001B[39mloops()\u001B[38;5;241m.\u001B[39mvalues():\n\u001B[0;32m    246\u001B[0m     \u001B[38;5;28;01mif\u001B[39;00m _has_multiple_loop_exits(cfg, loop_info):\n\u001B[1;32m--> 247\u001B[0m         func_ir, _common_key \u001B[38;5;241m=\u001B[39m \u001B[43m_fix_multi_exit_blocks\u001B[49m\u001B[43m(\u001B[49m\n\u001B[0;32m    248\u001B[0m \u001B[43m            \u001B[49m\u001B[43mfunc_ir\u001B[49m\u001B[43m,\u001B[49m\u001B[43m \u001B[49m\u001B[43mloop_info\u001B[49m\u001B[38;5;241;43m.\u001B[39;49m\u001B[43mexits\u001B[49m\n\u001B[0;32m    249\u001B[0m \u001B[43m        \u001B[49m\u001B[43m)\u001B[49m\n\u001B[0;32m    250\u001B[0m \u001B[38;5;66;03m# Reset and reprocess the func_ir\u001B[39;00m\n\u001B[0;32m    251\u001B[0m func_ir\u001B[38;5;241m.\u001B[39m_reset_analysis_variables()\n",
      "File \u001B[1;32m~\\.conda\\envs\\qopt_tensorflow\\lib\\site-packages\\numba\\core\\transforms.py:908\u001B[0m, in \u001B[0;36m_fix_multi_exit_blocks\u001B[1;34m(func_ir, exit_nodes, split_condition)\u001B[0m\n\u001B[0;32m    896\u001B[0m switch_block\u001B[38;5;241m.\u001B[39mbody\u001B[38;5;241m.\u001B[39mappend(\n\u001B[0;32m    897\u001B[0m     ir\u001B[38;5;241m.\u001B[39mAssign(\n\u001B[0;32m    898\u001B[0m         value\u001B[38;5;241m=\u001B[39mir\u001B[38;5;241m.\u001B[39mExpr\u001B[38;5;241m.\u001B[39mbinop(\n\u001B[1;32m   (...)\u001B[0m\n\u001B[0;32m    904\u001B[0m     ),\n\u001B[0;32m    905\u001B[0m )\n\u001B[0;32m    907\u001B[0m \u001B[38;5;66;03m# Insert jump to the next case\u001B[39;00m\n\u001B[1;32m--> 908\u001B[0m [jump_target] \u001B[38;5;241m=\u001B[39m remain[\u001B[38;5;241m-\u001B[39m\u001B[38;5;241m1\u001B[39m]\u001B[38;5;241m.\u001B[39mget_targets()\n\u001B[0;32m    909\u001B[0m switch_block\u001B[38;5;241m.\u001B[39mbody\u001B[38;5;241m.\u001B[39mappend(\n\u001B[0;32m    910\u001B[0m     ir\u001B[38;5;241m.\u001B[39mBranch(match_expr, jump_target, remain_blocks[i], loc\u001B[38;5;241m=\u001B[39mloc),\n\u001B[0;32m    911\u001B[0m )\n\u001B[0;32m    912\u001B[0m switch_block \u001B[38;5;241m=\u001B[39m ir\u001B[38;5;241m.\u001B[39mBlock(scope\u001B[38;5;241m=\u001B[39mscope, loc\u001B[38;5;241m=\u001B[39mloc)\n",
      "\u001B[1;31mValueError\u001B[0m: Failed in object mode pipeline (step: object mode frontend)\ntoo many values to unpack (expected 1)"
     ]
    }
   ],
   "source": [
    "solver.set_optimization_parameters(np.ones((1, 1)))\n",
    "solver._jit_compute_propagation()\n",
    "\n",
    "start = time.time()\n",
    "solver._jit_compute_propagation()\n",
    "end = time.time()\n",
    "print(end- start)"
   ],
   "metadata": {
    "collapsed": false,
    "pycharm": {
     "name": "#%%\n"
    }
   }
  },
  {
   "cell_type": "code",
   "execution_count": null,
   "outputs": [],
   "source": [
    "\n",
    "\n",
    "start = time.time()\n",
    "solver._compute_propagation()\n",
    "end = time.time()\n",
    "print(end- start)"
   ],
   "metadata": {
    "collapsed": false,
    "pycharm": {
     "name": "#%%\n"
    }
   }
  },
  {
   "cell_type": "code",
   "execution_count": null,
   "outputs": [],
   "source": [],
   "metadata": {
    "collapsed": false,
    "pycharm": {
     "name": "#%%\n"
    }
   }
  }
 ],
 "metadata": {
  "kernelspec": {
   "display_name": "Python 3",
   "language": "python",
   "name": "python3"
  },
  "language_info": {
   "codemirror_mode": {
    "name": "ipython",
    "version": 2
   },
   "file_extension": ".py",
   "mimetype": "text/x-python",
   "name": "python",
   "nbconvert_exporter": "python",
   "pygments_lexer": "ipython2",
   "version": "2.7.6"
  }
 },
 "nbformat": 4,
 "nbformat_minor": 0
}