{
 "cells": [
  {
   "cell_type": "code",
   "execution_count": 1,
   "metadata": {
    "collapsed": true,
    "pycharm": {
     "name": "#%%\n"
    }
   },
   "outputs": [
    {
     "name": "stderr",
     "output_type": "stream",
     "text": [
      "C:\\Users\\julia\\Documents\\qopt\\qopt\\matrix.py:80: UserWarning: Qutip not installed. plot_bloch_vector_evolution() is not available\n",
      "  warn('Qutip not installed. plot_bloch_vector_evolution() is not available')\n",
      "C:\\Users\\julia\\.conda\\envs\\qopt_tensorflow\\lib\\site-packages\\filter_functions\\plotting.py:68: UserWarning: Qutip not installed. plot_bloch_vector_evolution() is not available\n",
      "  warn('Qutip not installed. plot_bloch_vector_evolution() is not available')\n",
      "C:\\Users\\julia\\Documents\\qopt\\qopt\\optimize.py:88: UserWarning: simanneal not installed. SimulatedAnnealing is not available\n",
      "  warn('simanneal not installed. '\n",
      "C:\\Users\\julia\\Documents\\qopt\\qopt\\plotting.py:55: UserWarning: Qutip not installed. plot_bloch_vector_evolution() is not available\n",
      "  warn('Qutip not installed. plot_bloch_vector_evolution() is not available')\n"
     ]
    }
   ],
   "source": [
    "import tensorflow as tf\n",
    "import time\n",
    "import numpy as np\n",
    "from qopt import *\n",
    "from qopt.solver_algorithms import Solver\n",
    "from qopt.tensorflow_cost_func import TensorFlowProcessInfid\n",
    "from qopt.tensorflow_solver_algs import TensorFlowSolver\n",
    "from qopt.tensorflow_simulator import TensorFlowSimulator\n",
    "from qopt.tensorflow_optimize import TensorFlowScipyOptimizer"
   ]
  },
  {
   "cell_type": "code",
   "execution_count": 2,
   "outputs": [],
   "source": [
    "target = (.5 * DenseOperator.pauli_x()).exp(tau=1 * -1j)"
   ],
   "metadata": {
    "collapsed": false,
    "pycharm": {
     "name": "#%%\n"
    }
   }
  },
  {
   "cell_type": "code",
   "execution_count": null,
   "outputs": [],
   "source": [
    "total_time = np.pi\n",
    "n_time_steps = int(1e2)\n",
    "delta_t = total_time / n_time_steps\n",
    "\n",
    "solver = TensorFlowSolver(\n",
    "    h_ctrl=[.5 * DenseOperator.pauli_x()],\n",
    "    h_drift=[0 * DenseOperator.pauli_x()] * n_time_steps,\n",
    "    tau=delta_t * np.ones(n_time_steps)\n",
    ")\n",
    "default_opt_pars = tf.Variable(np.ones((n_time_steps, 1)))"
   ],
   "metadata": {
    "collapsed": false,
    "pycharm": {
     "name": "#%%\n"
    }
   }
  },
  {
   "cell_type": "code",
   "execution_count": null,
   "outputs": [],
   "source": [],
   "metadata": {
    "collapsed": false,
    "pycharm": {
     "name": "#%%\n"
    }
   }
  },
  {
   "cell_type": "code",
   "execution_count": 1,
   "outputs": [
    {
     "ename": "NameError",
     "evalue": "name 'solver' is not defined",
     "output_type": "error",
     "traceback": [
      "\u001B[1;31m---------------------------------------------------------------------------\u001B[0m",
      "\u001B[1;31mNameError\u001B[0m                                 Traceback (most recent call last)",
      "Input \u001B[1;32mIn [1]\u001B[0m, in \u001B[0;36m<cell line: 1>\u001B[1;34m()\u001B[0m\n\u001B[1;32m----> 1\u001B[0m \u001B[43msolver\u001B[49m\u001B[38;5;241m.\u001B[39mset_optimization_parameters(default_opt_pars)\n",
      "\u001B[1;31mNameError\u001B[0m: name 'solver' is not defined"
     ]
    }
   ],
   "source": [
    "solver.set_optimization_parameters(default_opt_pars)\n"
   ],
   "metadata": {
    "collapsed": false,
    "pycharm": {
     "name": "#%%\n"
    }
   }
  },
  {
   "cell_type": "code",
   "execution_count": null,
   "outputs": [],
   "source": [
    "solver._create_dyn_gen(np.ones((n_time_steps, 1)))\n"
   ],
   "metadata": {
    "collapsed": false,
    "pycharm": {
     "name": "#%%\n"
    }
   }
  },
  {
   "cell_type": "code",
   "execution_count": 4,
   "outputs": [],
   "source": [],
   "metadata": {
    "collapsed": false,
    "pycharm": {
     "name": "#%%\n"
    }
   }
  },
  {
   "cell_type": "code",
   "execution_count": 2,
   "outputs": [
    {
     "ename": "NameError",
     "evalue": "name 'DenseOperator' is not defined",
     "output_type": "error",
     "traceback": [
      "\u001B[1;31m---------------------------------------------------------------------------\u001B[0m",
      "\u001B[1;31mNameError\u001B[0m                                 Traceback (most recent call last)",
      "Input \u001B[1;32mIn [2]\u001B[0m, in \u001B[0;36m<cell line: 1>\u001B[1;34m()\u001B[0m\n\u001B[1;32m----> 1\u001B[0m target \u001B[38;5;241m=\u001B[39m (\u001B[38;5;241m.\u001B[39m\u001B[38;5;241m5\u001B[39m \u001B[38;5;241m*\u001B[39m \u001B[43mDenseOperator\u001B[49m\u001B[38;5;241m.\u001B[39mpauli_x())\u001B[38;5;241m.\u001B[39mexp(tau\u001B[38;5;241m=\u001B[39mtotal_time \u001B[38;5;241m*\u001B[39m \u001B[38;5;241m-\u001B[39m\u001B[38;5;241m1\u001B[39mj)\n\u001B[0;32m      2\u001B[0m \u001B[38;5;241m1\u001B[39m \u001B[38;5;241m+\u001B[39m\u001B[38;5;241m1\u001B[39m\n",
      "\u001B[1;31mNameError\u001B[0m: name 'DenseOperator' is not defined"
     ]
    }
   ],
   "source": [
    "target = (.5 * DenseOperator.pauli_x()).exp(tau=total_time * -1j)\n",
    "1 +1"
   ],
   "metadata": {
    "collapsed": false,
    "pycharm": {
     "name": "#%%\n"
    }
   }
  },
  {
   "cell_type": "code",
   "execution_count": 1,
   "outputs": [
    {
     "data": {
      "text/plain": "2"
     },
     "execution_count": 1,
     "metadata": {},
     "output_type": "execute_result"
    }
   ],
   "source": [
    "1 +1"
   ],
   "metadata": {
    "collapsed": false,
    "pycharm": {
     "name": "#%%\n"
    }
   }
  },
  {
   "cell_type": "code",
   "execution_count": null,
   "outputs": [],
   "source": [
    "cost_func = TensorFlowProcessInfid(\n",
    "    solver=solver,\n",
    "    target=target\n",
    ")\n",
    "\n",
    "cost_func.costs()"
   ],
   "metadata": {
    "collapsed": false,
    "pycharm": {
     "name": "#%%\n"
    }
   }
  },
  {
   "cell_type": "code",
   "execution_count": null,
   "outputs": [],
   "source": [],
   "metadata": {
    "collapsed": false,
    "pycharm": {
     "name": "#%%\n"
    }
   }
  },
  {
   "cell_type": "code",
   "execution_count": null,
   "outputs": [],
   "source": [
    "target"
   ],
   "metadata": {
    "collapsed": false,
    "pycharm": {
     "name": "#%%\n"
    }
   }
  },
  {
   "cell_type": "code",
   "execution_count": null,
   "outputs": [],
   "source": [
    "solver.forward_propagators[-1]\n"
   ],
   "metadata": {
    "collapsed": false,
    "pycharm": {
     "name": "#%%\n"
    }
   }
  },
  {
   "cell_type": "code",
   "execution_count": null,
   "outputs": [],
   "source": [
    "\n",
    "solver.dyn_gen[-1]"
   ],
   "metadata": {
    "collapsed": false,
    "pycharm": {
     "name": "#%%\n"
    }
   }
  },
  {
   "cell_type": "code",
   "execution_count": null,
   "outputs": [],
   "source": [
    "solver._compute_forward_propagation()\n"
   ],
   "metadata": {
    "collapsed": false,
    "pycharm": {
     "name": "#%%\n"
    }
   }
  },
  {
   "cell_type": "code",
   "execution_count": null,
   "outputs": [],
   "source": [
    "solver.tau\n"
   ],
   "metadata": {
    "collapsed": false,
    "pycharm": {
     "name": "#%%\n"
    }
   }
  },
  {
   "cell_type": "code",
   "execution_count": null,
   "outputs": [],
   "source": [],
   "metadata": {
    "collapsed": false,
    "pycharm": {
     "name": "#%%\n"
    }
   }
  },
  {
   "cell_type": "code",
   "execution_count": null,
   "outputs": [],
   "source": [
    "\n",
    "\n",
    "start = time.time()\n",
    "solver._compute_propagation()\n",
    "end = time.time()\n",
    "print(end- start)"
   ],
   "metadata": {
    "collapsed": false,
    "pycharm": {
     "name": "#%%\n"
    }
   }
  },
  {
   "cell_type": "code",
   "execution_count": null,
   "outputs": [],
   "source": [
    "simulator = TensorFlowSimulator(\n",
    "    solvers=solver,\n",
    "    cost_funcs=cost_func\n",
    ")\n",
    "\n",
    "optimizer = TensorFlowScipyOptimizer(\n",
    "    simulator\n",
    ")\n"
   ],
   "metadata": {
    "collapsed": false,
    "pycharm": {
     "name": "#%%\n"
    }
   }
  },
  {
   "cell_type": "code",
   "execution_count": 7,
   "outputs": [
    {
     "data": {
      "text/plain": "(<tf.Tensor: shape=(), dtype=float64, numpy=2.2648549702353193e-14>,\n <tf.Tensor: shape=(100, 1), dtype=float64, numpy=\n array([[-2.36374655e-18],\n        [-2.36374655e-18],\n        [-2.23801535e-18],\n        [-2.11228415e-18],\n        [-2.51462399e-18],\n        [-2.48947775e-18],\n        [-2.69064767e-18],\n        [-2.89181759e-18],\n        [-2.31345407e-18],\n        [-3.04269503e-18],\n        [-3.62105855e-18],\n        [-3.99825215e-18],\n        [-4.40059199e-18],\n        [-4.87837054e-18],\n        [-4.80293182e-18],\n        [-5.23041790e-18],\n        [-3.47018111e-18],\n        [-2.59006271e-18],\n        [-4.40059199e-18],\n        [-4.37544575e-18],\n        [-5.20527166e-18],\n        [-5.15497918e-18],\n        [-5.10468670e-18],\n        [-5.11725982e-18],\n        [-5.11725982e-18],\n        [-5.16755230e-18],\n        [-6.92778910e-18],\n        [-4.36287263e-18],\n        [-3.48275423e-18],\n        [-2.65292831e-18],\n        [-1.74766367e-18],\n        [-8.56309648e-19],\n        [-1.33749060e-21],\n        [-1.33749060e-21],\n        [ 8.28488427e-19],\n        [-1.33749060e-21],\n        [ 8.78780907e-19],\n        [-4.27619828e-18],\n        [-3.39607988e-18],\n        [-3.42122612e-18],\n        [-7.80870928e-19],\n        [-4.22590580e-18],\n        [-7.80870928e-19],\n        [-1.66098933e-18],\n        [-2.54110772e-18],\n        [-8.31163408e-19],\n        [-1.68613557e-18],\n        [-2.46566900e-18],\n        [-5.08087795e-18],\n        [-4.25105204e-18],\n        [-6.86626099e-18],\n        [-4.22590580e-18],\n        [-5.13117043e-18],\n        [-6.01128883e-18],\n        [-5.10602419e-18],\n        [-5.96099635e-18],\n        [-3.39607988e-18],\n        [-6.01128883e-18],\n        [-3.34578740e-18],\n        [ 2.38087493e-20],\n        [ 2.38087493e-20],\n        [ 9.29073386e-19],\n        [ 8.78780907e-19],\n        [ 4.39925450e-18],\n        [ 2.68931018e-18],\n        [ 7.89458184e-18],\n        [ 9.57937992e-18],\n        [ 7.91972808e-18],\n        [ 8.78727336e-18],\n        [ 7.88200872e-18],\n        [ 6.18597502e-18],\n        [ 4.40059199e-18],\n        [ 5.28071038e-18],\n        [ 2.59006271e-18],\n        [ 2.64035519e-18],\n        [ 1.65965183e-18],\n        [ 9.05264637e-19],\n        [ 1.78538303e-18],\n        [ 8.54972157e-19],\n        [ 8.54972157e-19],\n        [ 1.68479807e-18],\n        [-2.51462399e-20],\n        [-2.51462399e-20],\n        [-2.16257663e-18],\n        [-2.18772287e-18],\n        [-3.52047359e-18],\n        [-3.09298751e-18],\n        [-3.06784127e-18],\n        [-2.23801535e-18],\n        [-2.11228415e-18],\n        [-1.28245824e-18],\n        [-6.03509758e-19],\n        [-8.04679677e-19],\n        [-8.54972157e-19],\n        [-3.52047359e-19],\n        [-3.52047359e-19],\n        [-2.51462399e-19],\n        [ 5.02924798e-20],\n        [ 1.25731200e-19],\n        [ 2.51462399e-20]])>)"
     },
     "execution_count": 7,
     "metadata": {},
     "output_type": "execute_result"
    }
   ],
   "source": [
    "from tensorflow_util import convert_to_constant_tensor, DEFAULT_FLOAT_TYPE\n",
    "import tensorflow_simulator\n",
    "import tensorflow_solver_algs\n",
    "import tensorflow_cost_func\n",
    "import tensorflow_optimize\n",
    "from importlib import reload\n",
    "import tensorflow as tf\n",
    "from qopt import *\n",
    "import numpy as np\n",
    "reload(tensorflow_simulator)\n",
    "reload(tensorflow_solver_algs)\n",
    "reload(tensorflow_cost_func)\n",
    "reload(tensorflow_optimize)\n",
    "\n",
    "n_time_steps = 100\n",
    "delta_t = np.pi / n_time_steps\n",
    "target = DenseOperator.pauli_x()\n",
    "\n",
    "tf.config.run_functions_eagerly(False)\n",
    "\n",
    "solver = tensorflow_solver_algs.TensorFlowSolver(\n",
    "    h_ctrl=[.5 * DenseOperator.pauli_x()],\n",
    "    h_drift=[0 * DenseOperator.pauli_x()] * n_time_steps,\n",
    "    tau=delta_t * np.ones(n_time_steps)\n",
    ")\n",
    "\n",
    "cost_func = tensorflow_cost_func.TensorFlowProcessInfid(\n",
    "    solver=solver,\n",
    "    target=target\n",
    ")\n",
    "\n",
    "simulator = tensorflow_simulator.TensorFlowSimulator(\n",
    "    solver=solver,\n",
    "    cost_func=cost_func\n",
    ")\n",
    "\n",
    "opt_pars = tf.Variable(\n",
    "    .5 * np.ones((n_time_steps, 1)),\n",
    "    dtype=DEFAULT_FLOAT_TYPE,\n",
    "    trainable=True\n",
    ")\n",
    "\n",
    "val, grad = simulator.value_and_gradient(opt_pars)\n",
    "val,grad"
   ],
   "metadata": {
    "collapsed": false,
    "pycharm": {
     "name": "#%%\n"
    }
   }
  },
  {
   "cell_type": "code",
   "execution_count": 67,
   "outputs": [
    {
     "data": {
      "text/plain": "<tf.Tensor: shape=(), dtype=float64, numpy=0.997566748859703>"
     },
     "execution_count": 67,
     "metadata": {},
     "output_type": "execute_result"
    }
   ],
   "source": [
    "cost_func.costs(opt_pars)"
   ],
   "metadata": {
    "collapsed": false,
    "pycharm": {
     "name": "#%%\n"
    }
   }
  },
  {
   "cell_type": "code",
   "execution_count": 5,
   "outputs": [
    {
     "name": "stderr",
     "output_type": "stream",
     "text": [
      "C:\\Users\\julia\\.conda\\envs\\qopt_tensorflow\\lib\\site-packages\\scipy\\optimize\\_differentiable_functions.py:107: ComplexWarning: Casting complex values to real discards the imaginary part\n",
      "  self.x = np.atleast_1d(x0).astype(float)\n",
      "C:\\Users\\julia\\.conda\\envs\\qopt_tensorflow\\lib\\site-packages\\scipy\\optimize\\lbfgsb.py:334: ComplexWarning: Casting complex values to real discards the imaginary part\n",
      "  x = array(x0, float64)\n"
     ]
    }
   ],
   "source": [
    "optimizer = tensorflow_optimize.TensorFlowScipyOptimizer(simulator=simulator)\n",
    "\n",
    "result = optimizer.run_optimization(opt_pars)"
   ],
   "metadata": {
    "collapsed": false,
    "pycharm": {
     "name": "#%%\n"
    }
   }
  },
  {
   "cell_type": "code",
   "execution_count": 6,
   "outputs": [
    {
     "data": {
      "text/plain": "      fun: 5.376810108259633e-12\n hess_inv: <100x100 LbfgsInvHessProduct with dtype=float64>\n      jac: array([-7.28232434e-08, -7.28232434e-08, -7.28232434e-08, -7.28232434e-08,\n       -7.28232434e-08, -7.28232434e-08, -7.28232434e-08, -7.28232434e-08,\n       -7.28232434e-08, -7.28232434e-08, -7.28232434e-08, -7.28232434e-08,\n       -7.28232434e-08, -7.28232434e-08, -7.28232434e-08, -7.28232434e-08,\n       -7.28232434e-08, -7.28232434e-08, -7.28232434e-08, -7.28232434e-08,\n       -7.28232434e-08, -7.28232434e-08, -7.28232434e-08, -7.28232434e-08,\n       -7.28232434e-08, -7.28232434e-08, -7.28232434e-08, -7.28232434e-08,\n       -7.28232434e-08, -7.28232434e-08, -7.28232434e-08, -7.28232434e-08,\n       -7.28232434e-08, -7.28232434e-08, -7.28232434e-08, -7.28232434e-08,\n       -7.28232434e-08, -7.28232434e-08, -7.28232434e-08, -7.28232434e-08,\n       -7.28232434e-08, -7.28232434e-08, -7.28232434e-08, -7.28232434e-08,\n       -7.28232434e-08, -7.28232434e-08, -7.28232434e-08, -7.28232434e-08,\n       -7.28232434e-08, -7.28232434e-08, -7.28232435e-08, -7.28232434e-08,\n       -7.28232434e-08, -7.28232434e-08, -7.28232434e-08, -7.28232434e-08,\n       -7.28232434e-08, -7.28232434e-08, -7.28232434e-08, -7.28232434e-08,\n       -7.28232434e-08, -7.28232434e-08, -7.28232434e-08, -7.28232434e-08,\n       -7.28232434e-08, -7.28232434e-08, -7.28232434e-08, -7.28232434e-08,\n       -7.28232434e-08, -7.28232434e-08, -7.28232434e-08, -7.28232434e-08,\n       -7.28232434e-08, -7.28232434e-08, -7.28232434e-08, -7.28232434e-08,\n       -7.28232434e-08, -7.28232434e-08, -7.28232434e-08, -7.28232434e-08,\n       -7.28232434e-08, -7.28232434e-08, -7.28232434e-08, -7.28232434e-08,\n       -7.28232434e-08, -7.28232434e-08, -7.28232434e-08, -7.28232434e-08,\n       -7.28232434e-08, -7.28232434e-08, -7.28232434e-08, -7.28232434e-08,\n       -7.28232434e-08, -7.28232434e-08, -7.28232434e-08, -7.28232434e-08,\n       -7.28232434e-08, -7.28232434e-08, -7.28232434e-08, -7.28232434e-08])\n  message: 'CONVERGENCE: NORM_OF_PROJECTED_GRADIENT_<=_PGTOL'\n     nfev: 9\n      nit: 3\n     njev: 9\n   status: 0\n  success: True\n        x: array([0.99999852, 0.99999852, 0.99999852, 0.99999852, 0.99999852,\n       0.99999852, 0.99999852, 0.99999852, 0.99999852, 0.99999852,\n       0.99999852, 0.99999852, 0.99999852, 0.99999852, 0.99999852,\n       0.99999852, 0.99999852, 0.99999852, 0.99999852, 0.99999852,\n       0.99999852, 0.99999852, 0.99999852, 0.99999852, 0.99999852,\n       0.99999852, 0.99999852, 0.99999852, 0.99999852, 0.99999852,\n       0.99999852, 0.99999852, 0.99999852, 0.99999852, 0.99999852,\n       0.99999852, 0.99999852, 0.99999852, 0.99999852, 0.99999852,\n       0.99999852, 0.99999852, 0.99999852, 0.99999852, 0.99999852,\n       0.99999852, 0.99999852, 0.99999852, 0.99999852, 0.99999852,\n       0.99999852, 0.99999852, 0.99999852, 0.99999852, 0.99999852,\n       0.99999852, 0.99999852, 0.99999852, 0.99999852, 0.99999852,\n       0.99999852, 0.99999852, 0.99999852, 0.99999852, 0.99999852,\n       0.99999852, 0.99999852, 0.99999852, 0.99999852, 0.99999852,\n       0.99999852, 0.99999852, 0.99999852, 0.99999852, 0.99999852,\n       0.99999852, 0.99999852, 0.99999852, 0.99999852, 0.99999852,\n       0.99999852, 0.99999852, 0.99999852, 0.99999852, 0.99999852,\n       0.99999852, 0.99999852, 0.99999852, 0.99999852, 0.99999852,\n       0.99999852, 0.99999852, 0.99999852, 0.99999852, 0.99999852,\n       0.99999852, 0.99999852, 0.99999852, 0.99999852, 0.99999852])"
     },
     "execution_count": 6,
     "metadata": {},
     "output_type": "execute_result"
    }
   ],
   "source": [
    "result"
   ],
   "metadata": {
    "collapsed": false,
    "pycharm": {
     "name": "#%%\n"
    }
   }
  },
  {
   "cell_type": "code",
   "execution_count": 34,
   "outputs": [],
   "source": [
    "with tf.GradientTape() as tape:\n",
    "    tape.watch(opt_pars)\n",
    "    forward_propagators = solver.set_optimization_parameters(opt_pars)\n",
    "    gradient = tape.gradient(forward_propagators, opt_pars)"
   ],
   "metadata": {
    "collapsed": false,
    "pycharm": {
     "name": "#%%\n"
    }
   }
  },
  {
   "cell_type": "code",
   "execution_count": 36,
   "outputs": [
    {
     "data": {
      "text/plain": "<tf.Tensor: shape=(100, 1), dtype=complex128, numpy=\narray([[1.+0.j],\n       [1.+0.j],\n       [1.+0.j],\n       [1.+0.j],\n       [1.+0.j],\n       [1.+0.j],\n       [1.+0.j],\n       [1.+0.j],\n       [1.+0.j],\n       [1.+0.j],\n       [1.+0.j],\n       [1.+0.j],\n       [1.+0.j],\n       [1.+0.j],\n       [1.+0.j],\n       [1.+0.j],\n       [1.+0.j],\n       [1.+0.j],\n       [1.+0.j],\n       [1.+0.j],\n       [1.+0.j],\n       [1.+0.j],\n       [1.+0.j],\n       [1.+0.j],\n       [1.+0.j],\n       [1.+0.j],\n       [1.+0.j],\n       [1.+0.j],\n       [1.+0.j],\n       [1.+0.j],\n       [1.+0.j],\n       [1.+0.j],\n       [1.+0.j],\n       [1.+0.j],\n       [1.+0.j],\n       [1.+0.j],\n       [1.+0.j],\n       [1.+0.j],\n       [1.+0.j],\n       [1.+0.j],\n       [1.+0.j],\n       [1.+0.j],\n       [1.+0.j],\n       [1.+0.j],\n       [1.+0.j],\n       [1.+0.j],\n       [1.+0.j],\n       [1.+0.j],\n       [1.+0.j],\n       [1.+0.j],\n       [1.+0.j],\n       [1.+0.j],\n       [1.+0.j],\n       [1.+0.j],\n       [1.+0.j],\n       [1.+0.j],\n       [1.+0.j],\n       [1.+0.j],\n       [1.+0.j],\n       [1.+0.j],\n       [1.+0.j],\n       [1.+0.j],\n       [1.+0.j],\n       [1.+0.j],\n       [1.+0.j],\n       [1.+0.j],\n       [1.+0.j],\n       [1.+0.j],\n       [1.+0.j],\n       [1.+0.j],\n       [1.+0.j],\n       [1.+0.j],\n       [1.+0.j],\n       [1.+0.j],\n       [1.+0.j],\n       [1.+0.j],\n       [1.+0.j],\n       [1.+0.j],\n       [1.+0.j],\n       [1.+0.j],\n       [1.+0.j],\n       [1.+0.j],\n       [1.+0.j],\n       [1.+0.j],\n       [1.+0.j],\n       [1.+0.j],\n       [1.+0.j],\n       [1.+0.j],\n       [1.+0.j],\n       [1.+0.j],\n       [1.+0.j],\n       [1.+0.j],\n       [1.+0.j],\n       [1.+0.j],\n       [1.+0.j],\n       [1.+0.j],\n       [1.+0.j],\n       [1.+0.j],\n       [1.+0.j],\n       [1.+0.j]])>"
     },
     "execution_count": 36,
     "metadata": {},
     "output_type": "execute_result"
    }
   ],
   "source": [
    "gradient"
   ],
   "metadata": {
    "collapsed": false,
    "pycharm": {
     "name": "#%%\n"
    }
   }
  },
  {
   "cell_type": "code",
   "execution_count": null,
   "outputs": [],
   "source": [
    "convert_to_constant_tensor(convert_to_constant_tensor(np.zeros((n_time_steps, 1))))"
   ],
   "metadata": {
    "collapsed": false,
    "pycharm": {
     "name": "#%%\n"
    }
   }
  },
  {
   "cell_type": "code",
   "execution_count": null,
   "outputs": [],
   "source": [
    "optimizer.run_optimization(\n",
    "    initial_opt_pars=tf.constant(convert_to_constant_tensor(np.zeros(n_time_steps)))\n",
    ")"
   ],
   "metadata": {
    "collapsed": false,
    "pycharm": {
     "name": "#%%\n"
    }
   }
  },
  {
   "cell_type": "code",
   "execution_count": null,
   "outputs": [],
   "source": [],
   "metadata": {
    "collapsed": false,
    "pycharm": {
     "name": "#%%\n"
    }
   }
  },
  {
   "cell_type": "code",
   "execution_count": null,
   "outputs": [],
   "source": [],
   "metadata": {
    "collapsed": false,
    "pycharm": {
     "name": "#%%\n"
    }
   }
  },
  {
   "cell_type": "code",
   "execution_count": null,
   "outputs": [],
   "source": [],
   "metadata": {
    "collapsed": false,
    "pycharm": {
     "name": "#%%\n"
    }
   }
  }
 ],
 "metadata": {
  "kernelspec": {
   "display_name": "Python 3",
   "language": "python",
   "name": "python3"
  },
  "language_info": {
   "codemirror_mode": {
    "name": "ipython",
    "version": 2
   },
   "file_extension": ".py",
   "mimetype": "text/x-python",
   "name": "python",
   "nbconvert_exporter": "python",
   "pygments_lexer": "ipython2",
   "version": "2.7.6"
  }
 },
 "nbformat": 4,
 "nbformat_minor": 0
}