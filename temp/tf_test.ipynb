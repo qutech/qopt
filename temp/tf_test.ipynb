{
 "cells": [
  {
   "cell_type": "code",
   "execution_count": 1,
   "metadata": {
    "collapsed": true,
    "pycharm": {
     "name": "#%%\n"
    }
   },
   "outputs": [],
   "source": [
    "from qopt import *\n",
    "import numpy as np\n",
    "import matplotlib.pyplot as plt"
   ]
  },
  {
   "cell_type": "code",
   "execution_count": 2,
   "outputs": [],
   "source": [
    "gaussian_filter = GaussianConvolution(\n",
    "    sigma=2,\n",
    "    # here the num_ctrls is the number of optimization parameters\n",
    "    num_ctrls=1\n",
    ")\n",
    "\n",
    "over_sampl = OversamplingTF(\n",
    "    # here the num_ctrls is the number of optimization parameters\n",
    "    num_ctrls=1,\n",
    "    bound_type=('n', 8),\n",
    "    oversampling=5,\n",
    ")\n",
    "\n",
    "transfer_func = ConcatenateTF(\n",
    "    tf1=over_sampl,\n",
    "    tf2=gaussian_filter\n",
    ")\n",
    "\n",
    "transfer_func.set_times(np.ones(10))"
   ],
   "metadata": {
    "collapsed": false,
    "pycharm": {
     "name": "#%%\n"
    }
   }
  },
  {
   "cell_type": "code",
   "execution_count": 3,
   "outputs": [
    {
     "data": {
      "text/plain": "[<matplotlib.lines.Line2D at 0x1a816a59cc8>]"
     },
     "execution_count": 3,
     "metadata": {},
     "output_type": "execute_result"
    },
    {
     "data": {
      "text/plain": "<Figure size 432x288 with 1 Axes>",
      "image/png": "[encoded data removed]"
     },
     "metadata": {
      "needs_background": "light"
     },
     "output_type": "display_data"
    }
   ],
   "source": [
    "plt.plot(transfer_func(np.ones((10,1))))"
   ],
   "metadata": {
    "collapsed": false,
    "pycharm": {
     "name": "#%%\n"
    }
   }
  }
 ],
 "metadata": {
  "kernelspec": {
   "display_name": "Python 3",
   "language": "python",
   "name": "python3"
  },
  "language_info": {
   "codemirror_mode": {
    "name": "ipython",
    "version": 2
   },
   "file_extension": ".py",
   "mimetype": "text/x-python",
   "name": "python",
   "nbconvert_exporter": "python",
   "pygments_lexer": "ipython2",
   "version": "2.7.6"
  }
 },
 "nbformat": 4,
 "nbformat_minor": 0
}