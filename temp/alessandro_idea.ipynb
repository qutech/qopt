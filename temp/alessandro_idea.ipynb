{
 "cells": [
  {
   "cell_type": "code",
   "execution_count": 5,
   "metadata": {
    "collapsed": true
   },
   "outputs": [
    {
     "ename": "ModuleNotFoundError",
     "evalue": "No module named 'jax'",
     "output_type": "error",
     "traceback": [
      "\u001B[1;31m---------------------------------------------------------------------------\u001B[0m",
      "\u001B[1;31mModuleNotFoundError\u001B[0m                       Traceback (most recent call last)",
      "\u001B[1;32m<ipython-input-5-d7c089fd4177>\u001B[0m in \u001B[0;36m<module>\u001B[1;34m\u001B[0m\n\u001B[1;32m----> 1\u001B[1;33m \u001B[1;32mfrom\u001B[0m \u001B[0mjax\u001B[0m \u001B[1;32mimport\u001B[0m \u001B[0mvmap\u001B[0m\u001B[1;33m,\u001B[0m \u001B[0mjit\u001B[0m\u001B[1;33m\u001B[0m\u001B[1;33m\u001B[0m\u001B[0m\n\u001B[0m\u001B[0;32m      2\u001B[0m \u001B[1;32mimport\u001B[0m \u001B[0mjax\u001B[0m\u001B[1;33m.\u001B[0m\u001B[0mnumpy\u001B[0m \u001B[1;32mas\u001B[0m \u001B[0mjnp\u001B[0m\u001B[1;33m\u001B[0m\u001B[1;33m\u001B[0m\u001B[0m\n\u001B[0;32m      3\u001B[0m \u001B[1;32mfrom\u001B[0m \u001B[0mjax\u001B[0m\u001B[1;33m.\u001B[0m\u001B[0mscipy\u001B[0m\u001B[1;33m.\u001B[0m\u001B[0mlinalg\u001B[0m \u001B[1;32mimport\u001B[0m \u001B[0mexpm\u001B[0m \u001B[1;32mas\u001B[0m \u001B[0mjexpm\u001B[0m\u001B[1;33m\u001B[0m\u001B[1;33m\u001B[0m\u001B[0m\n\u001B[0;32m      4\u001B[0m \u001B[1;33m\u001B[0m\u001B[0m\n\u001B[0;32m      5\u001B[0m \u001B[1;32mfrom\u001B[0m \u001B[0mfunctools\u001B[0m \u001B[1;32mimport\u001B[0m \u001B[0mpartial\u001B[0m\u001B[1;33m\u001B[0m\u001B[1;33m\u001B[0m\u001B[0m\n",
      "\u001B[1;31mModuleNotFoundError\u001B[0m: No module named 'jax'"
     ]
    }
   ],
   "source": [
    "from jax import vmap, jit\n",
    "import jax.numpy as jnp\n",
    "from jax.scipy.linalg import expm as jexpm\n",
    "\n",
    "from functools import partial\n",
    "\n",
    "from qopt.solver_algorithms import SchroedingerSolver\n",
    "\n",
    "class JaxSchroedingerSolver(SchroedingerSolver):\n",
    "\n",
    "    @staticmethod\n",
    "    def _expm(matrix):\n",
    "        return jexpm(matrix)\n",
    "\n",
    "    def ham(self, control_values):\n",
    "\n",
    "        ctrl_val_times_ctrl_ham = vmap(lambda x, y: x * y)(\n",
    "            control_values, self.h_ctrl)\n",
    "\n",
    "        tot_control_ham = jnp.sum(ctrl_val_times_ctrl_ham, axis=0)\n",
    "\n",
    "        return self.h_drift + tot_control_ham\n",
    "\n",
    "    def _ham_seq(self, control_seq):\n",
    "        return vmap(self.ham)(control_seq)\n",
    "\n",
    "    def _time_step_unitary(self, ham_matrix, dt):\n",
    "        unitary = self._expm(-1j * ham_matrix * dt)\n",
    "        return unitary\n",
    "\n",
    "    def _unitary_seq_from_ham_seq(self, hamiltonians, dt_s):\n",
    "        return vmap(self._time_step_unitary)(hamiltonians, dt_s)\n",
    "\n",
    "    @partial(jit, static_argnums=0)\n",
    "    def _unitary_seq(self, control_seq, dt_s):\n",
    "        hamiltonians = self._ham_seq(control_seq)\n",
    "        return self._unitary_seq_from_ham_seq(hamiltonians, dt_s)\n",
    "\n",
    "    def _compute_propagation(self):\n",
    "        self._prop = self._unitary_seq(self._ctrl_amps, self.transferred_time)"
   ]
  },
  {
   "cell_type": "code",
   "execution_count": null,
   "outputs": [],
   "source": [
    "import jax"
   ],
   "metadata": {
    "collapsed": false,
    "pycharm": {
     "name": "#%%\n"
    }
   }
  },
  {
   "cell_type": "code",
   "execution_count": null,
   "outputs": [],
   "source": [],
   "metadata": {
    "collapsed": false,
    "pycharm": {
     "name": "#%%\n"
    }
   }
  }
 ],
 "metadata": {
  "kernelspec": {
   "display_name": "Python 3",
   "language": "python",
   "name": "python3"
  },
  "language_info": {
   "codemirror_mode": {
    "name": "ipython",
    "version": 2
   },
   "file_extension": ".py",
   "mimetype": "text/x-python",
   "name": "python",
   "nbconvert_exporter": "python",
   "pygments_lexer": "ipython2",
   "version": "2.7.6"
  }
 },
 "nbformat": 4,
 "nbformat_minor": 0
}