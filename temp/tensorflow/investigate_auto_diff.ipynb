{
 "cells": [
  {
   "cell_type": "code",
   "execution_count": 1,
   "outputs": [
    {
     "name": "stderr",
     "output_type": "stream",
     "text": [
      "C:\\Users\\julia\\Documents\\qopt\\qopt\\matrix.py:80: UserWarning: Qutip not installed. plot_bloch_vector_evolution() is not available\n",
      "  warn('Qutip not installed. plot_bloch_vector_evolution() is not available')\n",
      "C:\\Users\\julia\\.conda\\envs\\qopt_tensorflow\\lib\\site-packages\\filter_functions\\plotting.py:68: UserWarning: Qutip not installed. plot_bloch_vector_evolution() is not available\n",
      "  warn('Qutip not installed. plot_bloch_vector_evolution() is not available')\n",
      "C:\\Users\\julia\\Documents\\qopt\\qopt\\optimize.py:88: UserWarning: simanneal not installed. SimulatedAnnealing is not available\n",
      "  warn('simanneal not installed. '\n",
      "C:\\Users\\julia\\Documents\\qopt\\qopt\\plotting.py:55: UserWarning: Qutip not installed. plot_bloch_vector_evolution() is not available\n",
      "  warn('Qutip not installed. plot_bloch_vector_evolution() is not available')\n"
     ]
    }
   ],
   "source": [
    "import tensorflow as tf\n",
    "import numpy as np\n",
    "from qopt.tensorflow_util import DEFAULT_FLOAT_TYPE, DEFAULT_COMPLEX_TYPE"
   ],
   "metadata": {
    "collapsed": false,
    "pycharm": {
     "name": "#%%\n"
    }
   }
  },
  {
   "cell_type": "code",
   "execution_count": 2,
   "outputs": [
    {
     "data": {
      "text/plain": "<tf.Tensor: shape=(2, 2), dtype=complex128, numpy=\narray([[0.+0.j, 1.+0.j],\n       [1.+0.j, 0.+0.j]])>"
     },
     "execution_count": 2,
     "metadata": {},
     "output_type": "execute_result"
    }
   ],
   "source": [
    "pauli_x = tf.constant(\n",
    "    np.asarray([[0, 1], [1, 0]]), dtype=DEFAULT_COMPLEX_TYPE\n",
    ")\n",
    "pauli_x"
   ],
   "metadata": {
    "collapsed": false,
    "pycharm": {
     "name": "#%%\n"
    }
   }
  },
  {
   "cell_type": "code",
   "execution_count": 6,
   "outputs": [],
   "source": [
    "def process_fidelity(x):\n",
    "    total_amp = tf.math.reduce_sum(x)\n",
    "    print(total_amp)\n",
    "    dyn_gen = total_amp * pauli_x * 1j\n",
    "    propagator = tf.linalg.expm(dyn_gen)\n",
    "    fidelity = tf.linalg.trace(pauli_x @ propagator)\n",
    "    fidelity = fidelity * tf.math.conj(fidelity) / 4\n",
    "    fidelity = tf.math.real(fidelity)\n",
    "    return fidelity"
   ],
   "metadata": {
    "collapsed": false,
    "pycharm": {
     "name": "#%%\n"
    }
   }
  },
  {
   "cell_type": "code",
   "execution_count": 7,
   "outputs": [
    {
     "name": "stdout",
     "output_type": "stream",
     "text": [
      "tf.Tensor(1.5707964, shape=(), dtype=float32)\n"
     ]
    },
    {
     "ename": "InvalidArgumentError",
     "evalue": "cannot compute Mul as input #1(zero-based) was expected to be a float tensor but is a complex128 tensor [Op:Mul]",
     "output_type": "error",
     "traceback": [
      "\u001B[1;31m---------------------------------------------------------------------------\u001B[0m",
      "\u001B[1;31mInvalidArgumentError\u001B[0m                      Traceback (most recent call last)",
      "Input \u001B[1;32mIn [7]\u001B[0m, in \u001B[0;36m<cell line: 1>\u001B[1;34m()\u001B[0m\n\u001B[1;32m----> 1\u001B[0m \u001B[43mprocess_fidelity\u001B[49m\u001B[43m(\u001B[49m\u001B[38;5;241;43m.\u001B[39;49m\u001B[38;5;241;43m5\u001B[39;49m\u001B[43m \u001B[49m\u001B[38;5;241;43m*\u001B[39;49m\u001B[43m \u001B[49m\u001B[43mnp\u001B[49m\u001B[38;5;241;43m.\u001B[39;49m\u001B[43mpi\u001B[49m\u001B[43m)\u001B[49m\n",
      "Input \u001B[1;32mIn [6]\u001B[0m, in \u001B[0;36mprocess_fidelity\u001B[1;34m(x)\u001B[0m\n\u001B[0;32m      2\u001B[0m total_amp \u001B[38;5;241m=\u001B[39m tf\u001B[38;5;241m.\u001B[39mmath\u001B[38;5;241m.\u001B[39mreduce_sum(x)\n\u001B[0;32m      3\u001B[0m \u001B[38;5;28mprint\u001B[39m(total_amp)\n\u001B[1;32m----> 4\u001B[0m dyn_gen \u001B[38;5;241m=\u001B[39m \u001B[43mtotal_amp\u001B[49m\u001B[43m \u001B[49m\u001B[38;5;241;43m*\u001B[39;49m\u001B[43m \u001B[49m\u001B[43mpauli_x\u001B[49m \u001B[38;5;241m*\u001B[39m \u001B[38;5;241m1\u001B[39mj\n\u001B[0;32m      5\u001B[0m propagator \u001B[38;5;241m=\u001B[39m tf\u001B[38;5;241m.\u001B[39mlinalg\u001B[38;5;241m.\u001B[39mexpm(dyn_gen)\n\u001B[0;32m      6\u001B[0m fidelity \u001B[38;5;241m=\u001B[39m tf\u001B[38;5;241m.\u001B[39mlinalg\u001B[38;5;241m.\u001B[39mtrace(pauli_x \u001B[38;5;241m@\u001B[39m propagator)\n",
      "File \u001B[1;32m~\\.conda\\envs\\qopt_tensorflow\\lib\\site-packages\\tensorflow\\python\\ops\\math_ops.py:1367\u001B[0m, in \u001B[0;36m_OverrideBinaryOperatorHelper.<locals>.binary_op_wrapper\u001B[1;34m(x, y)\u001B[0m\n\u001B[0;32m   1362\u001B[0m \u001B[38;5;28;01mtry\u001B[39;00m:\n\u001B[0;32m   1363\u001B[0m   \u001B[38;5;66;03m# force_same_dtype=False to preserve existing TF behavior\u001B[39;00m\n\u001B[0;32m   1364\u001B[0m   \u001B[38;5;66;03m# TODO(b/178860388): Figure out why binary_op_wrapper and\u001B[39;00m\n\u001B[0;32m   1365\u001B[0m   \u001B[38;5;66;03m#   r_binary_op_wrapper use different force_same_dtype values.\u001B[39;00m\n\u001B[0;32m   1366\u001B[0m   x, y \u001B[38;5;241m=\u001B[39m maybe_promote_tensors(x, y, force_same_dtype\u001B[38;5;241m=\u001B[39m\u001B[38;5;28;01mFalse\u001B[39;00m)\n\u001B[1;32m-> 1367\u001B[0m   \u001B[38;5;28;01mreturn\u001B[39;00m \u001B[43mfunc\u001B[49m\u001B[43m(\u001B[49m\u001B[43mx\u001B[49m\u001B[43m,\u001B[49m\u001B[43m \u001B[49m\u001B[43my\u001B[49m\u001B[43m,\u001B[49m\u001B[43m \u001B[49m\u001B[43mname\u001B[49m\u001B[38;5;241;43m=\u001B[39;49m\u001B[43mname\u001B[49m\u001B[43m)\u001B[49m\n\u001B[0;32m   1368\u001B[0m \u001B[38;5;28;01mexcept\u001B[39;00m (\u001B[38;5;167;01mTypeError\u001B[39;00m, \u001B[38;5;167;01mValueError\u001B[39;00m) \u001B[38;5;28;01mas\u001B[39;00m e:\n\u001B[0;32m   1369\u001B[0m   \u001B[38;5;66;03m# Even if dispatching the op failed, the RHS may be a tensor aware\u001B[39;00m\n\u001B[0;32m   1370\u001B[0m   \u001B[38;5;66;03m# object that can implement the operator with knowledge of itself\u001B[39;00m\n\u001B[1;32m   (...)\u001B[0m\n\u001B[0;32m   1373\u001B[0m   \u001B[38;5;66;03m# original error from the LHS, because it may be more\u001B[39;00m\n\u001B[0;32m   1374\u001B[0m   \u001B[38;5;66;03m# informative.\u001B[39;00m\n\u001B[0;32m   1375\u001B[0m   \u001B[38;5;28;01mif\u001B[39;00m \u001B[38;5;28mhasattr\u001B[39m(\u001B[38;5;28mtype\u001B[39m(y), \u001B[38;5;124m\"\u001B[39m\u001B[38;5;124m__r\u001B[39m\u001B[38;5;132;01m%s\u001B[39;00m\u001B[38;5;124m__\u001B[39m\u001B[38;5;124m\"\u001B[39m \u001B[38;5;241m%\u001B[39m op_name):\n",
      "File \u001B[1;32m~\\.conda\\envs\\qopt_tensorflow\\lib\\site-packages\\tensorflow\\python\\ops\\math_ops.py:1710\u001B[0m, in \u001B[0;36m_mul_dispatch\u001B[1;34m(x, y, name)\u001B[0m\n\u001B[0;32m   1708\u001B[0m   \u001B[38;5;28;01mreturn\u001B[39;00m sparse_tensor\u001B[38;5;241m.\u001B[39mSparseTensor(y\u001B[38;5;241m.\u001B[39mindices, new_vals, y\u001B[38;5;241m.\u001B[39mdense_shape)\n\u001B[0;32m   1709\u001B[0m \u001B[38;5;28;01melse\u001B[39;00m:\n\u001B[1;32m-> 1710\u001B[0m   \u001B[38;5;28;01mreturn\u001B[39;00m \u001B[43mmultiply\u001B[49m\u001B[43m(\u001B[49m\u001B[43mx\u001B[49m\u001B[43m,\u001B[49m\u001B[43m \u001B[49m\u001B[43my\u001B[49m\u001B[43m,\u001B[49m\u001B[43m \u001B[49m\u001B[43mname\u001B[49m\u001B[38;5;241;43m=\u001B[39;49m\u001B[43mname\u001B[49m\u001B[43m)\u001B[49m\n",
      "File \u001B[1;32m~\\.conda\\envs\\qopt_tensorflow\\lib\\site-packages\\tensorflow\\python\\util\\dispatch.py:206\u001B[0m, in \u001B[0;36madd_dispatch_support.<locals>.wrapper\u001B[1;34m(*args, **kwargs)\u001B[0m\n\u001B[0;32m    204\u001B[0m \u001B[38;5;124;03m\"\"\"Call target, and fall back on dispatchers if there is a TypeError.\"\"\"\u001B[39;00m\n\u001B[0;32m    205\u001B[0m \u001B[38;5;28;01mtry\u001B[39;00m:\n\u001B[1;32m--> 206\u001B[0m   \u001B[38;5;28;01mreturn\u001B[39;00m target(\u001B[38;5;241m*\u001B[39margs, \u001B[38;5;241m*\u001B[39m\u001B[38;5;241m*\u001B[39mkwargs)\n\u001B[0;32m    207\u001B[0m \u001B[38;5;28;01mexcept\u001B[39;00m (\u001B[38;5;167;01mTypeError\u001B[39;00m, \u001B[38;5;167;01mValueError\u001B[39;00m):\n\u001B[0;32m    208\u001B[0m   \u001B[38;5;66;03m# Note: convert_to_eager_tensor currently raises a ValueError, not a\u001B[39;00m\n\u001B[0;32m    209\u001B[0m   \u001B[38;5;66;03m# TypeError, when given unexpected types.  So we need to catch both.\u001B[39;00m\n\u001B[0;32m    210\u001B[0m   result \u001B[38;5;241m=\u001B[39m dispatch(wrapper, args, kwargs)\n",
      "File \u001B[1;32m~\\.conda\\envs\\qopt_tensorflow\\lib\\site-packages\\tensorflow\\python\\ops\\math_ops.py:530\u001B[0m, in \u001B[0;36mmultiply\u001B[1;34m(x, y, name)\u001B[0m\n\u001B[0;32m    482\u001B[0m \u001B[38;5;129m@tf_export\u001B[39m(\u001B[38;5;124m\"\u001B[39m\u001B[38;5;124mmath.multiply\u001B[39m\u001B[38;5;124m\"\u001B[39m, \u001B[38;5;124m\"\u001B[39m\u001B[38;5;124mmultiply\u001B[39m\u001B[38;5;124m\"\u001B[39m)\n\u001B[0;32m    483\u001B[0m \u001B[38;5;129m@dispatch\u001B[39m\u001B[38;5;241m.\u001B[39madd_dispatch_support\n\u001B[0;32m    484\u001B[0m \u001B[38;5;28;01mdef\u001B[39;00m \u001B[38;5;21mmultiply\u001B[39m(x, y, name\u001B[38;5;241m=\u001B[39m\u001B[38;5;28;01mNone\u001B[39;00m):\n\u001B[0;32m    485\u001B[0m   \u001B[38;5;124;03m\"\"\"Returns an element-wise x * y.\u001B[39;00m\n\u001B[0;32m    486\u001B[0m \n\u001B[0;32m    487\u001B[0m \u001B[38;5;124;03m  For example:\u001B[39;00m\n\u001B[1;32m   (...)\u001B[0m\n\u001B[0;32m    527\u001B[0m \u001B[38;5;124;03m   * InvalidArgumentError: When `x` and `y` have incompatible shapes or types.\u001B[39;00m\n\u001B[0;32m    528\u001B[0m \u001B[38;5;124;03m  \"\"\"\u001B[39;00m\n\u001B[1;32m--> 530\u001B[0m   \u001B[38;5;28;01mreturn\u001B[39;00m \u001B[43mgen_math_ops\u001B[49m\u001B[38;5;241;43m.\u001B[39;49m\u001B[43mmul\u001B[49m\u001B[43m(\u001B[49m\u001B[43mx\u001B[49m\u001B[43m,\u001B[49m\u001B[43m \u001B[49m\u001B[43my\u001B[49m\u001B[43m,\u001B[49m\u001B[43m \u001B[49m\u001B[43mname\u001B[49m\u001B[43m)\u001B[49m\n",
      "File \u001B[1;32m~\\.conda\\envs\\qopt_tensorflow\\lib\\site-packages\\tensorflow\\python\\ops\\gen_math_ops.py:6235\u001B[0m, in \u001B[0;36mmul\u001B[1;34m(x, y, name)\u001B[0m\n\u001B[0;32m   6233\u001B[0m   \u001B[38;5;28;01mreturn\u001B[39;00m _result\n\u001B[0;32m   6234\u001B[0m \u001B[38;5;28;01mexcept\u001B[39;00m _core\u001B[38;5;241m.\u001B[39m_NotOkStatusException \u001B[38;5;28;01mas\u001B[39;00m e:\n\u001B[1;32m-> 6235\u001B[0m   \u001B[43m_ops\u001B[49m\u001B[38;5;241;43m.\u001B[39;49m\u001B[43mraise_from_not_ok_status\u001B[49m\u001B[43m(\u001B[49m\u001B[43me\u001B[49m\u001B[43m,\u001B[49m\u001B[43m \u001B[49m\u001B[43mname\u001B[49m\u001B[43m)\u001B[49m\n\u001B[0;32m   6236\u001B[0m \u001B[38;5;28;01mexcept\u001B[39;00m _core\u001B[38;5;241m.\u001B[39m_FallbackException:\n\u001B[0;32m   6237\u001B[0m   \u001B[38;5;28;01mpass\u001B[39;00m\n",
      "File \u001B[1;32m~\\.conda\\envs\\qopt_tensorflow\\lib\\site-packages\\tensorflow\\python\\framework\\ops.py:6941\u001B[0m, in \u001B[0;36mraise_from_not_ok_status\u001B[1;34m(e, name)\u001B[0m\n\u001B[0;32m   6939\u001B[0m message \u001B[38;5;241m=\u001B[39m e\u001B[38;5;241m.\u001B[39mmessage \u001B[38;5;241m+\u001B[39m (\u001B[38;5;124m\"\u001B[39m\u001B[38;5;124m name: \u001B[39m\u001B[38;5;124m\"\u001B[39m \u001B[38;5;241m+\u001B[39m name \u001B[38;5;28;01mif\u001B[39;00m name \u001B[38;5;129;01mis\u001B[39;00m \u001B[38;5;129;01mnot\u001B[39;00m \u001B[38;5;28;01mNone\u001B[39;00m \u001B[38;5;28;01melse\u001B[39;00m \u001B[38;5;124m\"\u001B[39m\u001B[38;5;124m\"\u001B[39m)\n\u001B[0;32m   6940\u001B[0m \u001B[38;5;66;03m# pylint: disable=protected-access\u001B[39;00m\n\u001B[1;32m-> 6941\u001B[0m \u001B[43msix\u001B[49m\u001B[38;5;241;43m.\u001B[39;49m\u001B[43mraise_from\u001B[49m\u001B[43m(\u001B[49m\u001B[43mcore\u001B[49m\u001B[38;5;241;43m.\u001B[39;49m\u001B[43m_status_to_exception\u001B[49m\u001B[43m(\u001B[49m\u001B[43me\u001B[49m\u001B[38;5;241;43m.\u001B[39;49m\u001B[43mcode\u001B[49m\u001B[43m,\u001B[49m\u001B[43m \u001B[49m\u001B[43mmessage\u001B[49m\u001B[43m)\u001B[49m\u001B[43m,\u001B[49m\u001B[43m \u001B[49m\u001B[38;5;28;43;01mNone\u001B[39;49;00m\u001B[43m)\u001B[49m\n",
      "File \u001B[1;32m<string>:3\u001B[0m, in \u001B[0;36mraise_from\u001B[1;34m(value, from_value)\u001B[0m\n",
      "\u001B[1;31mInvalidArgumentError\u001B[0m: cannot compute Mul as input #1(zero-based) was expected to be a float tensor but is a complex128 tensor [Op:Mul]"
     ]
    }
   ],
   "source": [
    "process_fidelity(.5 * np.pi)"
   ],
   "metadata": {
    "collapsed": false,
    "pycharm": {
     "name": "#%%\n"
    }
   }
  },
  {
   "cell_type": "code",
   "execution_count": 14,
   "outputs": [
    {
     "name": "stdout",
     "output_type": "stream",
     "text": [
      "tf.Tensor((0.7853981633974483+0j), shape=(), dtype=complex128)\n"
     ]
    }
   ],
   "source": [
    "n = 2\n",
    "phi = tf.Variable(0.25 * np.pi / n / n * np.ones((n, n), dtype=float), dtype=DEFAULT_FLOAT_TYPE)\n",
    "with tf.GradientTape() as tape:\n",
    "    tape.watch(phi)\n",
    "    fid = process_fidelity(phi)\n",
    "    gradient = tape.gradient(fid, phi)"
   ],
   "metadata": {
    "collapsed": false,
    "pycharm": {
     "name": "#%%\n"
    }
   }
  },
  {
   "cell_type": "code",
   "execution_count": 15,
   "outputs": [
    {
     "data": {
      "text/plain": "<tf.Tensor: shape=(2, 2), dtype=complex128, numpy=\narray([[1.+0.j, 1.+0.j],\n       [1.+0.j, 1.+0.j]])>"
     },
     "execution_count": 15,
     "metadata": {},
     "output_type": "execute_result"
    }
   ],
   "source": [
    "gradient"
   ],
   "metadata": {
    "collapsed": false,
    "pycharm": {
     "name": "#%%\n"
    }
   }
  },
  {
   "cell_type": "code",
   "execution_count": 16,
   "outputs": [
    {
     "data": {
      "text/plain": "<tf.Tensor: shape=(), dtype=float64, numpy=0.4999999999999999>"
     },
     "execution_count": 16,
     "metadata": {},
     "output_type": "execute_result"
    }
   ],
   "source": [
    "fid"
   ],
   "metadata": {
    "collapsed": false,
    "pycharm": {
     "name": "#%%\n"
    }
   }
  },
  {
   "cell_type": "code",
   "execution_count": 2,
   "outputs": [
    {
     "name": "stderr",
     "output_type": "stream",
     "text": [
      "C:\\Users\\julia\\Documents\\qopt\\qopt\\matrix.py:80: UserWarning: Qutip not installed. plot_bloch_vector_evolution() is not available\n",
      "  warn('Qutip not installed. plot_bloch_vector_evolution() is not available')\n",
      "C:\\Users\\julia\\.conda\\envs\\qopt_tensorflow\\lib\\site-packages\\filter_functions\\plotting.py:68: UserWarning: Qutip not installed. plot_bloch_vector_evolution() is not available\n",
      "  warn('Qutip not installed. plot_bloch_vector_evolution() is not available')\n",
      "C:\\Users\\julia\\Documents\\qopt\\qopt\\optimize.py:88: UserWarning: simanneal not installed. SimulatedAnnealing is not available\n",
      "  warn('simanneal not installed. '\n",
      "C:\\Users\\julia\\Documents\\qopt\\qopt\\plotting.py:55: UserWarning: Qutip not installed. plot_bloch_vector_evolution() is not available\n",
      "  warn('Qutip not installed. plot_bloch_vector_evolution() is not available')\n"
     ]
    }
   ],
   "source": [
    "import unittest\n",
    "import tensorflow as tf\n",
    "import numpy as np\n",
    "import qopt.tensorflow_cost_func\n",
    "import qopt.tensorflow_util\n",
    "from qopt import *"
   ],
   "metadata": {
    "collapsed": false,
    "pycharm": {
     "name": "#%%\n"
    }
   }
  },
  {
   "cell_type": "code",
   "execution_count": 2,
   "outputs": [
    {
     "ename": "NameError",
     "evalue": "name 'DenseOperator' is not defined",
     "output_type": "error",
     "traceback": [
      "\u001B[1;31m---------------------------------------------------------------------------\u001B[0m",
      "\u001B[1;31mNameError\u001B[0m                                 Traceback (most recent call last)",
      "Input \u001B[1;32mIn [2]\u001B[0m, in \u001B[0;36m<cell line: 1>\u001B[1;34m()\u001B[0m\n\u001B[1;32m----> 1\u001B[0m target_matrix \u001B[38;5;241m=\u001B[39m (\u001B[38;5;241m.\u001B[39m\u001B[38;5;241m5\u001B[39m \u001B[38;5;241m*\u001B[39m \u001B[43mDenseOperator\u001B[49m\u001B[38;5;241m.\u001B[39mpauli_x())\u001B[38;5;241m.\u001B[39mexp(\u001B[38;5;241m-\u001B[39m\u001B[38;5;241m1\u001B[39mj \u001B[38;5;241m*\u001B[39m np\u001B[38;5;241m.\u001B[39mpi)\n\u001B[0;32m      2\u001B[0m target_matrix_adj \u001B[38;5;241m=\u001B[39m target_matrix\u001B[38;5;241m.\u001B[39mdag()\n\u001B[0;32m      3\u001B[0m target_matrix_adj_tf \u001B[38;5;241m=\u001B[39m tf\u001B[38;5;241m.\u001B[39mconstant(\n\u001B[0;32m      4\u001B[0m     target_matrix_adj\u001B[38;5;241m.\u001B[39mdata,\n\u001B[0;32m      5\u001B[0m     dtype\u001B[38;5;241m=\u001B[39mqopt\u001B[38;5;241m.\u001B[39mtensorflow_util\u001B[38;5;241m.\u001B[39mDEFAULT_COMPLEX_TYPE\n\u001B[0;32m      6\u001B[0m )\n",
      "\u001B[1;31mNameError\u001B[0m: name 'DenseOperator' is not defined"
     ]
    }
   ],
   "source": [
    "target_matrix = (.5 * DenseOperator.pauli_x()).exp(-1j * np.pi)\n",
    "target_matrix_adj = target_matrix.dag()\n",
    "target_matrix_adj_tf = tf.constant(\n",
    "    target_matrix_adj.data,\n",
    "    dtype=qopt.tensorflow_util.DEFAULT_COMPLEX_TYPE\n",
    ")\n",
    "\n",
    "sample_matrices = []\n",
    "for phi in [0, .5, 1]:\n",
    "    sample_matrices.append(\n",
    "        (.5 * DenseOperator.pauli_x()).exp(1j * phi * np.pi)\n",
    "    )\n",
    "\n",
    "sample_matrices_tf = [\n",
    "    tf.constant(sm.data, dtype=qopt.tensorflow_util.DEFAULT_FLOAT_TYPE)\n",
    "    for sm in sample_matrices\n",
    "]\n",
    "\n",
    "for i in range(len(sample_matrices)):\n",
    "    print(\n",
    "        qopt.tensorflow_cost_func.process_fid_unitary(\n",
    "            propagator=sample_matrices_tf[i],\n",
    "            target_unitary_adj=target_matrix_adj_tf,\n",
    "            inverse_dim_squared=.25\n",
    "        )\n",
    "    )\n",
    "print(1 + 1)"
   ],
   "metadata": {
    "collapsed": false,
    "pycharm": {
     "name": "#%%\n"
    }
   }
  },
  {
   "cell_type": "code",
   "execution_count": 1,
   "outputs": [
    {
     "name": "stderr",
     "output_type": "stream",
     "text": [
      "C:\\Users\\julia\\Documents\\qopt\\qopt\\matrix.py:80: UserWarning: Qutip not installed. plot_bloch_vector_evolution() is not available\n",
      "  warn('Qutip not installed. plot_bloch_vector_evolution() is not available')\n",
      "C:\\Users\\julia\\.conda\\envs\\qopt_tensorflow\\lib\\site-packages\\filter_functions\\plotting.py:68: UserWarning: Qutip not installed. plot_bloch_vector_evolution() is not available\n",
      "  warn('Qutip not installed. plot_bloch_vector_evolution() is not available')\n",
      "C:\\Users\\julia\\Documents\\qopt\\qopt\\optimize.py:88: UserWarning: simanneal not installed. SimulatedAnnealing is not available\n",
      "  warn('simanneal not installed. '\n",
      "C:\\Users\\julia\\Documents\\qopt\\qopt\\plotting.py:55: UserWarning: Qutip not installed. plot_bloch_vector_evolution() is not available\n",
      "  warn('Qutip not installed. plot_bloch_vector_evolution() is not available')\n"
     ]
    },
    {
     "data": {
      "text/plain": "<tf.Tensor: shape=(2, 2), dtype=float64, numpy=\narray([[1., 0.],\n       [0., 1.]])>"
     },
     "execution_count": 1,
     "metadata": {},
     "output_type": "execute_result"
    }
   ],
   "source": [
    "# This will crash\n",
    "import tensorflow as tf\n",
    "import numpy as np\n",
    "from qopt import *  # it does not help to just import DenseOperator\n",
    "\n",
    "target_matrix = (.5 * DenseOperator.pauli_x()).exp(-1j * np.pi)  # using the method 'first_order' does not crash, but spectral and Frechet do\n",
    "tf.constant(np.eye(2))"
   ],
   "metadata": {
    "collapsed": false,
    "pycharm": {
     "name": "#%%\n"
    }
   }
  },
  {
   "cell_type": "code",
   "execution_count": null,
   "outputs": [],
   "source": [
    "import tensorflow as tf\n",
    "import numpy as np\n",
    "from qopt.matrix import DenseOperator\n",
    "\n",
    "target_matrix = (.5 * DenseOperator.pauli_x()).exp(-1j * np.pi)\n",
    "tf.constant(np.eye(2))"
   ],
   "metadata": {
    "collapsed": false,
    "pycharm": {
     "name": "#%%\n"
    }
   }
  },
  {
   "cell_type": "code",
   "execution_count": null,
   "outputs": [],
   "source": [
    "# This will work\n",
    "import tensorflow as tf\n",
    "import numpy as np\n",
    "from qopt import *\n",
    "\n",
    "target_matrix = (.5 * DenseOperator.pauli_x())\n",
    "tf.constant(np.eye(2))"
   ],
   "metadata": {
    "collapsed": false,
    "pycharm": {
     "name": "#%%\n"
    }
   }
  },
  {
   "cell_type": "code",
   "execution_count": 4,
   "outputs": [
    {
     "data": {
      "text/plain": "<tf.Tensor: shape=(2, 2), dtype=float64, numpy=\narray([[1., 0.],\n       [0., 1.]])>"
     },
     "execution_count": 4,
     "metadata": {},
     "output_type": "execute_result"
    }
   ],
   "source": [
    "import tensorflow as tf\n",
    "import numpy as np\n",
    "from qopt import *\n",
    "\n",
    "tf.constant(np.eye(2))"
   ],
   "metadata": {
    "collapsed": false,
    "pycharm": {
     "name": "#%%\n"
    }
   }
  },
  {
   "cell_type": "code",
   "execution_count": null,
   "outputs": [],
   "source": [],
   "metadata": {
    "collapsed": false,
    "pycharm": {
     "name": "#%%\n"
    }
   }
  }
 ],
 "metadata": {
  "kernelspec": {
   "display_name": "Python 3",
   "language": "python",
   "name": "python3"
  },
  "language_info": {
   "codemirror_mode": {
    "name": "ipython",
    "version": 2
   },
   "file_extension": ".py",
   "mimetype": "text/x-python",
   "name": "python",
   "nbconvert_exporter": "python",
   "pygments_lexer": "ipython2",
   "version": "2.7.6"
  }
 },
 "nbformat": 4,
 "nbformat_minor": 0
}