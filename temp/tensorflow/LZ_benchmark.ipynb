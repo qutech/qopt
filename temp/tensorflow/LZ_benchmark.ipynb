{
 "cells": [
  {
   "cell_type": "markdown",
   "source": [
    "# Landau-Zener Problem as Benchmark"
   ],
   "metadata": {
    "collapsed": false,
    "pycharm": {
     "name": "#%% md\n"
    }
   }
  },
  {
   "cell_type": "code",
   "execution_count": 225,
   "outputs": [],
   "source": [
    "import numpy as np\n",
    "import tensorflow as tf\n",
    "import matplotlib.pyplot as plt\n",
    "\n",
    "from qopt import *\n",
    "import qopt.tensorflow_optimize\n",
    "import qopt.tensorflow_simulator\n",
    "import qopt.tensorflow_cost_func\n",
    "import qopt.tensorflow_solver_algs\n",
    "from qopt.tensorflow_util import DEFAULT_FLOAT_TYPE, DEFAULT_COMPLEX_TYPE\n",
    "\n",
    "from importlib import reload\n",
    "reload(qopt.tensorflow_simulator)\n",
    "reload(qopt.tensorflow_solver_algs)\n",
    "reload(qopt.tensorflow_cost_func)\n",
    "reload(qopt.tensorflow_optimize)\n",
    "\n",
    "from scipy.constants import physical_constants, elementary_charge, giga, \\\n",
    "    micro\n",
    "\n",
    "# ############################ Physical Constants #############################\n",
    "\n",
    "hbar = physical_constants[\"reduced Planck constant\"][0]\n",
    "micro_eV_by_inverse_nano_seconds = elementary_charge / hbar / giga * micro\n",
    "\n",
    "\n",
    "total_time = .1\n",
    "n_time_steps = 200\n",
    "delta_t = total_time / n_time_steps\n",
    "tunnel_coupling = 100 * micro_eV_by_inverse_nano_seconds\n",
    "\n",
    "minimal_detuning = - 1000 * micro_eV_by_inverse_nano_seconds\n",
    "maximal_detuning = 1000 * micro_eV_by_inverse_nano_seconds\n",
    "initial_detuning = minimal_detuning\n",
    "final_detuning = maximal_detuning\n",
    "boundaries = np.zeros(shape=(n_time_steps, 2), dtype=float)\n",
    "boundaries[:, 0] = minimal_detuning\n",
    "boundaries[:, 1] = maximal_detuning\n",
    "\n",
    "# We want to ensure a transition, so we need to make sure that the final and initial values are fixed:\n",
    "boundaries[0, 1] = minimal_detuning\n",
    "boundaries[-1, 0] = maximal_detuning\n",
    "\n",
    "h_ctrl = [-.5 * DenseOperator.pauli_z()]\n",
    "h_drift = n_time_steps * [-.5 * tunnel_coupling * DenseOperator.pauli_x()]\n",
    "\n",
    "tau = delta_t * np.ones(n_time_steps)"
   ],
   "metadata": {
    "collapsed": false,
    "pycharm": {
     "name": "#%%\n"
    }
   }
  },
  {
   "cell_type": "code",
   "execution_count": 225,
   "outputs": [],
   "source": [
    "\n"
   ],
   "metadata": {
    "collapsed": false,
    "pycharm": {
     "name": "#%%\n"
    }
   }
  },
  {
   "cell_type": "code",
   "execution_count": 226,
   "outputs": [],
   "source": [
    "initial_hamiltonian = initial_detuning * h_ctrl[0] + h_drift[0]\n",
    "eig_vals_inital_ham, eig_vecs_inital_ham = initial_hamiltonian.spectral_decomposition(hermitian=True)\n",
    "\n",
    "final_hamiltonian = final_detuning * h_ctrl[0] + h_drift[-1]\n",
    "eig_vals_final_ham, eig_vecs_final_ham = initial_hamiltonian.spectral_decomposition(hermitian=True)\n",
    "\n",
    "initial_state_vector = np.expand_dims(eig_vecs_inital_ham[:, 0], axis=1)\n",
    "final_state_vector = np.expand_dims(eig_vecs_final_ham[:, 0], axis=1)\n",
    "\n",
    "\n"
   ],
   "metadata": {
    "collapsed": false,
    "pycharm": {
     "name": "#%%\n"
    }
   }
  },
  {
   "cell_type": "code",
   "execution_count": 227,
   "outputs": [],
   "source": [
    "solver = qopt.tensorflow_solver_algs.TensorFlowSolver(\n",
    "    h_ctrl=h_ctrl,\n",
    "    h_drift=h_drift,\n",
    "    tau=tau,\n",
    "    initial=initial_state_vector  # We start in the ground state\n",
    ")\n",
    "\n",
    "cost_func = qopt.tensorflow_cost_func.TensorFlowStateInfidelity(\n",
    "    target=final_state_vector,  # We want to terminate in the instantaneous ground state\n",
    "    solver=solver\n",
    ")\n",
    "\n",
    "simulator = qopt.tensorflow_simulator.TensorFlowSimulator(\n",
    "    solver=solver,\n",
    "    cost_func=cost_func\n",
    ")\n",
    "\n",
    "optimizer = qopt.tensorflow_optimize.TensorFlowScipyOptimizer(\n",
    "    simulator=simulator,\n",
    "    boundaries=boundaries\n",
    ")"
   ],
   "metadata": {
    "collapsed": false,
    "pycharm": {
     "name": "#%%\n"
    }
   }
  },
  {
   "cell_type": "code",
   "execution_count": 228,
   "outputs": [
    {
     "data": {
      "text/plain": "(<tf.Tensor: shape=(1, 1), dtype=float64, numpy=array([[0.74246278]])>,\n <tf.Tensor: shape=(200, 1), dtype=complex128, numpy=\n array([[ 1.94020653e-05-1.19509152e-04j],\n        [ 1.99971347e-05-1.35321864e-04j],\n        [ 9.57351329e-06-1.47241771e-04j],\n        [-6.19576481e-06-1.48876247e-04j],\n        [-1.89605713e-05-1.39421095e-04j],\n        [-2.21393710e-05-1.23830172e-04j],\n        [-1.41840447e-05-1.10040555e-04j],\n        [ 8.77307374e-07-1.04884315e-04j],\n        [ 1.56624007e-05-1.10804697e-04j],\n        [ 2.31209279e-05-1.24891837e-04j],\n        [ 1.98213861e-05-1.40497871e-04j],\n        [ 7.35255896e-06-1.50464747e-04j],\n        [-8.63260822e-06-1.50363684e-04j],\n        [-2.11010287e-05-1.40308507e-04j],\n        [-2.47335011e-05-1.24681410e-04j],\n        [-1.80772967e-05-1.10074165e-04j],\n        [-3.94733268e-06-1.02462175e-04j],\n        [ 1.19269986e-05-1.04831125e-04j],\n        [ 2.33085189e-05-1.16158494e-04j],\n        [ 2.58775069e-05-1.32019093e-04j],\n        [ 1.87515349e-05-1.46430227e-04j],\n        [ 4.62212497e-06-1.54131670e-04j],\n        [-1.14067964e-05-1.52430359e-04j],\n        [-2.37388160e-05-1.41998534e-04j],\n        [-2.82228032e-05-1.26453357e-04j],\n        [-2.34516611e-05-1.10983285e-04j],\n        [-1.10589892e-05-1.00571953e-04j],\n        [ 4.97792365e-06-9.84330380e-05j],\n        [ 1.97055459e-05-1.05125337e-04j],\n        [ 2.87419782e-05-1.18546595e-04j],\n        [ 2.95238371e-05-1.34713151e-04j],\n        [ 2.19223895e-05-1.49012756e-04j],\n        [ 8.12421610e-06-1.57523177e-04j],\n        [-8.10809848e-06-1.58025288e-04j],\n        [-2.25260510e-05-1.50473225e-04j],\n        [-3.15105216e-05-1.36861251e-04j],\n        [-3.29255222e-05-1.20591787e-04j],\n        [-2.65300704e-05-1.05560197e-04j],\n        [-1.39021846e-05-9.52106945e-05j],\n        [ 2.04771344e-06-9.17878119e-05j],\n        [ 1.78125473e-05-9.59294541e-05j],\n        [ 3.00796809e-05-1.06648587e-04j],\n        [ 3.64005840e-05-1.21658013e-04j],\n        [ 3.56152555e-05-1.37926285e-04j],\n        [ 2.79777302e-05-1.52322067e-04j],\n        [ 1.49977961e-05-1.62208799e-04j],\n        [-9.32670345e-07-1.65883206e-04j],\n        [-1.70303138e-05-1.62798154e-04j],\n        [-3.06238531e-05-1.53559944e-04j],\n        [-3.95814754e-05-1.39732363e-04j],\n        [-4.26012121e-05-1.23508058e-04j],\n        [-3.93369927e-05-1.07319978e-04j],\n        [-3.03647852e-05-9.34629270e-05j],\n        [-1.70179546e-05-8.37814006e-05j],\n        [-1.13603591e-06-7.94596853e-05j],\n        [ 1.52238275e-05-8.09283840e-05j],\n        [ 3.00670626e-05-8.78820097e-05j],\n        [ 4.16973647e-05-9.93876016e-05j],\n        [ 4.88846520e-05-1.14055601e-04j],\n        [ 5.09554190e-05-1.30241411e-04j],\n        [ 4.78075116e-05-1.46248163e-04j],\n        [ 3.98603943e-05-1.60506810e-04j],\n        [ 2.79576113e-05-1.71717093e-04j],\n        [ 1.32404302e-05-1.78940819e-04j],\n        [-2.98889425e-06-1.81646043e-04j],\n        [-1.93984163e-05-1.79706464e-04j],\n        [-3.47403937e-05-1.73364255e-04j],\n        [-4.79401279e-05-1.63166624e-04j],\n        [-5.81562500e-05-1.49886885e-04j],\n        [-6.48124957e-05-1.34440021e-04j],\n        [-6.76037163e-05-1.17801092e-04j],\n        [-6.64806501e-05-1.00932737e-04j],\n        [-6.16188805e-05-8.47258349e-05j],\n        [-5.33775741e-05-6.99553295e-05j],\n        [-4.22531932e-05-5.72514913e-05j],\n        [-2.88326062e-05-4.70855529e-05j],\n        [-1.37490519e-05-3.97677557e-05j],\n        [ 2.35661183e-06-3.54553343e-05j],\n        [ 1.88679114e-05-3.41677939e-05j],\n        [ 3.52173913e-05-3.58069226e-05j],\n        [ 5.09039321e-05-4.01792517e-05j],\n        [ 6.55033033e-05-4.70190540e-05j],\n        [ 7.86728267e-05-5.60103923e-05j],\n        [ 9.01512035e-05-6.68071575e-05j],\n        [ 9.97546137e-05-7.90504201e-05j],\n        [ 1.07370155e-04-9.23827558e-05j],\n        [ 1.12947596e-04-1.06459472e-04j],\n        [ 1.16490267e-04-1.20956865e-04j],\n        [ 1.18045770e-04-1.35577780e-04j],\n        [ 1.17697036e-04-1.50054824e-04j],\n        [ 1.15554081e-04-1.64151638e-04j],\n        [ 1.11746733e-04-1.77662624e-04j],\n        [ 1.06418450e-04-1.90411517e-04j],\n        [ 9.97212849e-05-2.02249159e-04j],\n        [ 9.18119757e-05-2.13050777e-04j],\n        [ 8.28491072e-05-2.22713046e-04j],\n        [ 7.29912326e-05-2.31151136e-04j],\n        [ 6.23958438e-05-2.38295941e-04j],\n        [ 5.12190552e-05-2.44091616e-04j],\n        [ 3.96158651e-05-2.48493543e-04j],\n        [ 2.77408538e-05-2.51466790e-04j],\n        [ 1.57491777e-05-2.52985149e-04j],\n        [ 3.79771795e-06-2.53030771e-04j],\n        [-7.95375840e-06-2.51594428e-04j],\n        [-1.93415716e-05-2.48676433e-04j],\n        [-3.01973855e-05-2.44288171e-04j],\n        [-4.03479025e-05-2.38454256e-04j],\n        [-4.96151558e-05-2.31215226e-04j],\n        [-5.78175609e-05-2.22630727e-04j],\n        [-6.47718851e-05-2.12783043e-04j],\n        [-7.02962858e-05-2.01780822e-04j],\n        [-7.42145452e-05-1.89762797e-04j],\n        [-7.63615985e-05-1.76901205e-04j],\n        [-7.65903951e-05-1.63404600e-04j],\n        [-7.47800626e-05-1.49519669e-04j],\n        [-7.08452398e-05-1.35531591e-04j],\n        [-6.47463241e-05-1.21762478e-04j],\n        [-5.65002278e-05-1.08567398e-04j],\n        [-4.61910651e-05-9.63274928e-05j],\n        [-3.39800144e-05-8.54398056e-05j],\n        [-2.01134109e-05-7.63035121e-05j],\n        [-4.92796693e-06-6.93024968e-05j],\n        [ 1.11481069e-05-6.47844604e-05j],\n        [ 2.75993489e-05-6.30371196e-05j],\n        [ 4.38338735e-05-6.42624865e-05j],\n        [ 5.92017839e-05-6.85507033e-05j],\n        [ 7.30217988e-05-7.58554118e-05j],\n        [ 8.46161468e-05-8.59731112e-05j],\n        [ 9.33530031e-05-9.85293321e-05j],\n        [ 9.86947758e-05-1.12974645e-04j],\n        [ 1.00249449e-04-1.28593441e-04j],\n        [ 9.78210338e-05-1.44527969e-04j],\n        [ 9.14541151e-05-1.59819232e-04j],\n        [ 8.14666562e-05-1.73464957e-04j],\n        [ 6.84648725e-05-1.84493013e-04j],\n        [ 5.33342825e-05-1.92046404e-04j],\n        [ 3.72022138e-05-1.95473515e-04j],\n        [ 2.13692020e-05-1.94414904e-04j],\n        [ 7.20989673e-06-1.88875980e-04j],\n        [-3.95183756e-06-1.79273890e-04j],\n        [-1.09843079e-05-1.66447180e-04j],\n        [-1.30918858e-05-1.51618909e-04j],\n        [-9.94349219e-06-1.36307915e-04j],\n        [-1.76542517e-06-1.22189032e-04j],\n        [ 1.06215273e-05-1.10910714e-04j],\n        [ 2.58372640e-05-1.03887046e-04j],\n        [ 4.20592035e-05-1.02089160e-04j],\n        [ 5.72193550e-05-1.05867145e-04j],\n        [ 6.92667314e-05-1.14835768e-04j],\n        [ 7.64657848e-05-1.27854290e-04j],\n        [ 7.76886709e-05-1.43121173e-04j],\n        [ 7.26508611e-05-1.58388696e-04j],\n        [ 6.20389247e-05-1.71281659e-04j],\n        [ 4.74885541e-05-1.79681357e-04j],\n        [ 3.13909535e-05-1.82115199e-04j],\n        [ 1.65352358e-05-1.78078785e-04j],\n        [ 5.62949762e-06-1.68216010e-04j],\n        [ 7.77287652e-07-1.54297547e-04j],\n        [ 3.01101741e-06-1.38969620e-04j],\n        [ 1.19910939e-05-1.25290323e-04j],\n        [ 2.59627996e-05-1.16122337e-04j],\n        [ 4.20202022e-05-1.13497414e-04j],\n        [ 5.66619879e-05-1.18096237e-04j],\n        [ 6.65495586e-05-1.28985163e-04j],\n        [ 6.93105157e-05-1.43712059e-04j],\n        [ 6.41910702e-05-1.58788526e-04j],\n        [ 5.23667534e-05-1.70487920e-04j],\n        [ 3.67811594e-05-1.75790364e-04j],\n        [ 2.14923282e-05-1.73236264e-04j],\n        [ 1.06440899e-05-1.63436321e-04j],\n        [ 7.30914027e-06-1.49045555e-04j],\n        [ 1.25291514e-05-1.34139138e-04j],\n        [ 2.48682531e-05-1.23102463e-04j],\n        [ 4.06836143e-05-1.19319064e-04j],\n        [ 5.51162210e-05-1.24049303e-04j],\n        [ 6.35666983e-05-1.35889374e-04j],\n        [ 6.32211075e-05-1.51061757e-04j],\n        [ 5.41098971e-05-1.64536630e-04j],\n        [ 3.92736969e-05-1.71688382e-04j],\n        [ 2.38730801e-05-1.69954197e-04j],\n        [ 1.34490646e-05-1.59885354e-04j],\n        [ 1.18930247e-05-1.45127622e-04j],\n        [ 1.98747245e-05-1.31219566e-04j],\n        [ 3.43969358e-05-1.23552304e-04j],\n        [ 4.97772189e-05-1.25220902e-04j],\n        [ 5.98049711e-05-1.35639224e-04j],\n        [ 6.02907596e-05-1.50580231e-04j],\n        [ 5.09542527e-05-1.63771918e-04j],\n        [ 3.57554816e-05-1.69507939e-04j],\n        [ 2.13643305e-05-1.65206221e-04j],\n        [ 1.42828771e-05-1.52740731e-04j],\n        [ 1.78312716e-05-1.37804615e-04j],\n        [ 3.04193377e-05-1.27417397e-04j],\n        [ 4.60666021e-05-1.26610135e-04j],\n        [ 5.71251043e-05-1.35854075e-04j],\n        [ 5.80336733e-05-1.50601956e-04j],\n        [ 4.82632319e-05-1.63372704e-04j],\n        [ 3.28318064e-05-1.67514917e-04j],\n        [ 1.98954265e-05-1.60783684e-04j],\n        [ 1.64710403e-05-1.46761684e-04j]])>)"
     },
     "execution_count": 228,
     "metadata": {},
     "output_type": "execute_result"
    }
   ],
   "source": [
    "initial_values = np.linspace(minimal_detuning, maximal_detuning, n_time_steps, endpoint=True)\n",
    "initial_values_tf = np.expand_dims(initial_values, axis=1)\n",
    "initial_values_tf = tf.constant(initial_values_tf, dtype=DEFAULT_FLOAT_TYPE)\n",
    "\n",
    "\n",
    "simulator.value_and_gradient(opt_pars=tf.Variable(initial_values_tf, dtype=DEFAULT_FLOAT_TYPE))"
   ],
   "metadata": {
    "collapsed": false,
    "pycharm": {
     "name": "#%%\n"
    }
   }
  },
  {
   "cell_type": "code",
   "execution_count": 229,
   "outputs": [],
   "source": [
    "result = optimizer.run_optimization(initial_values)"
   ],
   "metadata": {
    "collapsed": false,
    "pycharm": {
     "name": "#%%\n"
    }
   }
  },
  {
   "cell_type": "code",
   "execution_count": 230,
   "outputs": [
    {
     "data": {
      "text/plain": "<Figure size 432x288 with 1 Axes>",
      "image/png": "[encoded data removed]"
     },
     "metadata": {
      "needs_background": "light"
     },
     "output_type": "display_data"
    }
   ],
   "source": [
    "plt.plot(result.x)\n",
    "plt.savefig(r'C:\\Users\\julia\\Desktop\\Work\\Documentation\\2022_08_21_Tensorflow_qopt\\SamplePicture\\first_result.pdf')"
   ],
   "metadata": {
    "collapsed": false,
    "pycharm": {
     "name": "#%%\n"
    }
   }
  },
  {
   "cell_type": "code",
   "execution_count": 231,
   "outputs": [
    {
     "data": {
      "text/plain": "      fun: array(2.34068676e-09)\n hess_inv: <200x200 LbfgsInvHessProduct with dtype=float64>\n      jac: array([ 2.33615895e-09,  1.51832710e-09, -1.42199151e-10, -1.73071065e-09,\n       -2.40453743e-09, -1.83959248e-09, -3.26255153e-10,  1.41444053e-09,\n        2.55765986e-09,  2.54948504e-09,  1.39060263e-09, -3.54347619e-10,\n       -1.86346368e-09, -2.47528795e-09, -1.95582893e-09, -5.29839077e-10,\n        1.24780142e-09,  2.69572288e-09,  3.24705125e-09,  2.67740406e-09,\n        1.21397320e-09, -5.63536260e-10, -1.98757984e-09, -2.57177838e-09,\n       -2.15022605e-09, -8.74403527e-10,  8.69560203e-10,  2.57217786e-09,\n        3.72917078e-09,  3.98449840e-09,  3.25379991e-09,  1.76465908e-09,\n       -2.59166921e-11, -1.60172305e-09, -2.55480257e-09, -2.67766921e-09,\n       -1.97129618e-09, -6.04459197e-10,  1.13890126e-09,  2.91020352e-09,\n        4.34986836e-09,  5.15231290e-09,  5.13732599e-09,  4.30412803e-09,\n        2.83804801e-09,  1.05767570e-09, -6.77188863e-10, -2.05589988e-09,\n       -2.87225304e-09, -3.03677129e-09, -2.55950047e-09, -1.52275826e-09,\n       -5.73381169e-11,  1.67339682e-09,  3.48379497e-09,  5.17590026e-09,\n        6.55435128e-09,  7.44859855e-09,  7.73999171e-09,  7.38618999e-09,\n        6.43303653e-09,  5.00697883e-09,  3.28866837e-09,  1.47631762e-09,\n       -2.49108711e-10, -1.74737862e-09, -2.92785533e-09, -3.74618797e-09,\n       -4.19407318e-09, -4.28714603e-09, -4.05431302e-09, -3.52994556e-09,\n       -2.74903868e-09, -1.74480551e-09, -5.48024185e-10,  8.12464267e-10,\n        2.30856071e-09,  3.91134688e-09,  5.58942437e-09,  7.30740772e-09,\n        9.02484604e-09,  1.06958681e-08,  1.22698259e-08,  1.36931197e-08,\n        1.49121997e-08,  1.58774876e-08,  1.65476891e-08,  1.68937773e-08,\n        1.69018933e-08,  1.65745706e-08,  1.59300171e-08,  1.49995832e-08,\n        1.38238960e-08,  1.24483525e-08,  1.09186967e-08,  9.27728698e-09,\n        7.56043864e-09,  5.79698847e-09,  4.00802588e-09,  2.20760384e-09,\n        4.04186623e-10, -1.39740835e-09, -3.19378697e-09, -4.98065331e-09,\n       -6.75054692e-09, -8.49081666e-09, -1.01820357e-08, -1.17970973e-08,\n       -1.33012472e-08, -1.46532695e-08, -1.58079384e-08, -1.67196543e-08,\n       -1.73469401e-08, -1.76572217e-08, -1.76311388e-08, -1.72656040e-08,\n       -1.65749926e-08, -1.55901894e-08, -1.43556615e-08, -1.29251335e-08,\n       -1.13566940e-08, -9.70819580e-09, -8.03362740e-09, -6.38083546e-09,\n       -4.79065405e-09, -3.29725069e-09, -1.92935974e-09, -7.12036226e-10,\n        3.31411154e-10,  1.17760712e-09,  1.80169813e-09,  2.17665590e-09,\n        2.27370084e-09,  2.06437355e-09,  1.52486239e-09,  6.43076910e-10,\n       -5.71581521e-10, -2.07696326e-09, -3.78837709e-09, -5.57490467e-09,\n       -7.26682747e-09, -8.67679922e-09, -9.63212677e-09, -1.00095503e-08,\n       -9.76107426e-09, -8.92229564e-09, -7.60206933e-09, -5.95974252e-09,\n       -4.17940014e-09, -2.44867863e-09, -9.44924128e-10,  1.73290927e-10,\n        7.74227544e-10,  7.66071955e-10,  1.18202377e-10, -1.11195325e-09,\n       -2.75759147e-09, -4.54487422e-09, -6.13437638e-09, -7.19949661e-09,\n       -7.51523578e-09, -7.01933900e-09, -5.82194943e-09, -4.16870407e-09,\n       -2.38183612e-09, -8.02155925e-10,  2.60765298e-10,  5.76885289e-10,\n        5.03303481e-11, -1.22670750e-09, -2.95147874e-09, -4.65994975e-09,\n       -5.85926675e-09, -6.19588836e-09, -5.57635838e-09, -4.18690841e-09,\n       -2.42305581e-09, -7.77181814e-10,  2.80593418e-10,  4.21725811e-10,\n       -4.25111546e-10, -2.00030576e-09, -3.75285200e-09, -5.03049119e-09,\n       -5.34944063e-09, -4.59499527e-09, -3.05319141e-09, -1.29102561e-09,\n        3.92612387e-11,  4.19111631e-10, -3.26762055e-10, -1.90317098e-09,\n       -3.61562500e-09, -4.67716321e-09, -4.59851834e-09, -3.42121964e-09,\n       -1.68225506e-09, -1.73728473e-10,  3.92052852e-10, -2.84645756e-10])\n  message: 'CONVERGENCE: NORM_OF_PROJECTED_GRADIENT_<=_PGTOL'\n     nfev: 28\n      nit: 8\n     njev: 28\n   status: 0\n  success: True\n        x: array([-1519.26744881, -1518.52257261, -1514.33849522, -1474.93948592,\n       -1429.75373442, -1398.55041649, -1389.10327128, -1398.35311986,\n       -1414.34785923, -1422.08959311, -1410.67043874, -1378.34804337,\n       -1333.00739497, -1288.00319543, -1255.93807289, -1243.52421313,\n       -1249.37685677, -1264.9931827 , -1278.22514038, -1278.00392334,\n       -1258.59765604, -1221.655587  , -1175.19915313, -1130.22646557,\n       -1096.64408023, -1080.15369975, -1080.87445423, -1093.69582346,\n       -1110.00033028, -1120.26957956, -1116.9173236 , -1096.51285238,\n       -1060.64009202, -1015.12623709,  -968.04921637,  -927.37016691,\n        -898.9899407 ,  -885.63914303,  -886.61723937,  -898.20613773,\n        -914.57282293,  -929.00692056,  -935.31161127,  -929.08623744,\n        -908.59556376,  -874.99615986,  -831.88286213,  -784.33979484,\n        -737.81740268,  -697.14657123,  -665.87352304,  -645.94640959,\n        -637.6840155 ,  -639.92939203,  -650.31313557,  -665.58750816,\n        -682.01724667,  -695.813724  ,  -703.57959007,  -702.70726028,\n        -691.66564948,  -670.12450369,  -638.89917241,  -599.73767863,\n        -555.00412958,  -507.32893768,  -459.29253205,  -413.1879596 ,\n        -370.87900024,  -333.74560422,  -302.69432552,  -278.20811416,\n        -260.41354482,  -249.15001442,  -244.03177324,  -244.49866691,\n        -249.85503028,  -259.29858305,  -271.94270393,  -286.83621399,\n        -302.98473902,  -319.37675871,  -335.01563914,  -348.95657829,\n        -360.34506157,  -368.45187035,  -372.69953024,  -372.67651515,\n        -368.1380949 ,  -358.9955002 ,  -345.29706225,  -327.20557997,\n        -304.97544154,  -278.93161311,  -249.45125532,  -216.94793387,\n        -181.85821792,  -144.63065635,  -105.71735672,   -65.56843339,\n         -24.6293928 ,    16.65884075,    57.85795104,    98.52930524,\n         138.23121245,   176.51743358,   212.93776122,   247.04112098,\n         278.38127775,   306.52500568,   331.06261917,   351.62106206,\n         367.88012844,   379.59247393,   386.60748942,   388.89772762,\n         386.58474107,   379.9597055 ,   369.49393028,   355.83573673,\n         339.79288307,   322.30275756,   304.39480534,   287.15035326,\n         271.66407841,   259.00936166,   250.20745383,   246.19846026,\n         247.8110009 ,   255.72711247,   270.43941685,   292.1986946 ,\n         320.95186241,   356.27332355,   397.29726339,   442.6649227 ,\n         490.50834078,   538.49759358,   583.97714268,   624.20334433,\n         656.66849612,   679.46427208,   691.61334881,   693.29524958,\n         685.91307653,   671.982636  ,   654.86164746,   638.36417407,\n         626.31784094,   622.11709069,   628.30990279,   646.23970942,\n         675.76152106,   715.06924434,   760.70611082,   807.8595961 ,\n         851.0239734 ,   885.0093773 ,   906.10191681,   913.0334893 ,\n         907.42269344,   893.52336455,   877.35718665,   865.47421539,\n         863.62380892,   875.56472353,   902.17434983,   941.00099788,\n         986.45030487,  1030.81575627,  1066.1853302 ,  1086.81466167,\n        1091.10235206,  1082.28309993,  1067.50737243,  1055.694723  ,\n        1054.92777398,  1070.10279191,  1101.34114919,  1143.56587766,\n        1187.64850406,  1223.27642042,  1242.8552854 ,  1244.76125004,\n        1234.19149893,  1221.12824358,  1216.46165908,  1227.90237418,\n        1256.99348454,  1298.11771337,  1340.2042543 ,  1371.22304693,\n        1383.90511539,  1379.56115005,  1367.54482579,  1360.71411872,\n        1369.44770277,  1396.85076428,  1436.92533658,  1519.26744881])"
     },
     "execution_count": 231,
     "metadata": {},
     "output_type": "execute_result"
    }
   ],
   "source": [
    "result"
   ],
   "metadata": {
    "collapsed": false,
    "pycharm": {
     "name": "#%%\n"
    }
   }
  },
  {
   "cell_type": "code",
   "execution_count": 232,
   "outputs": [
    {
     "data": {
      "text/plain": "<tf.Tensor: shape=(1, 1), dtype=float64, numpy=array([[2.34068676e-09]])>"
     },
     "execution_count": 232,
     "metadata": {},
     "output_type": "execute_result"
    }
   ],
   "source": [
    "simulator.value_and_gradient(opt_pars=tf.Variable(np.expand_dims(result.x, axis=1), dtype=DEFAULT_FLOAT_TYPE))[0]\n"
   ],
   "metadata": {
    "collapsed": false,
    "pycharm": {
     "name": "#%%\n"
    }
   }
  },
  {
   "cell_type": "markdown",
   "source": [
    "### Acknowledgements\n",
    "\n",
    "I thank Alessandro David for the suggestion of the Landau-Zener problem for benchmarking."
   ],
   "metadata": {
    "collapsed": false,
    "pycharm": {
     "name": "#%% md\n"
    }
   }
  },
  {
   "cell_type": "markdown",
   "source": [
    "## Let's compare to native qopt\n",
    "\n",
    "I leave this for now, but it might be a bit boring, if the results coincide exactly.\n"
   ],
   "metadata": {
    "collapsed": false,
    "pycharm": {
     "name": "#%% md\n"
    }
   }
  },
  {
   "cell_type": "code",
   "execution_count": 235,
   "outputs": [],
   "source": [
    "solver_qopt = SchroedingerSolver(\n",
    "    h_drift=h_drift,\n",
    "    h_ctrl=h_ctrl,\n",
    "    tau=tau,\n",
    "    initial_state=DenseOperator(initial_state_vector)\n",
    ")\n",
    "\n",
    "cost_func_qopt = StateInfidelity(\n",
    "    target=DenseOperator(final_state_vector),  # We want to terminate in the instantaneous ground state\n",
    "    solver=solver_qopt\n",
    ")\n",
    "\n",
    "simulator_qopt = Simulator(\n",
    "    solvers = [solver_qopt, ],\n",
    "    cost_funcs = [cost_func_qopt, ]\n",
    ")\n",
    "\n",
    "optimizer_qopt = ScalarMinimizingOptimizer(\n",
    "    system_simulator=simulator_qopt,\n",
    "    bounds=boundaries,\n",
    ")"
   ],
   "metadata": {
    "collapsed": false,
    "pycharm": {
     "name": "#%%\n"
    }
   }
  },
  {
   "cell_type": "code",
   "execution_count": 236,
   "outputs": [],
   "source": [
    "initial_values_2dim = np.expand_dims(initial_values, axis=1)\n",
    "result_qopt = optimizer_qopt.run_optimization(initial_values_2dim)"
   ],
   "metadata": {
    "collapsed": false,
    "pycharm": {
     "name": "#%%\n"
    }
   }
  },
  {
   "cell_type": "code",
   "execution_count": 237,
   "outputs": [
    {
     "data": {
      "text/plain": "<qopt.optimization_data.OptimizationResult at 0x1c8752ca790>"
     },
     "execution_count": 237,
     "metadata": {},
     "output_type": "execute_result"
    }
   ],
   "source": [
    "result_qopt"
   ],
   "metadata": {
    "collapsed": false,
    "pycharm": {
     "name": "#%%\n"
    }
   }
  },
  {
   "cell_type": "code",
   "execution_count": 238,
   "outputs": [
    {
     "data": {
      "text/plain": "<AxesSubplot:xlabel='Iteration', ylabel='Costs'>"
     },
     "execution_count": 238,
     "metadata": {},
     "output_type": "execute_result"
    },
    {
     "data": {
      "text/plain": "<Figure size 432x288 with 1 Axes>",
      "image/png": "[encoded data removed]"
     },
     "metadata": {
      "needs_background": "light"
     },
     "output_type": "display_data"
    }
   ],
   "source": [
    "data = DataContainer()\n",
    "data.append_optim_result(result_qopt)\n",
    "analyzer = Analyser(data=data)\n",
    "analyzer.plot_costs()"
   ],
   "metadata": {
    "collapsed": false,
    "pycharm": {
     "name": "#%%\n"
    }
   }
  },
  {
   "cell_type": "code",
   "execution_count": 239,
   "outputs": [
    {
     "data": {
      "text/plain": "[<matplotlib.lines.Line2D at 0x1c813393940>]"
     },
     "execution_count": 239,
     "metadata": {},
     "output_type": "execute_result"
    },
    {
     "data": {
      "text/plain": "<Figure size 432x288 with 1 Axes>",
      "image/png": "[encoded data removed]"
     },
     "metadata": {
      "needs_background": "light"
     },
     "output_type": "display_data"
    }
   ],
   "source": [
    "plt.plot(result_qopt.final_parameters / micro_eV_by_inverse_nano_seconds / 1000)"
   ],
   "metadata": {
    "collapsed": false,
    "pycharm": {
     "name": "#%%\n"
    }
   }
  },
  {
   "cell_type": "code",
   "execution_count": null,
   "outputs": [],
   "source": [
    "simulator.value_and_gradient(opt_pars=tf.Variable(result_qopt.final_parameters, dtype=DEFAULT_FLOAT_TYPE))[0]\n"
   ],
   "metadata": {
    "collapsed": false,
    "pycharm": {
     "name": "#%%\n"
    }
   }
  },
  {
   "cell_type": "code",
   "execution_count": null,
   "outputs": [],
   "source": [
    "plt.plot(result.x - np.squeeze(result_qopt.final_parameters))"
   ],
   "metadata": {
    "collapsed": false,
    "pycharm": {
     "name": "#%%\n"
    }
   }
  }
 ],
 "metadata": {
  "kernelspec": {
   "display_name": "Python 3",
   "language": "python",
   "name": "python3"
  },
  "language_info": {
   "codemirror_mode": {
    "name": "ipython",
    "version": 2
   },
   "file_extension": ".py",
   "mimetype": "text/x-python",
   "name": "python",
   "nbconvert_exporter": "python",
   "pygments_lexer": "ipython2",
   "version": "2.7.6"
  }
 },
 "nbformat": 4,
 "nbformat_minor": 0
}