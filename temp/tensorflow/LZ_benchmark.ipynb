{
 "cells": [
  {
   "cell_type": "markdown",
   "source": [
    "# Landau-Zener Problem as Benchmark"
   ],
   "metadata": {
    "collapsed": false,
    "pycharm": {
     "name": "#%% md\n"
    }
   }
  },
  {
   "cell_type": "code",
   "execution_count": 49,
   "outputs": [],
   "source": [
    "import numpy as np\n",
    "import tensorflow as tf\n",
    "import matplotlib.pyplot as plt\n",
    "\n",
    "from qopt import *\n",
    "import qopt.tensorflow_optimize\n",
    "import qopt.tensorflow_simulator\n",
    "import qopt.tensorflow_cost_func\n",
    "import qopt.tensorflow_solver_algs\n",
    "from qopt.tensorflow_util import DEFAULT_FLOAT_TYPE, DEFAULT_COMPLEX_TYPE\n",
    "\n",
    "from importlib import reload\n",
    "reload(qopt.tensorflow_simulator)\n",
    "reload(qopt.tensorflow_solver_algs)\n",
    "reload(qopt.tensorflow_cost_func)\n",
    "reload(qopt.tensorflow_optimize)\n",
    "\n",
    "total_time = .1\n",
    "n_time_steps = 200\n",
    "delta_t = total_time / n_time_steps\n",
    "tunnel_coupling = .1\n",
    "\n",
    "initial_detuning = -1.\n",
    "final_detuning = 1.\n",
    "\n",
    "h_ctrl = [-.5 * DenseOperator.pauli_z()]\n",
    "h_drift = n_time_steps * [-.5 * tunnel_coupling * DenseOperator.pauli_x()]\n",
    "\n",
    "tau = delta_t * np.ones(n_time_steps)"
   ],
   "metadata": {
    "collapsed": false,
    "pycharm": {
     "name": "#%%\n"
    }
   }
  },
  {
   "cell_type": "code",
   "execution_count": 49,
   "outputs": [],
   "source": [
    "\n"
   ],
   "metadata": {
    "collapsed": false,
    "pycharm": {
     "name": "#%%\n"
    }
   }
  },
  {
   "cell_type": "code",
   "execution_count": 50,
   "outputs": [],
   "source": [
    "initial_hamiltonian = initial_detuning * h_ctrl[0] + h_drift[0]\n",
    "eig_vals_inital_ham, eig_vecs_inital_ham = initial_hamiltonian.spectral_decomposition(hermitian=True)\n",
    "\n",
    "final_hamiltonian = final_detuning * h_ctrl[0] + h_drift[-1]\n",
    "eig_vals_final_ham, eig_vecs_final_ham = initial_hamiltonian.spectral_decomposition(hermitian=True)\n",
    "\n",
    "initial_state_vector = np.expand_dims(eig_vecs_inital_ham[:, 0], axis=1)\n",
    "final_state_vector = np.expand_dims(eig_vecs_final_ham[:, 0], axis=1)\n",
    "\n",
    "\n"
   ],
   "metadata": {
    "collapsed": false,
    "pycharm": {
     "name": "#%%\n"
    }
   }
  },
  {
   "cell_type": "code",
   "execution_count": 51,
   "outputs": [],
   "source": [
    "solver = qopt.tensorflow_solver_algs.TensorFlowSolver(\n",
    "    h_ctrl=h_ctrl,\n",
    "    h_drift=h_drift,\n",
    "    tau=tau,\n",
    "    initial=initial_state_vector  # We start in the ground state\n",
    ")\n",
    "\n",
    "cost_func = qopt.tensorflow_cost_func.TensorFlowStateInfidelity(\n",
    "    target=final_state_vector,  # We want to terminate in the instantaneous ground state\n",
    "    solver=solver\n",
    ")\n",
    "\n",
    "simulator = qopt.tensorflow_simulator.TensorFlowSimulator(\n",
    "    solver=solver,\n",
    "    cost_func=cost_func\n",
    ")\n",
    "\n",
    "optimizer = qopt.tensorflow_optimize.TensorFlowScipyOptimizer(\n",
    "    simulator=simulator\n",
    ")"
   ],
   "metadata": {
    "collapsed": false,
    "pycharm": {
     "name": "#%%\n"
    }
   }
  },
  {
   "cell_type": "code",
   "execution_count": 52,
   "outputs": [
    {
     "data": {
      "text/plain": "<tf.Tensor: shape=(200,), dtype=complex128, numpy=\narray([0.0005+0.j, 0.0005+0.j, 0.0005+0.j, 0.0005+0.j, 0.0005+0.j,\n       0.0005+0.j, 0.0005+0.j, 0.0005+0.j, 0.0005+0.j, 0.0005+0.j,\n       0.0005+0.j, 0.0005+0.j, 0.0005+0.j, 0.0005+0.j, 0.0005+0.j,\n       0.0005+0.j, 0.0005+0.j, 0.0005+0.j, 0.0005+0.j, 0.0005+0.j,\n       0.0005+0.j, 0.0005+0.j, 0.0005+0.j, 0.0005+0.j, 0.0005+0.j,\n       0.0005+0.j, 0.0005+0.j, 0.0005+0.j, 0.0005+0.j, 0.0005+0.j,\n       0.0005+0.j, 0.0005+0.j, 0.0005+0.j, 0.0005+0.j, 0.0005+0.j,\n       0.0005+0.j, 0.0005+0.j, 0.0005+0.j, 0.0005+0.j, 0.0005+0.j,\n       0.0005+0.j, 0.0005+0.j, 0.0005+0.j, 0.0005+0.j, 0.0005+0.j,\n       0.0005+0.j, 0.0005+0.j, 0.0005+0.j, 0.0005+0.j, 0.0005+0.j,\n       0.0005+0.j, 0.0005+0.j, 0.0005+0.j, 0.0005+0.j, 0.0005+0.j,\n       0.0005+0.j, 0.0005+0.j, 0.0005+0.j, 0.0005+0.j, 0.0005+0.j,\n       0.0005+0.j, 0.0005+0.j, 0.0005+0.j, 0.0005+0.j, 0.0005+0.j,\n       0.0005+0.j, 0.0005+0.j, 0.0005+0.j, 0.0005+0.j, 0.0005+0.j,\n       0.0005+0.j, 0.0005+0.j, 0.0005+0.j, 0.0005+0.j, 0.0005+0.j,\n       0.0005+0.j, 0.0005+0.j, 0.0005+0.j, 0.0005+0.j, 0.0005+0.j,\n       0.0005+0.j, 0.0005+0.j, 0.0005+0.j, 0.0005+0.j, 0.0005+0.j,\n       0.0005+0.j, 0.0005+0.j, 0.0005+0.j, 0.0005+0.j, 0.0005+0.j,\n       0.0005+0.j, 0.0005+0.j, 0.0005+0.j, 0.0005+0.j, 0.0005+0.j,\n       0.0005+0.j, 0.0005+0.j, 0.0005+0.j, 0.0005+0.j, 0.0005+0.j,\n       0.0005+0.j, 0.0005+0.j, 0.0005+0.j, 0.0005+0.j, 0.0005+0.j,\n       0.0005+0.j, 0.0005+0.j, 0.0005+0.j, 0.0005+0.j, 0.0005+0.j,\n       0.0005+0.j, 0.0005+0.j, 0.0005+0.j, 0.0005+0.j, 0.0005+0.j,\n       0.0005+0.j, 0.0005+0.j, 0.0005+0.j, 0.0005+0.j, 0.0005+0.j,\n       0.0005+0.j, 0.0005+0.j, 0.0005+0.j, 0.0005+0.j, 0.0005+0.j,\n       0.0005+0.j, 0.0005+0.j, 0.0005+0.j, 0.0005+0.j, 0.0005+0.j,\n       0.0005+0.j, 0.0005+0.j, 0.0005+0.j, 0.0005+0.j, 0.0005+0.j,\n       0.0005+0.j, 0.0005+0.j, 0.0005+0.j, 0.0005+0.j, 0.0005+0.j,\n       0.0005+0.j, 0.0005+0.j, 0.0005+0.j, 0.0005+0.j, 0.0005+0.j,\n       0.0005+0.j, 0.0005+0.j, 0.0005+0.j, 0.0005+0.j, 0.0005+0.j,\n       0.0005+0.j, 0.0005+0.j, 0.0005+0.j, 0.0005+0.j, 0.0005+0.j,\n       0.0005+0.j, 0.0005+0.j, 0.0005+0.j, 0.0005+0.j, 0.0005+0.j,\n       0.0005+0.j, 0.0005+0.j, 0.0005+0.j, 0.0005+0.j, 0.0005+0.j,\n       0.0005+0.j, 0.0005+0.j, 0.0005+0.j, 0.0005+0.j, 0.0005+0.j,\n       0.0005+0.j, 0.0005+0.j, 0.0005+0.j, 0.0005+0.j, 0.0005+0.j,\n       0.0005+0.j, 0.0005+0.j, 0.0005+0.j, 0.0005+0.j, 0.0005+0.j,\n       0.0005+0.j, 0.0005+0.j, 0.0005+0.j, 0.0005+0.j, 0.0005+0.j,\n       0.0005+0.j, 0.0005+0.j, 0.0005+0.j, 0.0005+0.j, 0.0005+0.j,\n       0.0005+0.j, 0.0005+0.j, 0.0005+0.j, 0.0005+0.j, 0.0005+0.j,\n       0.0005+0.j, 0.0005+0.j, 0.0005+0.j, 0.0005+0.j, 0.0005+0.j])>"
     },
     "execution_count": 52,
     "metadata": {},
     "output_type": "execute_result"
    }
   ],
   "source": [
    "solver.tau"
   ],
   "metadata": {
    "collapsed": false,
    "pycharm": {
     "name": "#%%\n"
    }
   }
  },
  {
   "cell_type": "code",
   "execution_count": 53,
   "outputs": [
    {
     "data": {
      "text/plain": "(<tf.Tensor: shape=(1, 1), dtype=float64, numpy=array([[0.29308334]])>,\n <tf.Tensor: shape=(200, 1), dtype=complex128, numpy=\n array([[ 2.32187709e-05-3.61178759e-04j],\n        [ 2.42743349e-05-3.80275111e-04j],\n        [ 2.50761760e-05-3.95574251e-04j],\n        [ 2.56163956e-05-4.06923288e-04j],\n        [ 2.58897094e-05-4.14208800e-04j],\n        [ 2.58935001e-05-4.17357966e-04j],\n        [ 2.56278433e-05-4.16339295e-04j],\n        [ 2.50955069e-05-4.11162944e-04j],\n        [ 2.43019235e-05-4.01880608e-04j],\n        [ 2.32551361e-05-3.88585012e-04j],\n        [ 2.19657174e-05-3.71408981e-04j],\n        [ 2.04466649e-05-3.50524110e-04j],\n        [ 1.87132700e-05-3.26139054e-04j],\n        [ 1.67829662e-05-2.98497442e-04j],\n        [ 1.46751544e-05-2.67875440e-04j],\n        [ 1.24110089e-05-2.34578995e-04j],\n        [ 1.00132663e-05-1.98940775e-04j],\n        [ 7.50599799e-06-1.61316847e-04j],\n        [ 4.91436963e-06-1.22083121e-04j],\n        [ 2.26438986e-06-8.16315871e-05j],\n        [-4.17349679e-07-4.03664068e-05j],\n        [-3.10394003e-06+1.30013023e-06j],\n        [-5.76842379e-06+4.29517239e-05j],\n        [-8.38406443e-06+8.41722239e-05j],\n        [-1.09246135e-05+1.24549787e-04j],\n        [-1.33645729e-05+1.63680994e-04j],\n        [-1.56794494e-05+2.01174878e-04j],\n        [-1.78459999e-05+2.36656832e-04j],\n        [-1.98424633e-05+2.69772354e-04j],\n        [-2.16487777e-05+3.00190584e-04j],\n        [-2.32467814e-05+3.27607616e-04j],\n        [-2.46203942e-05+3.51749529e-04j],\n        [-2.57557776e-05+3.72375128e-04j],\n        [-2.66414738e-05+3.89278352e-04j],\n        [-2.72685197e-05+4.02290334e-04j],\n        [-2.76305365e-05+4.11281086e-04j],\n        [-2.77237937e-05+4.16160800e-04j],\n        [-2.75472460e-05+4.16880744e-04j],\n        [-2.71025440e-05+4.13433752e-04j],\n        [-2.63940176e-05+4.05854289e-04j],\n        [-2.54286329e-05+3.94218115e-04j],\n        [-2.42159224e-05+3.78641520e-04j],\n        [-2.27678896e-05+3.59280167e-04j],\n        [-2.10988897e-05+3.36327537e-04j],\n        [-1.92254853e-05+3.10012990e-04j],\n        [-1.71662817e-05+2.80599483e-04j],\n        [-1.49417404e-05+2.48380931e-04j],\n        [-1.25739751e-05+2.13679280e-04j],\n        [-1.00865303e-05+1.76841285e-04j],\n        [-7.50414670e-06+1.38235048e-04j],\n        [-4.85251317e-06+9.82463359e-05j],\n        [-2.15801072e-06+5.72747314e-05j],\n        [ 5.52551361e-07+1.57296368e-05j],\n        [ 3.25220333e-06-2.59738156e-05j],\n        [ 5.91408448e-06-6.74189112e-05j],\n        [ 8.51171147e-06-1.08191517e-04j],\n        [ 1.10192430e-05-1.47884220e-04j],\n        [ 1.34117380e-05-1.86100397e-04j],\n        [ 1.56654049e-05-2.22458177e-04j],\n        [ 1.77578390e-05-2.56594259e-04j],\n        [ 1.96682469e-05-2.88167540e-04j],\n        [ 2.13776537e-05-3.16862526e-04j],\n        [ 2.28690932e-05-3.42392478e-04j],\n        [ 2.41277767e-05-3.64502284e-04j],\n        [ 2.51412413e-05-3.82971006e-04j],\n        [ 2.58994744e-05-3.97614084e-04j],\n        [ 2.63950132e-05-4.08285184e-04j],\n        [ 2.66230201e-05-4.14877660e-04j],\n        [ 2.65813303e-05-4.17325617e-04j],\n        [ 2.62704738e-05-4.15604571e-04j],\n        [ 2.56936703e-05-4.09731692e-04j],\n        [ 2.48567963e-05-3.99765638e-04j],\n        [ 2.37683271e-05-3.85805960e-04j],\n        [ 2.24392519e-05-3.67992115e-04j],\n        [ 2.08829638e-05-3.46502069e-04j],\n        [ 1.91151264e-05-3.21550518e-04j],\n        [ 1.71535166e-05-2.93386747e-04j],\n        [ 1.50178479e-05-2.62292133e-04j],\n        [ 1.27295725e-05-2.28577340e-04j],\n        [ 1.03116678e-05-1.92579210e-04j],\n        [ 7.78840603e-06-1.54657400e-04j],\n        [ 5.18511237e-06-1.15190788e-04j],\n        [ 2.52791156e-06-7.45736877e-05j],\n        [-1.56533053e-07-3.32119061e-05j],\n        [-2.84128588e-06+8.48130756e-06j],\n        [-5.49940828e-06+5.00893932e-05j],\n        [-8.10422769e-06+9.11966413e-05j],\n        [-1.06296041e-05+1.31392346e-04j],\n        [-1.30501914e-05+1.70274911e-04j],\n        [-1.53416903e-05+2.07455859e-04j],\n        [-1.74810915e-05+2.42563714e-04j],\n        [-1.94469053e-05+2.75247715e-04j],\n        [-2.12193765e-05+3.05181321e-04j],\n        [-2.27806817e-05+3.32065468e-04j],\n        [-2.41151074e-05+3.55631564e-04j],\n        [-2.52092069e-05+3.75644170e-04j],\n        [-2.60519349e-05+3.91903352e-04j],\n        [-2.66347577e-05+4.04246677e-04j],\n        [-2.69517385e-05+4.12550840e-04j],\n        [-2.69995966e-05+4.16732895e-04j],\n        [-2.67777404e-05+4.16751079e-04j],\n        [-2.62882731e-05+4.12605237e-04j],\n        [-2.55359720e-05+4.04336818e-04j],\n        [-2.45282401e-05+3.92028461e-04j],\n        [-2.32750331e-05+3.75803172e-04j],\n        [-2.17887591e-05+3.55823095e-04j],\n        [-2.00841549e-05+3.32287889e-04j],\n        [-1.81781390e-05+3.05432735e-04j],\n        [-1.60896422e-05+2.75525984e-04j],\n        [-1.38394186e-05+2.42866482e-04j],\n        [-1.14498382e-05+2.07780576e-04j],\n        [-8.94466353e-06+1.70618858e-04j],\n        [-6.34881193e-06+1.31752660e-04j],\n        [-3.68810688e-06+9.15703462e-05j],\n        [-9.89019812e-07+5.04734299e-05j],\n        [ 1.72159433e-06+8.87256333e-06j],\n        [ 4.41676543e-06-3.28165662e-05j],\n        [ 7.06967766e-06-7.41773894e-05j],\n        [ 9.65393744e-06-1.14796617e-04j],\n        [ 1.21438371e-05-1.54268370e-04j],\n        [ 1.45146119e-05-1.92198234e-04j],\n        [ 1.67426872e-05-2.28207200e-04j],\n        [ 1.88059142e-05-2.61935454e-04j],\n        [ 2.06837913e-05-2.93045968e-04j],\n        [ 2.23576687e-05-3.21227871e-04j],\n        [ 2.38109352e-05-3.46199553e-04j],\n        [ 2.50291835e-05-3.67711479e-04j],\n        [ 2.60003547e-05-3.85548684e-04j],\n        [ 2.67148586e-05-3.99532918e-04j],\n        [ 2.71656696e-05-4.09524430e-04j],\n        [ 2.73483967e-05-4.15423364e-04j],\n        [ 2.72613276e-05-4.17170752e-04j],\n        [ 2.69054458e-05-4.14749111e-04j],\n        [ 2.62844206e-05-4.08182611e-04j],\n        [ 2.54045704e-05-3.97536838e-04j],\n        [ 2.42748000e-05-3.82918136e-04j],\n        [ 2.29065110e-05-3.64472544e-04j],\n        [ 2.13134886e-05-3.42384342e-04j],\n        [ 1.95117630e-05-3.16874202e-04j],\n        [ 1.75194502e-05-2.88196988e-04j],\n        [ 1.53565701e-05-2.56639210e-04j],\n        [ 1.30448471e-05-2.22516160e-04j],\n        [ 1.06074926e-05-1.86168759e-04j],\n        [ 8.06897361e-06-1.47960155e-04j],\n        [ 5.45476761e-06-1.08272092e-04j],\n        [ 2.79110850e-06-6.75010985e-05j],\n        [ 1.04724290e-07-2.60545208e-05j],\n        [-2.57742995e-06+1.56535432e-05j],\n        [-5.22844140e-06+5.72063829e-05j],\n        [-7.82170840e-06+9.81888383e-05j],\n        [-1.03312062e-05+1.38191449e-04j],\n        [-1.27317472e-05+1.76814543e-04j],\n        [-1.49992323e-05+2.13672235e-04j],\n        [-1.71108919e-05+2.48396276e-04j],\n        [-1.90455132e-05+2.80639738e-04j],\n        [-2.07836527e-05+3.10080477e-04j],\n        [-2.23078298e-05+3.36424352e-04j],\n        [-2.36027017e-05+3.59408167e-04j],\n        [-2.46552170e-05+3.78802298e-04j],\n        [-2.54547456e-05+3.94412987e-04j],\n        [-2.59931854e-05+4.06084281e-04j],\n        [-2.62650429e-05+4.13699588e-04j],\n        [-2.62674883e-05+4.17182841e-04j],\n        [-2.60003835e-05+4.16499261e-04j],\n        [-2.54662840e-05+4.11655703e-04j],\n        [-2.46704129e-05+4.02700586e-04j],\n        [-2.36206088e-05+3.89723412e-04j],\n        [-2.23272477e-05+3.72853871e-04j],\n        [-2.08031390e-05+3.52260543e-04j],\n        [-1.90633977e-05+3.28149219e-04j],\n        [-1.71252936e-05+3.00760836e-04j],\n        [-1.50080783e-05+2.70369079e-04j],\n        [-1.27327930e-05+2.37277641e-04j],\n        [-1.03220586e-05+2.01817189e-04j],\n        [-7.79984897e-06+1.64342061e-04j],\n        [-5.19125223e-06+1.25226727e-04j],\n        [-2.52221948e-06+8.48620452e-05j],\n        [ 1.80694271e-07+4.36513558e-05j],\n        [ 2.89059545e-06+2.00645397e-06j],\n        [ 5.58052066e-06-3.96565267e-05j],\n        [ 8.22370608e-06-8.09212720e-05j],\n        [ 1.07938549e-05-1.21375446e-04j],\n        [ 1.32654000e-05-1.60614813e-04j],\n        [ 1.56137597e-05-1.98247272e-04j],\n        [ 1.78155828e-05-2.33896783e-04j],\n        [ 1.98489825e-05-2.67207113e-04j],\n        [ 2.16937548e-05-2.97845406e-04j],\n        [ 2.33315804e-05-3.25505504e-04j],\n        [ 2.47462078e-05-3.49911003e-04j],\n        [ 2.59236157e-05-3.70818023e-04j],\n        [ 2.68521529e-05-3.88017636e-04j],\n        [ 2.75226550e-05-4.01337961e-04j],\n        [ 2.79285359e-05-4.10645877e-04j],\n        [ 2.80658534e-05-4.15848354e-04j],\n        [ 2.79333489e-05-4.16893384e-04j],\n        [ 2.75324597e-05-4.13770499e-04j],\n        [ 2.68673048e-05-4.06510876e-04j],\n        [ 2.59446440e-05-3.95187027e-04j],\n        [ 2.47738096e-05-3.79912073e-04j],\n        [ 2.33666139e-05-3.60838614e-04j]])>)"
     },
     "execution_count": 53,
     "metadata": {},
     "output_type": "execute_result"
    }
   ],
   "source": [
    "initial_values = np.linspace(-1, 1, n_time_steps, endpoint=True)\n",
    "initial_values_tf = np.expand_dims(initial_values, axis=1)\n",
    "initial_values_tf = tf.constant(initial_values_tf, dtype=DEFAULT_FLOAT_TYPE)\n",
    "\n",
    "\n",
    "simulator.value_and_gradient(opt_pars=tf.Variable(initial_values_tf, dtype=DEFAULT_FLOAT_TYPE))"
   ],
   "metadata": {
    "collapsed": false,
    "pycharm": {
     "name": "#%%\n"
    }
   }
  },
  {
   "cell_type": "code",
   "execution_count": 54,
   "outputs": [],
   "source": [
    "result = optimizer.run_optimization(initial_values)"
   ],
   "metadata": {
    "collapsed": false,
    "pycharm": {
     "name": "#%%\n"
    }
   }
  },
  {
   "cell_type": "code",
   "execution_count": 55,
   "outputs": [
    {
     "data": {
      "text/plain": "[<matplotlib.lines.Line2D at 0x184f93cb730>]"
     },
     "execution_count": 55,
     "metadata": {},
     "output_type": "execute_result"
    },
    {
     "data": {
      "text/plain": "<Figure size 432x288 with 1 Axes>",
      "image/png": "[encoded data removed]"
     },
     "metadata": {
      "needs_background": "light"
     },
     "output_type": "display_data"
    }
   ],
   "source": [
    "plt.plot(result.x)"
   ],
   "metadata": {
    "collapsed": false,
    "pycharm": {
     "name": "#%%\n"
    }
   }
  },
  {
   "cell_type": "code",
   "execution_count": 46,
   "outputs": [
    {
     "ename": "ValueError",
     "evalue": "cannot reshape array of size 100 into shape (1000,1)",
     "output_type": "error",
     "traceback": [
      "\u001B[1;31m---------------------------------------------------------------------------\u001B[0m",
      "\u001B[1;31mValueError\u001B[0m                                Traceback (most recent call last)",
      "Input \u001B[1;32mIn [46]\u001B[0m, in \u001B[0;36m<cell line: 1>\u001B[1;34m()\u001B[0m\n\u001B[1;32m----> 1\u001B[0m \u001B[43mgrad\u001B[49m\u001B[38;5;241;43m.\u001B[39;49m\u001B[43mreshape\u001B[49m\u001B[43m(\u001B[49m\u001B[43m(\u001B[49m\u001B[38;5;241;43m1000\u001B[39;49m\u001B[43m,\u001B[49m\u001B[43m \u001B[49m\u001B[38;5;241;43m1\u001B[39;49m\u001B[43m)\u001B[49m\u001B[43m)\u001B[49m\u001B[38;5;241m.\u001B[39mshape\n",
      "\u001B[1;31mValueError\u001B[0m: cannot reshape array of size 100 into shape (1000,1)"
     ]
    }
   ],
   "source": [
    "grad.reshape((1000, 1)).shape\n"
   ],
   "metadata": {
    "collapsed": false,
    "pycharm": {
     "name": "#%%\n"
    }
   }
  },
  {
   "cell_type": "code",
   "execution_count": null,
   "outputs": [],
   "source": [
    "grad"
   ],
   "metadata": {
    "collapsed": false,
    "pycharm": {
     "name": "#%%\n"
    }
   }
  },
  {
   "cell_type": "code",
   "execution_count": null,
   "outputs": [],
   "source": [
    "optimizer.simulator.solver.n_ctrl_amps"
   ],
   "metadata": {
    "collapsed": false,
    "pycharm": {
     "name": "#%%\n"
    }
   }
  }
 ],
 "metadata": {
  "kernelspec": {
   "display_name": "Python 3",
   "language": "python",
   "name": "python3"
  },
  "language_info": {
   "codemirror_mode": {
    "name": "ipython",
    "version": 2
   },
   "file_extension": ".py",
   "mimetype": "text/x-python",
   "name": "python",
   "nbconvert_exporter": "python",
   "pygments_lexer": "ipython2",
   "version": "2.7.6"
  }
 },
 "nbformat": 4,
 "nbformat_minor": 0
}