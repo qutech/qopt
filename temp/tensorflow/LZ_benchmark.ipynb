{
 "cells": [
  {
   "cell_type": "markdown",
   "source": [
    "# Landau-Zener Problem as Benchmark"
   ],
   "metadata": {
    "collapsed": false,
    "pycharm": {
     "name": "#%% md\n"
    }
   }
  },
  {
   "cell_type": "code",
   "execution_count": 2,
   "outputs": [],
   "source": [
    "import numpy as np\n",
    "import tensorflow as tf\n",
    "import matplotlib.pyplot as plt\n",
    "import time\n",
    "\n",
    "from qopt import *\n",
    "import qopt.tensorflow_optimize\n",
    "import qopt.tensorflow_simulator\n",
    "import qopt.tensorflow_cost_func\n",
    "import qopt.tensorflow_solver_algs\n",
    "from qopt.tensorflow_util import DEFAULT_FLOAT_TYPE, DEFAULT_COMPLEX_TYPE\n",
    "\n",
    "from importlib import reload\n",
    "reload(qopt.tensorflow_simulator)\n",
    "reload(qopt.tensorflow_solver_algs)\n",
    "reload(qopt.tensorflow_cost_func)\n",
    "reload(qopt.tensorflow_optimize)\n",
    "\n",
    "from scipy.constants import physical_constants, elementary_charge, giga, \\\n",
    "    micro\n",
    "\n",
    "# ############################ Physical Constants #############################\n",
    "\n",
    "hbar = physical_constants[\"reduced Planck constant\"][0]\n",
    "micro_eV_by_inverse_nano_seconds = elementary_charge / hbar / giga * micro\n",
    "\n",
    "\n",
    "total_time = .1 / 5\n",
    "n_time_steps = 200\n",
    "delta_t = total_time / n_time_steps\n",
    "tunnel_coupling = 100 * micro_eV_by_inverse_nano_seconds\n",
    "\n",
    "minimal_detuning = - 1000 * micro_eV_by_inverse_nano_seconds\n",
    "maximal_detuning = 1000 * micro_eV_by_inverse_nano_seconds\n",
    "initial_detuning = minimal_detuning\n",
    "final_detuning = maximal_detuning\n",
    "boundaries = np.zeros(shape=(n_time_steps, 2), dtype=float)\n",
    "boundaries[:, 0] = minimal_detuning\n",
    "boundaries[:, 1] = maximal_detuning\n",
    "\n",
    "# We want to ensure a transition, so we need to make sure that the final and initial values are fixed:\n",
    "boundaries[0, 1] = minimal_detuning\n",
    "boundaries[-1, 0] = maximal_detuning\n",
    "\n",
    "h_ctrl = [-.5 * DenseOperator.pauli_z()]\n",
    "h_drift = n_time_steps * [-.5 * tunnel_coupling * DenseOperator.pauli_x()]\n",
    "\n",
    "tau = delta_t * np.ones(n_time_steps)"
   ],
   "metadata": {
    "collapsed": false,
    "pycharm": {
     "name": "#%%\n"
    }
   }
  },
  {
   "cell_type": "code",
   "execution_count": 3,
   "outputs": [],
   "source": [
    "initial_hamiltonian = initial_detuning * h_ctrl[0] + h_drift[0]\n",
    "eig_vals_inital_ham, eig_vecs_inital_ham = initial_hamiltonian.spectral_decomposition(hermitian=True)\n",
    "\n",
    "final_hamiltonian = final_detuning * h_ctrl[0] + h_drift[-1]\n",
    "eig_vals_final_ham, eig_vecs_final_ham = final_hamiltonian.spectral_decomposition(hermitian=True)\n",
    "\n",
    "initial_state_vector = np.expand_dims(eig_vecs_inital_ham[:, 0], axis=1)\n",
    "final_state_vector = np.expand_dims(eig_vecs_final_ham[:, 0], axis=1)\n",
    "\n",
    "\n"
   ],
   "metadata": {
    "collapsed": false,
    "pycharm": {
     "name": "#%%\n"
    }
   }
  },
  {
   "cell_type": "code",
   "execution_count": 4,
   "outputs": [],
   "source": [
    "solver = qopt.tensorflow_solver_algs.TensorFlowSolver(\n",
    "    h_ctrl=h_ctrl,\n",
    "    h_drift=h_drift,\n",
    "    tau=tau,\n",
    "    initial=initial_state_vector  # We start in the ground state\n",
    ")\n",
    "\n",
    "cost_func = qopt.tensorflow_cost_func.TensorFlowStateInfidelity(\n",
    "    target=final_state_vector,  # We want to terminate in the instantaneous ground state\n",
    "    solver=solver\n",
    ")\n",
    "\n",
    "simulator = qopt.tensorflow_simulator.TensorFlowSimulator(\n",
    "    solver=solver,\n",
    "    cost_func=cost_func\n",
    ")\n",
    "\n",
    "optimizer = qopt.tensorflow_optimize.TensorFlowScipyOptimizer(\n",
    "    simulator=simulator,\n",
    "    boundaries=None\n",
    ")"
   ],
   "metadata": {
    "collapsed": false,
    "pycharm": {
     "name": "#%%\n"
    }
   }
  },
  {
   "cell_type": "code",
   "execution_count": 5,
   "outputs": [
    {
     "data": {
      "text/plain": "(<tf.Tensor: shape=(1, 1), dtype=float64, numpy=array([[0.79326928]])>,\n <tf.Tensor: shape=(200, 1), dtype=complex128, numpy=\n array([[-3.27766280e-06-2.29076426e-05j],\n        [-3.59513493e-06-2.23820089e-05j],\n        [-3.82984165e-06-2.18144920e-05j],\n        [-3.97732917e-06-2.12182087e-05j],\n        [-4.03522301e-06-2.06065255e-05j],\n        [-4.00318022e-06-1.99927418e-05j],\n        [-3.88279657e-06-1.93897959e-05j],\n        [-3.67747474e-06-1.88099992e-05j],\n        [-3.39226003e-06-1.82648029e-05j],\n        [-3.03365010e-06-1.77645996e-05j],\n        [-2.60938568e-06-1.73185623e-05j],\n        [-2.12822861e-06-1.69345213e-05j],\n        [-1.59973353e-06-1.66188780e-05j],\n        [-1.03401894e-06-1.63765558e-05j],\n        [-4.41542857e-07-1.62109840e-05j],\n        [ 1.67112352e-07-1.61241146e-05j],\n        [ 7.81442055e-07-1.61164663e-05j],\n        [ 1.39120515e-06-1.61871946e-05j],\n        [ 1.98659107e-06-1.63341823e-05j],\n        [ 2.55836616e-06-1.65541482e-05j],\n        [ 3.09799826e-06-1.68427692e-05j],\n        [ 3.59775899e-06-1.71948125e-05j],\n        [ 4.05080356e-06-1.76042740e-05j],\n        [ 4.45122877e-06-1.80645199e-05j],\n        [ 4.79410993e-06-1.85684290e-05j],\n        [ 5.07551807e-06-1.91085310e-05j],\n        [ 5.29251878e-06-1.96771411e-05j],\n        [ 5.44315465e-06-2.02664865e-05j],\n        [ 5.52641298e-06-2.08688253e-05j],\n        [ 5.54218085e-06-2.14765538e-05j],\n        [ 5.49118952e-06-2.20823044e-05j],\n        [ 5.37495026e-06-2.26790305e-05j],\n        [ 5.19568331e-06-2.32600804e-05j],\n        [ 4.95624219e-06-2.38192584e-05j],\n        [ 4.66003481e-06-2.43508741e-05j],\n        [ 4.31094317e-06-2.48497804e-05j],\n        [ 3.91324301e-06-2.53113998e-05j],\n        [ 3.47152480e-06-2.57317410e-05j],\n        [ 2.99061712e-06-2.61074053e-05j],\n        [ 2.47551347e-06-2.64355845e-05j],\n        [ 1.93130325e-06-2.67140509e-05j],\n        [ 1.36310749e-06-2.69411405e-05j],\n        [ 7.76019995e-07-2.71157300e-05j],\n        [ 1.75053999e-07-2.72372091e-05j],\n        [-4.34905286e-07-2.73054483e-05j],\n        [-1.04914223e-06-2.73207644e-05j],\n        [-1.66314647e-06-2.72838825e-05j],\n        [-2.27264279e-06-2.71958971e-05j],\n        [-2.87361545e-06-2.70582324e-05j],\n        [-3.46232717e-06-2.68726022e-05j],\n        [-4.03533313e-06-2.66409698e-05j],\n        [-4.58949024e-06-2.63655092e-05j],\n        [-5.12196222e-06-2.60485675e-05j],\n        [-5.63022069e-06-2.56926287e-05j],\n        [-6.11204284e-06-2.53002794e-05j],\n        [-6.56550604e-06-2.48741771e-05j],\n        [-6.98897970e-06-2.44170197e-05j],\n        [-7.38111500e-06-2.39315189e-05j],\n        [-7.74083257e-06-2.34203747e-05j],\n        [-8.06730873e-06-2.28862534e-05j],\n        [-8.35996055e-06-2.23317673e-05j],\n        [-8.61842993e-06-2.17594574e-05j],\n        [-8.84256721e-06-2.11717786e-05j],\n        [-9.03241433e-06-2.05710860e-05j],\n        [-9.18818796e-06-1.99596254e-05j],\n        [-9.31026268e-06-1.93395235e-05j],\n        [-9.39915450e-06-1.87127820e-05j],\n        [-9.45550474e-06-1.80812723e-05j],\n        [-9.48006455e-06-1.74467319e-05j],\n        [-9.47368005e-06-1.68107630e-05j],\n        [-9.43727825e-06-1.61748315e-05j],\n        [-9.37185378e-06-1.55402676e-05j],\n        [-9.27845652e-06-1.49082675e-05j],\n        [-9.15818010e-06-1.42798957e-05j],\n        [-9.01215135e-06-1.36560884e-05j],\n        [-8.84152070e-06-1.30376572e-05j],\n        [-8.64745346e-06-1.24252938e-05j],\n        [-8.43112203e-06-1.18195742e-05j],\n        [-8.19369906e-06-1.12209645e-05j],\n        [-7.93635135e-06-1.06298259e-05j],\n        [-7.66023474e-06-1.00464204e-05j],\n        [-7.36648965e-06-9.47091637e-06j],\n        [-7.05623743e-06-8.90339435e-06j],\n        [-6.73057747e-06-8.34385266e-06j],\n        [-6.39058488e-06-7.79221312e-06j],\n        [-6.03730887e-06-7.24832653e-06j],\n        [-5.67177166e-06-6.71197816e-06j],\n        [-5.29496791e-06-6.18289302e-06j],\n        [-4.90786474e-06-5.66074102e-06j],\n        [-4.51140204e-06-5.14514199e-06j],\n        [-4.10649328e-06-4.63567043e-06j],\n        [-3.69402672e-06-4.13186018e-06j],\n        [-3.27486680e-06-3.63320890e-06j],\n        [-2.84985597e-06-3.13918236e-06j],\n        [-2.41981671e-06-2.64921859e-06j],\n        [-1.98555371e-06-2.16273189e-06j],\n        [-1.54785638e-06-1.67911672e-06j],\n        [-1.10750134e-06-1.19775146e-06j],\n        [-6.65255206e-07-7.18002071e-07j],\n        [-2.21877323e-07-2.39225714e-07j],\n        [ 2.21877323e-07+2.39225714e-07j],\n        [ 6.65255206e-07+7.18002071e-07j],\n        [ 1.10750134e-06+1.19775146e-06j],\n        [ 1.54785638e-06+1.67911672e-06j],\n        [ 1.98555371e-06+2.16273189e-06j],\n        [ 2.41981671e-06+2.64921859e-06j],\n        [ 2.84985597e-06+3.13918236e-06j],\n        [ 3.27486680e-06+3.63320890e-06j],\n        [ 3.69402672e-06+4.13186018e-06j],\n        [ 4.10649328e-06+4.63567043e-06j],\n        [ 4.51140204e-06+5.14514199e-06j],\n        [ 4.90786474e-06+5.66074102e-06j],\n        [ 5.29496791e-06+6.18289302e-06j],\n        [ 5.67177166e-06+6.71197816e-06j],\n        [ 6.03730887e-06+7.24832653e-06j],\n        [ 6.39058488e-06+7.79221312e-06j],\n        [ 6.73057747e-06+8.34385266e-06j],\n        [ 7.05623743e-06+8.90339435e-06j],\n        [ 7.36648965e-06+9.47091637e-06j],\n        [ 7.66023474e-06+1.00464204e-05j],\n        [ 7.93635135e-06+1.06298259e-05j],\n        [ 8.19369906e-06+1.12209645e-05j],\n        [ 8.43112203e-06+1.18195742e-05j],\n        [ 8.64745346e-06+1.24252938e-05j],\n        [ 8.84152070e-06+1.30376572e-05j],\n        [ 9.01215135e-06+1.36560884e-05j],\n        [ 9.15818010e-06+1.42798957e-05j],\n        [ 9.27845652e-06+1.49082675e-05j],\n        [ 9.37185378e-06+1.55402676e-05j],\n        [ 9.43727825e-06+1.61748315e-05j],\n        [ 9.47368005e-06+1.68107630e-05j],\n        [ 9.48006455e-06+1.74467319e-05j],\n        [ 9.45550474e-06+1.80812723e-05j],\n        [ 9.39915450e-06+1.87127820e-05j],\n        [ 9.31026268e-06+1.93395235e-05j],\n        [ 9.18818796e-06+1.99596254e-05j],\n        [ 9.03241433e-06+2.05710860e-05j],\n        [ 8.84256721e-06+2.11717786e-05j],\n        [ 8.61842993e-06+2.17594574e-05j],\n        [ 8.35996055e-06+2.23317673e-05j],\n        [ 8.06730873e-06+2.28862534e-05j],\n        [ 7.74083257e-06+2.34203747e-05j],\n        [ 7.38111500e-06+2.39315189e-05j],\n        [ 6.98897970e-06+2.44170197e-05j],\n        [ 6.56550604e-06+2.48741771e-05j],\n        [ 6.11204284e-06+2.53002794e-05j],\n        [ 5.63022069e-06+2.56926287e-05j],\n        [ 5.12196222e-06+2.60485675e-05j],\n        [ 4.58949024e-06+2.63655092e-05j],\n        [ 4.03533313e-06+2.66409698e-05j],\n        [ 3.46232717e-06+2.68726022e-05j],\n        [ 2.87361545e-06+2.70582324e-05j],\n        [ 2.27264279e-06+2.71958971e-05j],\n        [ 1.66314647e-06+2.72838825e-05j],\n        [ 1.04914223e-06+2.73207644e-05j],\n        [ 4.34905286e-07+2.73054483e-05j],\n        [-1.75053999e-07+2.72372091e-05j],\n        [-7.76019995e-07+2.71157300e-05j],\n        [-1.36310749e-06+2.69411405e-05j],\n        [-1.93130325e-06+2.67140509e-05j],\n        [-2.47551347e-06+2.64355845e-05j],\n        [-2.99061712e-06+2.61074053e-05j],\n        [-3.47152480e-06+2.57317410e-05j],\n        [-3.91324301e-06+2.53113998e-05j],\n        [-4.31094317e-06+2.48497804e-05j],\n        [-4.66003481e-06+2.43508741e-05j],\n        [-4.95624219e-06+2.38192584e-05j],\n        [-5.19568331e-06+2.32600804e-05j],\n        [-5.37495026e-06+2.26790305e-05j],\n        [-5.49118952e-06+2.20823044e-05j],\n        [-5.54218085e-06+2.14765538e-05j],\n        [-5.52641298e-06+2.08688253e-05j],\n        [-5.44315465e-06+2.02664865e-05j],\n        [-5.29251878e-06+1.96771411e-05j],\n        [-5.07551807e-06+1.91085310e-05j],\n        [-4.79410993e-06+1.85684290e-05j],\n        [-4.45122877e-06+1.80645199e-05j],\n        [-4.05080356e-06+1.76042740e-05j],\n        [-3.59775899e-06+1.71948125e-05j],\n        [-3.09799826e-06+1.68427692e-05j],\n        [-2.55836616e-06+1.65541482e-05j],\n        [-1.98659107e-06+1.63341823e-05j],\n        [-1.39120515e-06+1.61871946e-05j],\n        [-7.81442055e-07+1.61164663e-05j],\n        [-1.67112352e-07+1.61241146e-05j],\n        [ 4.41542857e-07+1.62109840e-05j],\n        [ 1.03401894e-06+1.63765558e-05j],\n        [ 1.59973353e-06+1.66188780e-05j],\n        [ 2.12822861e-06+1.69345213e-05j],\n        [ 2.60938568e-06+1.73185623e-05j],\n        [ 3.03365010e-06+1.77645996e-05j],\n        [ 3.39226003e-06+1.82648029e-05j],\n        [ 3.67747474e-06+1.88099992e-05j],\n        [ 3.88279657e-06+1.93897959e-05j],\n        [ 4.00318022e-06+1.99927418e-05j],\n        [ 4.03522301e-06+2.06065255e-05j],\n        [ 3.97732917e-06+2.12182087e-05j],\n        [ 3.82984165e-06+2.18144920e-05j],\n        [ 3.59513493e-06+2.23820089e-05j],\n        [ 3.27766280e-06+2.29076426e-05j]])>)"
     },
     "execution_count": 5,
     "metadata": {},
     "output_type": "execute_result"
    }
   ],
   "source": [
    "initial_values = np.linspace(minimal_detuning, maximal_detuning, n_time_steps, endpoint=True)\n",
    "initial_values_tf = np.expand_dims(initial_values, axis=1)\n",
    "initial_values_tf = tf.constant(initial_values_tf, dtype=DEFAULT_FLOAT_TYPE)\n",
    "\n",
    "\n",
    "simulator.value_and_gradient(opt_pars=tf.Variable(initial_values_tf, dtype=DEFAULT_FLOAT_TYPE))"
   ],
   "metadata": {
    "collapsed": false,
    "pycharm": {
     "name": "#%%\n"
    }
   }
  },
  {
   "cell_type": "code",
   "execution_count": 6,
   "outputs": [],
   "source": [
    "# Load the TensorBoard notebook extension.\n",
    "# %load_ext tensorboard"
   ],
   "metadata": {
    "collapsed": false,
    "pycharm": {
     "name": "#%%\n"
    }
   }
  },
  {
   "cell_type": "code",
   "execution_count": 7,
   "outputs": [],
   "source": [
    "# Launch TensorBoard and navigate to the Profile tab to view performance profile\n",
    "# %tensorboard --logdir=logs"
   ],
   "metadata": {
    "collapsed": false,
    "pycharm": {
     "name": "#%%\n"
    }
   }
  },
  {
   "cell_type": "code",
   "execution_count": 8,
   "outputs": [
    {
     "data": {
      "text/plain": "2"
     },
     "execution_count": 8,
     "metadata": {},
     "output_type": "execute_result"
    }
   ],
   "source": [
    "1+1"
   ],
   "metadata": {
    "collapsed": false,
    "pycharm": {
     "name": "#%%\n"
    }
   }
  },
  {
   "cell_type": "code",
   "execution_count": 29,
   "outputs": [
    {
     "name": "stdout",
     "output_type": "stream",
     "text": [
      "64.546142578125\n"
     ]
    }
   ],
   "source": [
    "\n",
    "\n",
    "start = time.time()\n",
    "# with tf.device(\"/cpu:0\"):\n",
    "for i in range(7):\n",
    "    result = optimizer.run_optimization(initial_values)\n",
    "end = time.time()\n",
    "duration = end - start\n",
    "print(duration)"
   ],
   "metadata": {
    "collapsed": false,
    "pycharm": {
     "name": "#%%\n"
    }
   }
  },
  {
   "cell_type": "code",
   "execution_count": 10,
   "outputs": [
    {
     "name": "stdout",
     "output_type": "stream",
     "text": [
      "         792 function calls (753 primitive calls) in 0.048 seconds\n",
      "\n",
      "   Ordered by: standard name\n",
      "\n",
      "   ncalls  tottime  percall  cumtime  percall filename:lineno(function)\n",
      "        1    0.000    0.000    0.000    0.000 <string>:1(<lambda>)\n",
      "        1    0.000    0.000    0.048    0.048 <string>:1(<module>)\n",
      "       19    0.000    0.000    0.000    0.000 abc.py:117(__instancecheck__)\n",
      "        4    0.000    0.000    0.000    0.000 abc.py:121(__subclasscheck__)\n",
      "        1    0.000    0.000    0.000    0.000 compat.py:61(as_bytes)\n",
      "        1    0.000    0.000    0.000    0.000 context.py:1256(function_call_options)\n",
      "        1    0.000    0.000    0.000    0.000 context.py:198(executor_type)\n",
      "        2    0.000    0.000    0.000    0.000 context.py:206(config_proto_serialized)\n",
      "       12    0.000    0.000    0.000    0.000 context.py:2131(context_safe)\n",
      "        8    0.000    0.000    0.000    0.000 context.py:2161(executing_eagerly)\n",
      "        1    0.000    0.000    0.000    0.000 context.py:2290(anonymous_name)\n",
      "        1    0.000    0.000    0.000    0.000 context.py:580(ensure_initialized)\n",
      "        1    0.000    0.000    0.000    0.000 context.py:931(_handle)\n",
      "       13    0.000    0.000    0.000    0.000 context.py:973(executing_eagerly)\n",
      "        1    0.000    0.000    0.000    0.000 context.py:985(scope_name)\n",
      "        2    0.000    0.000    0.000    0.000 context.py:990(scope_name)\n",
      "        1    0.000    0.000    0.000    0.000 context.py:995(device_name)\n",
      "      5/3    0.000    0.000    0.000    0.000 contextlib.py:114(__enter__)\n",
      "      5/3    0.000    0.000    0.000    0.000 contextlib.py:123(__exit__)\n",
      "        5    0.000    0.000    0.000    0.000 contextlib.py:261(helper)\n",
      "        5    0.000    0.000    0.000    0.000 contextlib.py:86(__init__)\n",
      "        1    0.000    0.000    0.000    0.000 def_function.py:1243(__get__)\n",
      "        1    0.000    0.000    0.000    0.000 def_function.py:162(called_without_tracing)\n",
      "        1    0.000    0.000    0.000    0.000 def_function.py:180(_get_detector)\n",
      "        1    0.000    0.000    0.000    0.000 def_function.py:185(called_without_tracing)\n",
      "        1    0.000    0.000    0.000    0.000 def_function.py:529(__init__)\n",
      "        1    0.000    0.000    0.000    0.000 def_function.py:535(__enter__)\n",
      "        1    0.000    0.000    0.000    0.000 def_function.py:539(__exit__)\n",
      "        2    0.000    0.000    0.000    0.000 def_function.py:850(experimental_get_tracing_count)\n",
      "        1    0.000    0.000    0.000    0.000 def_function.py:883(_run_functions_eagerly)\n",
      "        1    0.000    0.000    0.047    0.047 def_function.py:887(__call__)\n",
      "        1    0.000    0.000    0.047    0.047 def_function.py:934(_call)\n",
      "      4/2    0.000    0.000    0.000    0.000 default_types.py:126(__eq__)\n",
      "      6/3    0.000    0.000    0.000    0.000 default_types.py:135(__hash__)\n",
      "        2    0.000    0.000    0.000    0.000 default_types.py:170(__init__)\n",
      "        1    0.000    0.000    0.000    0.000 default_types.py:233(__init__)\n",
      "        2    0.000    0.000    0.000    0.000 default_types.py:278(__eq__)\n",
      "        3    0.000    0.000    0.000    0.000 default_types.py:287(__hash__)\n",
      "        1    0.000    0.000    0.000    0.000 default_types.py:303(__init__)\n",
      "        2    0.000    0.000    0.000    0.000 default_types.py:326(__eq__)\n",
      "        3    0.000    0.000    0.000    0.000 default_types.py:334(__hash__)\n",
      "        2    0.000    0.000    0.000    0.000 default_types.py:93(__init__)\n",
      "        4    0.000    0.000    0.000    0.000 default_types.py:98(_shallow_equal)\n",
      "        1    0.000    0.000    0.000    0.000 distribute_lib.py:3721(value_container)\n",
      "        1    0.000    0.000    0.000    0.000 distribute_lib.py:843(extended)\n",
      "        1    0.000    0.000    0.000    0.000 distribution_strategy_context.py:269(get_strategy_and_replica_context)\n",
      "        1    0.000    0.000    0.000    0.000 distribution_strategy_context.py:397(_get_default_replica_mode)\n",
      "        1    0.000    0.000    0.000    0.000 distribution_strategy_context.py:76(_get_per_thread_mode)\n",
      "        1    0.000    0.000    0.000    0.000 dtypes.py:155(is_compatible_with)\n",
      "       11    0.000    0.000    0.000    0.000 dtypes.py:175(__eq__)\n",
      "        3    0.000    0.000    0.000    0.000 dtypes.py:50(_is_ref_dtype)\n",
      "        3    0.000    0.000    0.000    0.000 dtypes.py:63(base_dtype)\n",
      "        5    0.000    0.000    0.000    0.000 dtypes.py:678(as_dtype)\n",
      "        2    0.000    0.000    0.000    0.000 enum.py:358(__call__)\n",
      "        2    0.000    0.000    0.000    0.000 enum.py:670(__new__)\n",
      "        1    0.000    0.000    0.047    0.047 execute.py:29(quick_execute)\n",
      "        1    0.000    0.000    0.047    0.047 function.py:1783(_call_flat)\n",
      "        2    0.000    0.000    0.000    0.000 function.py:1934(outputs)\n",
      "        1    0.000    0.000    0.000    0.000 function.py:199(__init__)\n",
      "        1    0.000    0.000    0.000    0.000 function.py:202(__enter__)\n",
      "        1    0.000    0.000    0.000    0.000 function.py:205(__exit__)\n",
      "        1    0.000    0.000    0.000    0.000 function.py:2058(captured_inputs)\n",
      "        1    0.000    0.000    0.000    0.000 function.py:2065(<listcomp>)\n",
      "        1    0.000    0.000    0.000    0.000 function.py:2203(_build_call_outputs)\n",
      "        1    0.000    0.000    0.047    0.047 function.py:2448(__call__)\n",
      "        2    0.000    0.000    0.000    0.000 function.py:2465(input_signature)\n",
      "        1    0.000    0.000    0.000    0.000 function.py:2646(_maybe_define_function)\n",
      "        2    0.000    0.000    0.000    0.000 function.py:405(signature)\n",
      "        1    0.000    0.000    0.047    0.047 function.py:460(call)\n",
      "        1    0.000    0.000    0.000    0.000 function_cache.py:114(lookup)\n",
      "        1    0.000    0.000    0.000    0.000 function_cache.py:42(__init__)\n",
      "        3    0.000    0.000    0.000    0.000 function_cache.py:75(__hash__)\n",
      "        2    0.000    0.000    0.000    0.000 function_cache.py:78(__eq__)\n",
      "        1    0.000    0.000    0.000    0.000 function_context.py:123(make_cache_key)\n",
      "        1    0.000    0.000    0.000    0.000 function_context.py:40(make_function_context)\n",
      "        2    0.000    0.000    0.000    0.000 function_spec.py:223(input_signature)\n",
      "        1    0.000    0.000    0.000    0.000 function_spec.py:301(_validate_inputs)\n",
      "        1    0.000    0.000    0.000    0.000 function_spec.py:309(canonicalize_function_inputs)\n",
      "        1    0.000    0.000    0.000    0.000 function_spec.py:383(<dictcomp>)\n",
      "        1    0.000    0.000    0.000    0.000 function_spec.py:445(_deterministic_dict_values)\n",
      "        2    0.000    0.000    0.000    0.000 function_spec.py:446(<genexpr>)\n",
      "        2    0.000    0.000    0.000    0.000 function_spec.py:456(_convert_numpy_inputs)\n",
      "        1    0.000    0.000    0.000    0.000 gen_resource_variable_ops.py:1156(var_handle_op)\n",
      "        1    0.000    0.000    0.000    0.000 gen_resource_variable_ops.py:121(assign_variable_op)\n",
      "        1    0.000    0.000    0.000    0.000 gradients_util.py:1032(PossibleTapeGradientTypes)\n",
      "        4    0.000    0.000    0.000    0.000 handle_data_util.py:25(copy_handle_data)\n",
      "        1    0.000    0.000    0.000    0.000 nest.py:147(is_namedtuple)\n",
      "        1    0.000    0.000    0.000    0.000 nest.py:185(_sequence_like)\n",
      "        3    0.000    0.000    0.000    0.000 nest.py:255(_yield_value)\n",
      "        3    0.000    0.000    0.000    0.000 nest.py:260(_yield_sorted_items)\n",
      "        4    0.000    0.000    0.000    0.000 nest.py:355(flatten)\n",
      "        1    0.000    0.000    0.000    0.000 nest.py:611(_packed_nest_with_indices)\n",
      "        1    0.000    0.000    0.000    0.000 nest.py:651(_pack_sequence_as)\n",
      "        1    0.000    0.000    0.000    0.000 nest.py:691(pack_sequence_as)\n",
      "       12    0.000    0.000    0.000    0.000 ops.py:1129(dtype)\n",
      "        1    0.000    0.000    0.000    0.000 ops.py:1256(shape)\n",
      "        2    0.000    0.000    0.000    0.000 ops.py:1312(graph)\n",
      "        1    0.000    0.000    0.000    0.000 ops.py:1572(convert_to_tensor)\n",
      "        2    0.000    0.000    0.000    0.000 ops.py:172(__init__)\n",
      "        2    0.000    0.000    0.000    0.000 ops.py:175(__enter__)\n",
      "        2    0.000    0.000    0.000    0.000 ops.py:178(__exit__)\n",
      "        1    0.000    0.000    0.000    0.000 ops.py:222(uid)\n",
      "        1    0.000    0.000    0.000    0.000 ops.py:2988(name_from_scope_name)\n",
      "        1    0.000    0.000    0.000    0.000 ops.py:3288(_variable_creator_stack)\n",
      "        1    0.000    0.000    0.000    0.000 ops.py:3630(building_function)\n",
      "        1    0.000    0.000    0.000    0.000 ops.py:436(__getattr__)\n",
      "        2    0.000    0.000    0.000    0.000 ops.py:5059(_attr_scope)\n",
      "        2    0.000    0.000    0.000    0.000 ops.py:5396(_distribution_strategy_stack)\n",
      "        8    0.000    0.000    0.000    0.000 ops.py:5792(get_default)\n",
      "        4    0.000    0.000    0.000    0.000 ops.py:5874(init_scope)\n",
      "        8    0.000    0.000    0.000    0.000 ops.py:6263(get_default_graph)\n",
      "        2    0.000    0.000    0.000    0.000 ops.py:6670(name_scope)\n",
      "        1    0.000    0.000    0.000    0.000 ops.py:6706(<genexpr>)\n",
      "        1    0.000    0.000    0.000    0.000 ops.py:6905(__init__)\n",
      "        1    0.000    0.000    0.000    0.000 ops.py:6923(__enter__)\n",
      "        1    0.000    0.000    0.000    0.000 ops.py:6947(_restore_name_scope)\n",
      "        1    0.000    0.000    0.000    0.000 ops.py:6957(__exit__)\n",
      "        1    0.000    0.000    0.000    0.000 resource_variable_ops.py:142(_variable_handle_from_shape_and_dtype)\n",
      "        1    0.000    0.000    0.001    0.001 resource_variable_ops.py:1536(__init__)\n",
      "        1    0.000    0.000    0.001    0.001 resource_variable_ops.py:1645(_init_from_args)\n",
      "        1    0.000    0.000    0.000    0.000 resource_variable_ops.py:193(eager_safe_variable_handle)\n",
      "        1    0.000    0.000    0.000    0.000 resource_variable_ops.py:2336(__init__)\n",
      "        3    0.000    0.000    0.000    0.000 resource_variable_ops.py:2384(__hash__)\n",
      "        2    0.000    0.000    0.000    0.000 resource_variable_ops.py:2387(__eq__)\n",
      "        1    0.000    0.000    0.000    0.000 resource_variable_ops.py:324(variable_accessed)\n",
      "        1    0.000    0.000    0.000    0.000 resource_variable_ops.py:336(__init__)\n",
      "        1    0.000    0.000    0.000    0.000 resource_variable_ops.py:464(__tf_tracing_type__)\n",
      "        1    0.000    0.000    0.000    0.000 resource_variable_ops.py:525(dtype)\n",
      "        1    0.000    0.000    0.000    0.000 resource_variable_ops.py:545(shape)\n",
      "        3    0.000    0.000    0.000    0.000 resource_variable_ops.py:572(handle)\n",
      "        1    0.000    0.000    0.000    0.000 resource_variable_ops.py:616(trainable)\n",
      "        1    0.000    0.000    0.000    0.000 resource_variable_ops.py:80(_set_handle_shapes_and_types)\n",
      "        1    0.000    0.000    0.000    0.000 save_context.py:42(in_save_context)\n",
      "        1    0.000    0.000    0.000    0.000 save_context.py:59(in_save_context)\n",
      "      5/3    0.000    0.000    0.000    0.000 signature_builder.py:110(<genexpr>)\n",
      "        1    0.000    0.000    0.000    0.000 signature_builder.py:114(<dictcomp>)\n",
      "        1    0.000    0.000    0.000    0.000 signature_builder.py:142(make_function_signature)\n",
      "        1    0.000    0.000    0.000    0.000 signature_builder.py:38(__init__)\n",
      "        1    0.000    0.000    0.000    0.000 signature_builder.py:61(__init__)\n",
      "        1    0.000    0.000    0.000    0.000 signature_builder.py:68(make_reference_type)\n",
      "        1    0.000    0.000    0.000    0.000 signature_builder.py:81(deletion_observer)\n",
      "      4/1    0.000    0.000    0.000    0.000 signature_builder.py:87(create_trace_type)\n",
      "        2    0.000    0.000    0.000    0.000 six.py:588(iteritems)\n",
      "        1    0.000    0.000    0.000    0.000 tape.py:104(variable_accessed)\n",
      "        4    0.000    0.000    0.000    0.000 tape.py:150(stop_recording)\n",
      "        1    0.000    0.000    0.000    0.000 tape.py:220(could_possibly_record)\n",
      "        1    0.000    0.000    0.000    0.000 tensor_shape.py:1350(as_proto)\n",
      "        1    0.000    0.000    0.000    0.000 tensor_shape.py:1355(<listcomp>)\n",
      "        2    0.000    0.000    0.000    0.000 tensor_shape.py:1360(__eq__)\n",
      "        3    0.000    0.000    0.000    0.000 tensor_shape.py:1415(__hash__)\n",
      "        4    0.000    0.000    0.000    0.000 tensor_shape.py:1425(as_shape)\n",
      "        1    0.000    0.000    0.000    0.000 tensor_shape.py:765(__init__)\n",
      "        2    0.000    0.000    0.000    0.000 tensor_shape.py:810(_v2_behavior)\n",
      "        1    0.000    0.000    0.000    0.000 tensor_shape.py:865(__len__)\n",
      "        2    0.000    0.000    0.000    0.000 tensor_shape.py:888(__getitem__)\n",
      "        1    0.000    0.000    0.000    0.000 tensor_spec.py:35(__init__)\n",
      "        7    0.000    0.000    0.000    0.000 tensor_spec.py:51(shape)\n",
      "        7    0.000    0.000    0.000    0.000 tensor_spec.py:56(dtype)\n",
      "        1    0.000    0.000    0.000    0.000 trace.py:121(__exit__)\n",
      "        1    0.000    0.000    0.000    0.000 trace.py:178(wrapped)\n",
      "        1    0.000    0.000    0.000    0.000 trace.py:50(__init__)\n",
      "        1    0.000    0.000    0.000    0.000 trace.py:83(__enter__)\n",
      "        1    0.000    0.000    0.000    0.000 trace.py:87(set_metadata)\n",
      "      3/2    0.000    0.000    0.048    0.024 traceback_utils.py:138(error_handler)\n",
      "        3    0.000    0.000    0.000    0.000 traceback_utils.py:32(is_traceback_filtering_enabled)\n",
      "        1    0.000    0.000    0.000    0.000 type_dispatch.py:75(dispatch)\n",
      "        7    0.000    0.000    0.000    0.000 typing.py:1065(_get_protocol_attrs)\n",
      "        4    0.000    0.000    0.000    0.000 typing.py:1082(_is_callable_members_only)\n",
      "        8    0.000    0.000    0.000    0.000 typing.py:1084(<genexpr>)\n",
      "        4    0.000    0.000    0.000    0.000 typing.py:1141(__instancecheck__)\n",
      "        6    0.000    0.000    0.000    0.000 typing.py:1149(<genexpr>)\n",
      "        2    0.000    0.000    0.000    0.000 util.py:19(is_namedtuple)\n",
      "        1    0.000    0.000    0.001    0.001 variable_scope.py:2738(default_variable_creator_v2)\n",
      "        2    0.000    0.000    0.000    0.000 variables.py:154(validate_synchronization_aggregation_trainable)\n",
      "        1    0.000    0.000    0.001    0.001 variables.py:226(_variable_v2_call)\n",
      "        1    0.000    0.000    0.001    0.001 variables.py:240(<lambda>)\n",
      "      2/1    0.000    0.000    0.001    0.001 variables.py:261(__call__)\n",
      "        2    0.000    0.000    0.000    0.000 weakref.py:415(__getitem__)\n",
      "        2    0.000    0.000    0.000    0.000 weakref.py:455(__contains__)\n",
      "        2    0.000    0.000    0.000    0.000 {built-in method __new__ of type object at 0x00007FFC3987BC60}\n",
      "       19    0.000    0.000    0.000    0.000 {built-in method _abc._abc_instancecheck}\n",
      "        4    0.000    0.000    0.000    0.000 {built-in method _abc._abc_subclasscheck}\n",
      "        1    0.000    0.000    0.000    0.000 {built-in method _codecs.lookup}\n",
      "        7    0.000    0.000    0.000    0.000 {built-in method builtins.all}\n",
      "       10    0.000    0.000    0.000    0.000 {built-in method builtins.callable}\n",
      "        1    0.000    0.000    0.048    0.048 {built-in method builtins.exec}\n",
      "       23    0.000    0.000    0.000    0.000 {built-in method builtins.getattr}\n",
      "       11    0.000    0.000    0.000    0.000 {built-in method builtins.hasattr}\n",
      "     22/3    0.000    0.000    0.000    0.000 {built-in method builtins.hash}\n",
      "        2    0.000    0.000    0.000    0.000 {built-in method builtins.id}\n",
      "       65    0.000    0.000    0.000    0.000 {built-in method builtins.isinstance}\n",
      "        4    0.000    0.000    0.000    0.000 {built-in method builtins.issubclass}\n",
      "        2    0.000    0.000    0.000    0.000 {built-in method builtins.iter}\n",
      "       14    0.000    0.000    0.000    0.000 {built-in method builtins.len}\n",
      "     11/7    0.000    0.000    0.000    0.000 {built-in method builtins.next}\n",
      "        1    0.000    0.000    0.000    0.000 {built-in method builtins.sorted}\n",
      "        1    0.047    0.047    0.047    0.047 {built-in method tensorflow.python._pywrap_tfe.TFE_Py_Execute}\n",
      "        2    0.000    0.000    0.000    0.000 {built-in method tensorflow.python._pywrap_tfe.TFE_Py_FastPathExecute}\n",
      "        1    0.000    0.000    0.000    0.000 {built-in method tensorflow.python._pywrap_tfe.TFE_Py_TapeSetIsEmpty}\n",
      "        2    0.000    0.000    0.000    0.000 {built-in method tensorflow.python._pywrap_tfe.TFE_Py_TapeSetIsStopped}\n",
      "        1    0.000    0.000    0.000    0.000 {built-in method tensorflow.python._pywrap_tfe.TFE_Py_TapeSetPossibleGradientTypes}\n",
      "        1    0.000    0.000    0.000    0.000 {built-in method tensorflow.python._pywrap_tfe.TFE_Py_TapeSetRestartOnThread}\n",
      "        1    0.000    0.000    0.000    0.000 {built-in method tensorflow.python._pywrap_tfe.TFE_Py_TapeSetStopOnThread}\n",
      "        1    0.000    0.000    0.000    0.000 {built-in method tensorflow.python._pywrap_tfe.TFE_Py_TapeVariableAccessed}\n",
      "        1    0.000    0.000    0.000    0.000 {built-in method tensorflow.python._pywrap_tfe.TFE_Py_UID}\n",
      "        1    0.000    0.000    0.000    0.000 {built-in method tensorflow.python._pywrap_tfe.TFE_Py_VariableWatcherVariableAccessed}\n",
      "        4    0.000    0.000    0.000    0.000 {built-in method tensorflow.python.util._pywrap_utils.Flatten}\n",
      "        1    0.000    0.000    0.000    0.000 {built-in method tensorflow.python.util._pywrap_utils.IsAttrs}\n",
      "        1    0.000    0.000    0.000    0.000 {built-in method tensorflow.python.util._pywrap_utils.IsCompositeTensor}\n",
      "        1    0.000    0.000    0.000    0.000 {built-in method tensorflow.python.util._pywrap_utils.IsMappingView}\n",
      "        1    0.000    0.000    0.000    0.000 {built-in method tensorflow.python.util._pywrap_utils.IsMapping}\n",
      "        1    0.000    0.000    0.000    0.000 {built-in method tensorflow.python.util._pywrap_utils.IsMutableMapping}\n",
      "        1    0.000    0.000    0.000    0.000 {built-in method tensorflow.python.util._pywrap_utils.IsNamedtuple}\n",
      "        4    0.000    0.000    0.000    0.000 {built-in method tensorflow.python.util._pywrap_utils.IsNestedOrComposite}\n",
      "        1    0.000    0.000    0.000    0.000 {built-in method tensorflow.python.util._pywrap_utils.IsTypeSpec}\n",
      "        1    0.000    0.000    0.000    0.000 {method '__exit__' of '_thread.RLock' objects}\n",
      "        1    0.000    0.000    0.000    0.000 {method '__exit__' of '_thread.lock' objects}\n",
      "       12    0.000    0.000    0.000    0.000 {method '_datatype_enum' of 'tensorflow.python.framework.ops.EagerTensor' objects}\n",
      "        1    0.000    0.000    0.000    0.000 {method 'acquire' of '_thread.RLock' objects}\n",
      "        8    0.000    0.000    0.000    0.000 {method 'add' of 'set' objects}\n",
      "        1    0.000    0.000    0.000    0.000 {method 'append' of 'google.protobuf.pyext._message.RepeatedCompositeContainer' objects}\n",
      "        6    0.000    0.000    0.000    0.000 {method 'append' of 'list' objects}\n",
      "        1    0.000    0.000    0.000    0.000 {method 'disable' of '_lsprof.Profiler' objects}\n",
      "        1    0.000    0.000    0.000    0.000 {method 'discard' of 'set' objects}\n",
      "        1    0.000    0.000    0.000    0.000 {method 'encode' of 'str' objects}\n",
      "       14    0.000    0.000    0.000    0.000 {method 'get' of 'dict' objects}\n",
      "        4    0.000    0.000    0.000    0.000 {method 'items' of 'dict' objects}\n",
      "       10    0.000    0.000    0.000    0.000 {method 'keys' of 'dict' objects}\n",
      "        7    0.000    0.000    0.000    0.000 {method 'keys' of 'mappingproxy' objects}\n",
      "        1    0.000    0.000    0.000    0.000 {method 'pop' of 'dict' objects}\n",
      "        1    0.000    0.000    0.000    0.000 {method 'pop' of 'list' objects}\n",
      "        1    0.000    0.000    0.000    0.000 {method 'release' of '_thread.RLock' objects}\n",
      "       84    0.000    0.000    0.000    0.000 {method 'startswith' of 'str' objects}\n",
      "\n",
      "\n"
     ]
    }
   ],
   "source": [
    "import cProfile\n",
    "import pstats\n",
    "\n",
    "\n",
    "cProfile.run('simulator.value_and_gradient(opt_pars=tf.Variable(initial_values_tf, dtype=DEFAULT_FLOAT_TYPE))')"
   ],
   "metadata": {
    "collapsed": false,
    "pycharm": {
     "name": "#%%\n"
    }
   }
  },
  {
   "cell_type": "code",
   "execution_count": 11,
   "outputs": [
    {
     "name": "stdout",
     "output_type": "stream",
     "text": [
      "4.8173887729644775\n"
     ]
    }
   ],
   "source": [
    "start = time.time()\n",
    "for i in range(100):\n",
    "    simulator.value_and_gradient(opt_pars=tf.Variable(initial_values_tf, dtype=DEFAULT_FLOAT_TYPE))\n",
    "end = time.time()\n",
    "print(end - start)"
   ],
   "metadata": {
    "collapsed": false,
    "pycharm": {
     "name": "#%%\n"
    }
   }
  },
  {
   "cell_type": "code",
   "execution_count": 12,
   "outputs": [],
   "source": [
    "stats = None"
   ],
   "metadata": {
    "collapsed": false,
    "pycharm": {
     "name": "#%%\n"
    }
   }
  },
  {
   "cell_type": "code",
   "execution_count": 13,
   "outputs": [],
   "source": [
    "result = optimizer.run_optimization(initial_values)"
   ],
   "metadata": {
    "collapsed": false,
    "pycharm": {
     "name": "#%%\n"
    }
   }
  },
  {
   "cell_type": "code",
   "execution_count": 14,
   "outputs": [
    {
     "data": {
      "text/plain": "167"
     },
     "execution_count": 14,
     "metadata": {},
     "output_type": "execute_result"
    }
   ],
   "source": [
    "result.nfev"
   ],
   "metadata": {
    "collapsed": false,
    "pycharm": {
     "name": "#%%\n"
    }
   }
  },
  {
   "cell_type": "code",
   "execution_count": 15,
   "outputs": [
    {
     "data": {
      "text/plain": "0.02963974710779027"
     },
     "execution_count": 15,
     "metadata": {},
     "output_type": "execute_result"
    }
   ],
   "source": [
    "result.fun * 1e3"
   ],
   "metadata": {
    "collapsed": false,
    "pycharm": {
     "name": "#%%\n"
    }
   }
  },
  {
   "cell_type": "code",
   "execution_count": 16,
   "outputs": [
    {
     "data": {
      "text/plain": "<Figure size 432x288 with 1 Axes>",
      "image/png": "[encoded data removed]"
     },
     "metadata": {
      "needs_background": "light"
     },
     "output_type": "display_data"
    }
   ],
   "source": [
    "plt.plot(result.x)\n",
    "plt.savefig(r'C:\\Users\\julia\\Desktop\\Work\\Documentation\\2022_08_21_Tensorflow_qopt\\SamplePicture\\second_result.pdf')"
   ],
   "metadata": {
    "collapsed": false,
    "pycharm": {
     "name": "#%%\n"
    }
   }
  },
  {
   "cell_type": "code",
   "execution_count": 17,
   "outputs": [
    {
     "data": {
      "text/plain": "      fun: 2.963974710779027e-05\n hess_inv: <200x200 LbfgsInvHessProduct with dtype=float64>\n      jac: array([-2.76369620e-09, -4.90089394e-10, -1.18191403e-09, -1.42213548e-09,\n       -4.72578099e-10,  1.25368516e-09,  3.12246593e-09,  4.63592475e-09,\n        5.51297512e-09,  5.67857813e-09,  5.22741519e-09,  4.38386507e-09,\n        3.46283697e-09,  2.81893161e-09,  2.75907993e-09,  3.40420763e-09,\n        4.53325072e-09,  5.49191880e-09,  5.29014988e-09,  3.18200379e-09,\n       -1.86907584e-11, -6.31026481e-11,  5.57187175e-09,  2.13179482e-09,\n       -1.16826161e-09,  9.65190077e-10,  3.24067373e-09,  3.72473379e-09,\n        2.78159253e-09,  1.41156575e-09,  3.91741302e-10,  6.35642306e-11,\n        3.89744864e-10,  1.11080635e-09,  1.90904680e-09,  2.52317206e-09,\n        2.80417824e-09,  2.72420454e-09,  2.35331442e-09,  1.82042706e-09,\n        1.27303753e-09,  8.44702697e-10,  6.33473456e-10,  6.91263284e-10,\n        1.02286810e-09,  1.59254027e-09,  2.33534384e-09,  3.17037220e-09,\n        4.01343477e-09,  4.78768330e-09,  5.43142540e-09,  5.90288754e-09,\n        6.18201069e-09,  6.26960966e-09,  6.18443943e-09,  5.95885117e-09,\n        5.63374748e-09,  5.25346773e-09,  4.86109693e-09,  4.49454520e-09,\n        4.18361822e-09,  3.94819134e-09,  3.79750202e-09,  3.73048079e-09,\n        3.73695634e-09,  3.79950887e-09,  3.89571744e-09,  4.00055305e-09,\n        4.08870052e-09,  4.13663818e-09,  4.12435264e-09,  4.03661255e-09,\n        3.86376613e-09,  3.60206457e-09,  3.25354517e-09,  2.82553459e-09,\n        2.32985179e-09,  1.78180063e-09,  1.19904439e-09,  6.00448941e-10,\n        4.97096202e-12, -5.69346561e-10, -1.10622398e-09, -1.59180780e-09,\n       -2.01512941e-09, -2.36835659e-09, -2.64684759e-09, -2.84902840e-09,\n       -2.97612316e-09, -3.03177300e-09, -3.02158214e-09, -2.95262979e-09,\n       -2.83298383e-09, -2.67124809e-09, -2.47616824e-09, -2.25631525e-09,\n       -2.01985694e-09, -1.77442135e-09, -1.52704784e-09, -1.28421556e-09,\n       -1.05193283e-09, -8.35867204e-10, -6.41492766e-10, -4.74230443e-10,\n       -3.39558061e-10, -2.43069287e-10, -1.90464882e-10, -1.87465075e-10,\n       -2.39638303e-10, -3.52148580e-10, -5.29431122e-10, -7.74813051e-10,\n       -1.09010286e-09, -1.47517814e-09, -1.92760556e-09, -2.44232960e-09,\n       -3.01146660e-09, -3.62423794e-09, -4.26707092e-09, -4.92388749e-09,\n       -5.57659060e-09, -6.20574600e-09, -6.79144297e-09, -7.31430298e-09,\n       -7.75658941e-09, -8.10335582e-09, -8.34355619e-09, -8.47102998e-09,\n       -8.48526998e-09, -8.39188422e-09, -8.20267454e-09, -7.93527474e-09,\n       -7.61231706e-09, -7.26012713e-09, -6.90698219e-09, -6.58100628e-09,\n       -6.30782086e-09, -6.10811745e-09, -5.99536638e-09, -5.97391070e-09,\n       -6.03770410e-09, -6.16992549e-09, -6.34364072e-09, -6.52359308e-09,\n       -6.66910410e-09, -6.73796249e-09, -6.69107201e-09, -6.49750648e-09,\n       -6.13948403e-09, -5.61664356e-09, -4.94892978e-09, -4.17741200e-09,\n       -3.36248545e-09, -2.57910383e-09, -1.90894232e-09, -1.42973803e-09,\n       -1.20260782e-09, -1.25894273e-09, -1.58931526e-09, -2.13728689e-09,\n       -2.80078045e-09, -3.44299463e-09, -3.91409911e-09, -4.08376204e-09,\n       -3.88137218e-09, -3.33491274e-09, -2.59368403e-09, -1.91855546e-09,\n       -1.62498754e-09, -1.96775521e-09, -2.97754220e-09, -4.30587985e-09,\n       -5.17030155e-09, -4.57374874e-09, -2.17483770e-09,  5.82669239e-11,\n       -3.20574346e-09, -6.62357720e-09, -9.66289895e-10, -9.04304213e-10,\n       -3.93469273e-09, -5.84089845e-09, -5.83848076e-09, -4.69165639e-09,\n       -3.39068181e-09, -2.58539373e-09, -2.49459074e-09, -2.99747675e-09,\n       -3.78866577e-09, -4.51609751e-09, -4.86814094e-09, -4.62374863e-09,\n       -3.69059834e-09, -2.14440025e-09, -2.65481276e-10,  1.44929410e-09,\n        2.36597419e-09,  2.07174711e-09,  1.30556212e-09,  3.49589824e-09])\n  message: 'CONVERGENCE: NORM_OF_PROJECTED_GRADIENT_<=_PGTOL'\n     nfev: 167\n      nit: 137\n     njev: 167\n   status: 0\n  success: True\n        x: array([ 1.32895485e+04,  2.77914899e+03, -1.10503164e+03, -1.64252235e+03,\n       -9.80491504e+02, -1.41093815e+02,  4.86608453e+02,  8.19595421e+02,\n        8.94333116e+02,  7.70163877e+02,  4.93431578e+02,  1.02447068e+02,\n       -3.45633439e+02, -7.44301229e+02, -9.24527451e+02, -6.83780359e+02,\n        1.24063890e+02,  1.42294439e+03,  2.62154216e+03,  2.14767710e+03,\n       -2.86861439e+03, -1.48768092e+04, -2.64154501e+04, -2.05336009e+04,\n       -6.86343284e+03,  8.09289333e+02,  2.64980794e+03,  1.82093737e+03,\n        4.55443301e+02, -5.25971818e+02, -9.19058688e+02, -8.35728199e+02,\n       -4.88629058e+02, -8.06330424e+01,  2.47353291e+02,  4.28222932e+02,\n        4.55895431e+02,  3.62986680e+02,  1.99007981e+02,  1.38680947e+01,\n       -1.52127992e+02, -2.72571240e+02, -3.35176476e+02, -3.39650818e+02,\n       -2.94512260e+02, -2.13678813e+02, -1.13294491e+02, -9.07152020e+00,\n        8.56710156e+01,  1.61188397e+02,  2.11742537e+02,  2.35422819e+02,\n        2.33555179e+02,  2.09901343e+02,  1.69808229e+02,  1.19408617e+02,\n        6.49238761e+01,  1.20901624e+01, -3.42821610e+01, -7.06081772e+01,\n       -9.46820488e+01, -1.05687631e+02, -1.04081251e+02, -9.13747533e+01,\n       -6.98547682e+01, -4.22767338e+01, -1.15677819e+01,  1.94355305e+01,\n        4.81979867e+01,  7.26375115e+01,  9.12177733e+01,  1.02986266e+02,\n        1.07565698e+02,  1.05107723e+02,  9.62184286e+01,  8.18645703e+01,\n        6.32688707e+01,  4.18021109e+01,  1.88788839e+01, -4.13699232e+00,\n       -2.60124763e+01, -4.57071493e+01, -6.24149495e+01, -7.55854408e+01,\n       -8.49256742e+01, -9.03852357e+01, -9.21276881e+01, -9.04921970e+01,\n       -8.59492222e+01, -7.90537757e+01, -7.03994195e+01, -6.05755642e+01,\n       -5.01301565e+01, -3.95393202e+01, -2.91851187e+01, -1.93421281e+01,\n       -1.01731088e+01, -1.73357984e+00,  6.01542889e+00,  1.31876135e+01,\n        1.99462900e+01,  2.64759123e+01,  3.29524257e+01,  3.95146916e+01,\n        4.62391394e+01,  5.31195114e+01,  6.00532666e+01,  6.68357322e+01,\n        7.31627185e+01,  7.86418537e+01,  8.28124942e+01,  8.51737076e+01,\n        8.52193538e+01,  8.24788487e+01,  7.65615951e+01,  6.72024859e+01,\n        5.43051987e+01,  3.79796199e+01,  1.85693813e+01, -3.33433728e+00,\n       -2.68958741e+01, -5.10574049e+01, -7.45812681e+01, -9.61116249e+01,\n       -1.14253284e+02, -1.27664106e+02, -1.35156322e+02, -1.35801256e+02,\n       -1.29031211e+02, -1.14731417e+02, -9.33140441e+01, -6.57653397e+01,\n       -3.36560322e+01,  8.94722690e-01,  3.53104679e+01,  6.67088883e+01,\n        9.21134557e+01,  1.08717407e+02,  1.14182617e+02,  1.06946553e+02,\n        8.65027711e+01,  5.36165802e+01,  1.04407311e+01, -3.94959567e+01,\n       -9.14415230e+01, -1.39718465e+02, -1.78161940e+02, -2.00692350e+02,\n       -2.02013705e+02, -1.78416054e+02, -1.28629074e+02, -5.46220125e+01,\n        3.78137541e+01,  1.38903010e+02,  2.35343263e+02,  3.11510922e+02,\n        3.51440090e+02,  3.41483078e+02,  2.73468689e+02,  1.48078948e+02,\n       -2.20198208e+01, -2.10110129e+02, -3.75729143e+02, -4.69047491e+02,\n       -4.40950923e+02, -2.59580082e+02,  6.79198134e+01,  4.73286110e+02,\n        8.14805330e+02,  8.89759066e+02,  4.87185380e+02, -5.01191686e+02,\n       -1.86484956e+03, -2.67330870e+03, -7.83783871e+02,  6.96022261e+03,\n        2.06424132e+04,  2.63537418e+04,  1.47270772e+04,  2.78058591e+03,\n       -2.17236123e+03, -2.61260378e+03, -1.40260698e+03, -1.04049238e+02,\n        6.99353953e+02,  9.36266080e+02,  7.55024011e+02,  3.58299500e+02,\n       -8.59243050e+01, -4.72503045e+02, -7.45452073e+02, -8.67205219e+02,\n       -7.91637839e+02, -4.59109832e+02,  1.67512006e+02,  1.00596784e+03,\n        1.66767606e+03,  1.13006834e+03, -2.75627150e+03, -1.32728355e+04])"
     },
     "execution_count": 17,
     "metadata": {},
     "output_type": "execute_result"
    }
   ],
   "source": [
    "result"
   ],
   "metadata": {
    "collapsed": false,
    "pycharm": {
     "name": "#%%\n"
    }
   }
  },
  {
   "cell_type": "code",
   "execution_count": 18,
   "outputs": [
    {
     "data": {
      "text/plain": "<tf.Tensor: shape=(1, 1), dtype=float64, numpy=array([[2.96397471e-05]])>"
     },
     "execution_count": 18,
     "metadata": {},
     "output_type": "execute_result"
    }
   ],
   "source": [
    "simulator.value_and_gradient(opt_pars=tf.Variable(np.expand_dims(result.x, axis=1), dtype=DEFAULT_FLOAT_TYPE))[0]\n"
   ],
   "metadata": {
    "collapsed": false,
    "pycharm": {
     "name": "#%%\n"
    }
   }
  },
  {
   "cell_type": "markdown",
   "source": [
    "### Acknowledgements\n",
    "\n",
    "I thank Alessandro David for the suggestion of the Landau-Zener problem for benchmarking."
   ],
   "metadata": {
    "collapsed": false,
    "pycharm": {
     "name": "#%% md\n"
    }
   }
  },
  {
   "cell_type": "markdown",
   "source": [
    "## Let's compare to native qopt\n",
    "\n",
    "I leave this for now, but it might be a bit boring, if the results coincide exactly.\n"
   ],
   "metadata": {
    "collapsed": false,
    "pycharm": {
     "name": "#%% md\n"
    }
   }
  },
  {
   "cell_type": "code",
   "execution_count": 80,
   "outputs": [],
   "source": [
    "solver_qopt = SchroedingerSolver(\n",
    "    h_drift=h_drift,\n",
    "    h_ctrl=h_ctrl,\n",
    "    tau=tau,\n",
    "    initial_state=DenseOperator(initial_state_vector)\n",
    ")\n",
    "\n",
    "cost_func_qopt = StateInfidelity(\n",
    "    target=DenseOperator(final_state_vector),  # We want to terminate in the instantaneous ground state\n",
    "    solver=solver_qopt\n",
    ")\n",
    "\n",
    "simulator_qopt = Simulator(\n",
    "    solvers = [solver_qopt, ],\n",
    "    cost_funcs = [cost_func_qopt, ]\n",
    ")\n",
    "\n",
    "from qopt.optimize import default_termination_conditions\n",
    "termination_conditions = default_termination_conditions\n",
    "termination_conditions['min_cost_gain'] = 1e-9\n",
    "termination_conditions['min_gradient_norm'] = 1e-9\n",
    "termination_conditions['min_amplitude_change'] = 1e-9\n",
    "\n",
    "optimizer_qopt = ScalarMinimizingOptimizer(\n",
    "    system_simulator=simulator_qopt,\n",
    "    bounds=None,\n",
    "    termination_cond=termination_conditions\n",
    ")"
   ],
   "metadata": {
    "collapsed": false,
    "pycharm": {
     "name": "#%%\n"
    }
   }
  },
  {
   "cell_type": "code",
   "execution_count": 81,
   "outputs": [],
   "source": [
    "initial_values_2dim = np.expand_dims(initial_values, axis=1)\n",
    "result_qopt = optimizer_qopt.run_optimization(initial_values_2dim)"
   ],
   "metadata": {
    "collapsed": false,
    "pycharm": {
     "name": "#%%\n"
    }
   }
  },
  {
   "cell_type": "code",
   "execution_count": 82,
   "outputs": [
    {
     "name": "stdout",
     "output_type": "stream",
     "text": [
      "9.732586145401001\n"
     ]
    }
   ],
   "source": [
    "start = time.time()\n",
    "result_qopt = optimizer_qopt.run_optimization(initial_values_2dim)\n",
    "end = time.time()\n",
    "duration = end - start\n",
    "print(duration)"
   ],
   "metadata": {
    "collapsed": false,
    "pycharm": {
     "name": "#%%\n"
    }
   }
  },
  {
   "cell_type": "code",
   "execution_count": 83,
   "outputs": [
    {
     "data": {
      "text/plain": "<AxesSubplot:xlabel='Iteration', ylabel='Costs'>"
     },
     "execution_count": 83,
     "metadata": {},
     "output_type": "execute_result"
    },
    {
     "data": {
      "text/plain": "<Figure size 432x288 with 1 Axes>",
      "image/png": "[encoded data removed]"
     },
     "metadata": {
      "needs_background": "light"
     },
     "output_type": "display_data"
    }
   ],
   "source": [
    "data = DataContainer()\n",
    "data.append_optim_result(result_qopt)\n",
    "analyzer = Analyser(data=data)\n",
    "analyzer.plot_costs()"
   ],
   "metadata": {
    "collapsed": false,
    "pycharm": {
     "name": "#%%\n"
    }
   }
  },
  {
   "cell_type": "code",
   "execution_count": 84,
   "outputs": [
    {
     "data": {
      "text/plain": "2.7546021019730915e-10"
     },
     "execution_count": 84,
     "metadata": {},
     "output_type": "execute_result"
    }
   ],
   "source": [
    "result_qopt.final_cost"
   ],
   "metadata": {
    "collapsed": false,
    "pycharm": {
     "name": "#%%\n"
    }
   }
  },
  {
   "cell_type": "code",
   "execution_count": 85,
   "outputs": [
    {
     "data": {
      "text/plain": "[<matplotlib.lines.Line2D at 0x1b244f8d970>]"
     },
     "execution_count": 85,
     "metadata": {},
     "output_type": "execute_result"
    },
    {
     "data": {
      "text/plain": "<Figure size 432x288 with 1 Axes>",
      "image/png": "[encoded data removed]"
     },
     "metadata": {
      "needs_background": "light"
     },
     "output_type": "display_data"
    }
   ],
   "source": [
    "plt.plot(result_qopt.final_parameters / micro_eV_by_inverse_nano_seconds / 1000)"
   ],
   "metadata": {
    "collapsed": false,
    "pycharm": {
     "name": "#%%\n"
    }
   }
  },
  {
   "cell_type": "code",
   "execution_count": 86,
   "outputs": [
    {
     "data": {
      "text/plain": "<tf.Tensor: shape=(1, 1), dtype=float64, numpy=array([[2.75458101e-10]])>"
     },
     "execution_count": 86,
     "metadata": {},
     "output_type": "execute_result"
    }
   ],
   "source": [
    "simulator.value_and_gradient(opt_pars=tf.Variable(result_qopt.final_parameters, dtype=DEFAULT_FLOAT_TYPE))[0]\n"
   ],
   "metadata": {
    "collapsed": false,
    "pycharm": {
     "name": "#%%\n"
    }
   }
  },
  {
   "cell_type": "code",
   "execution_count": 87,
   "outputs": [
    {
     "data": {
      "text/plain": "[<matplotlib.lines.Line2D at 0x1b244fd1df0>]"
     },
     "execution_count": 87,
     "metadata": {},
     "output_type": "execute_result"
    },
    {
     "data": {
      "text/plain": "<Figure size 432x288 with 1 Axes>",
      "image/png": "[encoded data removed]"
     },
     "metadata": {
      "needs_background": "light"
     },
     "output_type": "display_data"
    }
   ],
   "source": [
    "plt.plot(result.x - np.squeeze(result_qopt.final_parameters))"
   ],
   "metadata": {
    "collapsed": false,
    "pycharm": {
     "name": "#%%\n"
    }
   }
  },
  {
   "cell_type": "code",
   "execution_count": 88,
   "outputs": [
    {
     "data": {
      "text/plain": "2.963974710779027e-05"
     },
     "execution_count": 88,
     "metadata": {},
     "output_type": "execute_result"
    }
   ],
   "source": [
    "result.fun"
   ],
   "metadata": {
    "collapsed": false,
    "pycharm": {
     "name": "#%%\n"
    }
   }
  },
  {
   "cell_type": "code",
   "execution_count": null,
   "outputs": [],
   "source": [],
   "metadata": {
    "collapsed": false,
    "pycharm": {
     "name": "#%%\n"
    }
   }
  }
 ],
 "metadata": {
  "kernelspec": {
   "display_name": "Python 3",
   "language": "python",
   "name": "python3"
  },
  "language_info": {
   "codemirror_mode": {
    "name": "ipython",
    "version": 2
   },
   "file_extension": ".py",
   "mimetype": "text/x-python",
   "name": "python",
   "nbconvert_exporter": "python",
   "pygments_lexer": "ipython2",
   "version": "2.7.6"
  }
 },
 "nbformat": 4,
 "nbformat_minor": 0
}