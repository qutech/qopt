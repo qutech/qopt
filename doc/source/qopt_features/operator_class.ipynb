{
 "cells": [
  {
   "cell_type": "markdown",
   "metadata": {
    "collapsed": true,
    "pycharm": {
     "name": "#%% md\n"
    }
   },
   "source": [
    "# Operator Class\n",
    "\n",
    "Quantum operators are represented as matrices in qopt. The class `DenseOperator`\n",
    "encodes a quantum operator in a dense representation. Simple examples are the\n",
    "pauli matrices"
   ]
  },
  {
   "cell_type": "code",
   "execution_count": 1,
   "outputs": [
    {
     "name": "stdout",
     "output_type": "stream",
     "text": [
      "DenseOperator with data: \n",
      "array([[0.+0.j, 1.+0.j],\n",
      "       [1.+0.j, 0.+0.j]])\n",
      "DenseOperator with data: \n",
      "array([[ 0.+0.j, -0.-1.j],\n",
      "       [ 0.+1.j,  0.+0.j]])\n"
     ]
    }
   ],
   "source": [
    "from qopt import *\n",
    "\n",
    "print(DenseOperator.pauli_x())\n",
    "print(DenseOperator.pauli_y())\n"
   ],
   "metadata": {
    "collapsed": false,
    "pycharm": {
     "name": "#%%\n"
    }
   }
  },
  {
   "cell_type": "markdown",
   "source": [
    "Internally, the `DenseOperator` is based on a 2-dimensional numpy array, which\n",
    "can be accessed by the `data` attribute."
   ],
   "metadata": {
    "collapsed": false,
    "pycharm": {
     "name": "#%% md\n",
     "is_executing": true
    }
   }
  },
  {
   "cell_type": "code",
   "execution_count": 2,
   "outputs": [
    {
     "name": "stdout",
     "output_type": "stream",
     "text": [
      "[[0.+0.j 1.+0.j]\n",
      " [1.+0.j 0.+0.j]]\n"
     ]
    }
   ],
   "source": [
    "print(DenseOperator.pauli_x().data)"
   ],
   "metadata": {
    "collapsed": false,
    "pycharm": {
     "name": "#%%\n"
    }
   }
  },
  {
   "cell_type": "markdown",
   "source": [
    "The same class can also be used to store state vectors, density matrices,\n",
    "propagators and so on. The `DenseOperator` can be initialized from a\n",
    "2-dimensional numpy array, a scipy sparse matrix or a `Qobj` from the\n",
    "Quantum Toolbox in Python (QuTiP)."
   ],
   "metadata": {
    "collapsed": false,
    "pycharm": {
     "name": "#%% md\n"
    }
   }
  },
  {
   "cell_type": "code",
   "execution_count": 3,
   "outputs": [
    {
     "name": "stdout",
     "output_type": "stream",
     "text": [
      "DenseOperator with data: \n",
      "array([[ 1.+0.j,  0.+0.j],\n",
      "       [ 0.+0.j, -1.+0.j]])\n",
      "DenseOperator with data: \n",
      "array([[ 1.+0.j,  0.+0.j],\n",
      "       [ 0.+0.j, -1.+0.j]])\n",
      "Quantum object: dims = [[2], [2]], shape = (2, 2), type = oper, isherm = True\n",
      "Qobj data =\n",
      "[[ 1.  0.]\n",
      " [ 0. -1.]]\n",
      "DenseOperator with data: \n",
      "array([[ 1.+0.j,  0.+0.j],\n",
      "       [ 0.+0.j, -1.+0.j]])\n"
     ]
    }
   ],
   "source": [
    "import numpy as np\n",
    "import scipy.sparse as sp\n",
    "from qutip import sigmaz\n",
    "\n",
    "pauli_z = DenseOperator(np.diag((1, -1)))\n",
    "print(pauli_z)\n",
    "pauli_z_from_sparse = DenseOperator(sp.csr_matrix(np.diag((1, -1))))\n",
    "print(pauli_z_from_sparse)\n",
    "print(sigmaz())\n",
    "print(DenseOperator(sigmaz()))"
   ],
   "metadata": {
    "collapsed": false,
    "pycharm": {
     "name": "#%%\n"
    }
   }
  },
  {
   "cell_type": "markdown",
   "source": [
    "The matrix arithmetic is overloaded to support intuitive matrix operation like\n",
    "addition, multiplication, scalar multiplication and so on."
   ],
   "metadata": {
    "collapsed": false,
    "pycharm": {
     "name": "#%% md\n"
    }
   }
  },
  {
   "cell_type": "code",
   "execution_count": 4,
   "outputs": [
    {
     "name": "stdout",
     "output_type": "stream",
     "text": [
      "2 * pauli_z =\n",
      "DenseOperator with data: \n",
      "array([[ 2.+0.j,  0.+0.j],\n",
      "       [ 0.+0.j, -2.+0.j]])\n",
      "pauli_z +  pauli_x =\n",
      "DenseOperator with data: \n",
      "array([[ 1.+0.j,  1.+0.j],\n",
      "       [ 1.+0.j, -1.+0.j]])\n",
      "pauli_x * pauli_z =\n",
      "DenseOperator with data: \n",
      "array([[ 0.+0.j, -1.+0.j],\n",
      "       [ 1.+0.j,  0.+0.j]])\n"
     ]
    }
   ],
   "source": [
    "p_x = DenseOperator.pauli_x()\n",
    "p_z = DenseOperator.pauli_z()\n",
    "\n",
    "print(\"2 * pauli_z =\")\n",
    "print(2 * p_z)\n",
    "print(\"pauli_z +  pauli_x =\")\n",
    "print(p_z + p_x)\n",
    "print(\"pauli_x * pauli_z =\")\n",
    "print(p_x * p_z)"
   ],
   "metadata": {
    "collapsed": false,
    "pycharm": {
     "name": "#%%\n"
    }
   }
  },
  {
   "cell_type": "markdown",
   "source": [
    "The operator class implements plenty of useful functions for quantum mechanics.\n",
    "For example the kronecker matrix product and partial traces are included to\n",
    "work with product spaces.\n",
    "\n",
    "Assume you describe two qubits and need an operator\n",
    "$p = \\sigma_x \\otimes \\sigma_0$ that operates as\n",
    "bit flip on the first qubit and as identity on the second qubit. Then this\n",
    "operator is constructed as:"
   ],
   "metadata": {
    "collapsed": false,
    "pycharm": {
     "name": "#%% md\n"
    }
   }
  },
  {
   "cell_type": "code",
   "execution_count": 5,
   "outputs": [
    {
     "name": "stdout",
     "output_type": "stream",
     "text": [
      "DenseOperator with data: \n",
      "array([[0.+0.j, 0.+0.j, 1.+0.j, 0.+0.j],\n",
      "       [0.+0.j, 0.+0.j, 0.+0.j, 1.+0.j],\n",
      "       [1.+0.j, 0.+0.j, 0.+0.j, 0.+0.j],\n",
      "       [0.+0.j, 1.+0.j, 0.+0.j, 0.+0.j]])\n"
     ]
    }
   ],
   "source": [
    "p = DenseOperator.pauli_x().kron(DenseOperator.pauli_0())\n",
    "print(p)"
   ],
   "metadata": {
    "collapsed": false,
    "pycharm": {
     "name": "#%%\n"
    }
   }
  },
  {
   "cell_type": "markdown",
   "source": [
    "And taking the partial trace over the second space provides the bit flip gate:"
   ],
   "metadata": {
    "collapsed": false,
    "pycharm": {
     "name": "#%% md\n"
    }
   }
  },
  {
   "cell_type": "code",
   "execution_count": 6,
   "outputs": [
    {
     "name": "stdout",
     "output_type": "stream",
     "text": [
      "DenseOperator with data: \n",
      "array([[0.+0.j, 1.+0.j],\n",
      "       [1.+0.j, 0.+0.j]])\n"
     ]
    }
   ],
   "source": [
    "print(.5 * p.ptrace(dims=[2, 2], remove=[1]))"
   ],
   "metadata": {
    "collapsed": false,
    "pycharm": {
     "name": "#%%\n"
    }
   }
  },
  {
   "cell_type": "markdown",
   "source": [
    "When calculating the partial trace, the argument 'dims' specifies the\n",
    "dimensions of the subsystems and the argument 'remove' contains a list of the\n",
    "subsystems that are to be traced over.\n",
    "\n",
    "Another useful function is the spectral decomposition:"
   ],
   "metadata": {
    "collapsed": false,
    "pycharm": {
     "name": "#%% md\n"
    }
   }
  },
  {
   "cell_type": "code",
   "execution_count": 7,
   "outputs": [
    {
     "name": "stdout",
     "output_type": "stream",
     "text": [
      "Eigenvalues:\n",
      "[-1.  1.]\n",
      "Eigenvectors:\n",
      "[[-0.70710678+0.j  0.70710678+0.j]\n",
      " [ 0.70710678+0.j  0.70710678+0.j]]\n"
     ]
    }
   ],
   "source": [
    "eigenvalues, eigenvectors = p_x.spectral_decomposition(hermitian=True)\n",
    "print('Eigenvalues:')\n",
    "print(eigenvalues)\n",
    "print('Eigenvectors:')\n",
    "print(eigenvectors)"
   ],
   "metadata": {
    "collapsed": false,
    "pycharm": {
     "name": "#%%\n"
    }
   }
  },
  {
   "cell_type": "markdown",
   "source": [
    "And complex conjugation, transposition and the calculation of the adjoint\n",
    "matrix are also supported:"
   ],
   "metadata": {
    "collapsed": false,
    "pycharm": {
     "name": "#%% md\n"
    }
   }
  },
  {
   "cell_type": "code",
   "execution_count": 8,
   "outputs": [
    {
     "name": "stdout",
     "output_type": "stream",
     "text": [
      "Pauli Y:\n",
      "DenseOperator with data: \n",
      "array([[ 0.+0.j, -0.-1.j],\n",
      "       [ 0.+1.j,  0.+0.j]])\n",
      "Pauli Y complex conjugated:\n",
      "DenseOperator with data: \n",
      "array([[ 0.-0.j, -0.+1.j],\n",
      "       [ 0.-1.j,  0.-0.j]])\n",
      "Pauli Y complex transposed:\n",
      "0j\n",
      "Pauli Y complex adjoint:\n",
      "DenseOperator with data: \n",
      "array([[ 0.-0.j,  0.-1.j],\n",
      "       [-0.+1.j,  0.-0.j]])\n"
     ]
    }
   ],
   "source": [
    "p_y = DenseOperator.pauli_y()\n",
    "print('Pauli Y:')\n",
    "print(p_y)\n",
    "print('Pauli Y complex conjugated:')\n",
    "print(p_y.conj())\n",
    "print('Pauli Y complex transposed:')\n",
    "print(p_y.tr())\n",
    "print('Pauli Y complex adjoint:')\n",
    "print(p_y.dag())"
   ],
   "metadata": {
    "collapsed": false,
    "pycharm": {
     "name": "#%%\n"
    }
   }
  },
  {
   "cell_type": "markdown",
   "source": [
    "There are even more functions to be discovered in the API documentation."
   ],
   "metadata": {
    "collapsed": false,
    "pycharm": {
     "name": "#%% md\n"
    }
   }
  }
 ],
 "metadata": {
  "kernelspec": {
   "name": "python3",
   "language": "python",
   "display_name": "Python 3"
  },
  "language_info": {
   "codemirror_mode": {
    "name": "ipython",
    "version": 2
   },
   "file_extension": ".py",
   "mimetype": "text/x-python",
   "name": "python",
   "nbconvert_exporter": "python",
   "pygments_lexer": "ipython2",
   "version": "2.7.6"
  }
 },
 "nbformat": 4,
 "nbformat_minor": 0
}