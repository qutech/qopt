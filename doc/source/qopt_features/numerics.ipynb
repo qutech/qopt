{
 "cells": [
  {
   "cell_type": "markdown",
   "source": [
    "# Numerics\n",
    "\n",
    "The numerical intensive calculations are encapsulated by the `OperatorMatrix`\n",
    "class, which can encode quantum states or operators in a matrix representation,\n",
    "meaning that each object must have two dimensions. The class was already\n",
    "introduced earlier, but now we would like to illuminate the computational\n",
    "efficiency for advanced users.\n",
    "\n",
    "A frequently used and computationally complex operation is the calculation of\n",
    "the matrix potential, which is used to solve partial differential equations\n",
    "or first order like Schroedingers equation or a master equation in lindblad\n",
    "form.\n",
    "For example an $X_{\\pi/2}$ rotation on the bloch sphere\n",
    "is given by a unitary:\n",
    "\n",
    "\\begin{equation}\n",
    "U = e^{i \\pi \\sigma_x /4}\n",
    "\\end{equation}\n",
    "\n",
    "which can be calculated using several numeric methods. The matrix exponential and its frechet derivative are usually calculated together, for example by spectral decomposition:"
   ],
   "metadata": {
    "collapsed": false,
    "pycharm": {
     "name": "#%% md\n"
    }
   }
  },
  {
   "cell_type": "code",
   "execution_count": 1,
   "outputs": [
    {
     "name": "stdout",
     "output_type": "stream",
     "text": [
      "(DenseOperator with data: \n",
      "array([[7.07106781e-01-2.22044605e-16j, 5.55111512e-17+7.07106781e-01j],\n",
      "       [5.55111512e-17+7.07106781e-01j, 7.07106781e-01+0.00000000e+00j]]), DenseOperator with data: \n",
      "array([[-5.55360367e-01-1.14514159e-16j,  2.88907583e-16+5.55360367e-01j],\n",
      "       [ 2.75869449e-16+5.55360367e-01j, -5.55360367e-01-1.88672737e-16j]]))\n"
     ]
    }
   ],
   "source": [
    "import numpy as np\n",
    "from qopt.matrix import DenseOperator\n",
    "\n",
    "sigma_x = DenseOperator.pauli_x()\n",
    "\n",
    "print(sigma_x.dexp(tau=.25j * np.pi,\n",
    "                   method='spectral',\n",
    "                   compute_expm=True,\n",
    "                   direction=sigma_x))\n"
   ],
   "metadata": {
    "collapsed": false,
    "pycharm": {
     "name": "#%%\n"
    }
   }
  },
  {
   "cell_type": "markdown",
   "source": [
    "Aternatively, the scipy method `expm_frechet` can be used:"
   ],
   "metadata": {
    "collapsed": false,
    "pycharm": {
     "name": "#%% md\n"
    }
   }
  },
  {
   "cell_type": "code",
   "execution_count": 2,
   "outputs": [
    {
     "name": "stdout",
     "output_type": "stream",
     "text": [
      "(DenseOperator with data: \n",
      "array([[0.70710678+0.j        , 0.        +0.70710678j],\n",
      "       [0.        +0.70710678j, 0.70710678+0.j        ]]), DenseOperator with data: \n",
      "array([[-0.55536037+0.j        ,  0.        +0.55536037j],\n",
      "       [ 0.        +0.55536037j, -0.55536037+0.j        ]]))\n"
     ]
    }
   ],
   "source": [
    "print(sigma_x.dexp(tau=.25j * np.pi,\n",
    "                   method='Frechet',\n",
    "                   compute_expm=True,\n",
    "                   direction=sigma_x))"
   ],
   "metadata": {
    "collapsed": false,
    "pycharm": {
     "name": "#%%\n"
    }
   }
  },
  {
   "cell_type": "markdown",
   "source": [
    "The derivative can also be calculated by finite differences using the method approx:"
   ],
   "metadata": {
    "collapsed": false,
    "pycharm": {
     "name": "#%% md\n"
    }
   }
  },
  {
   "cell_type": "code",
   "execution_count": 3,
   "outputs": [
    {
     "name": "stdout",
     "output_type": "stream",
     "text": [
      "(DenseOperator with data: \n",
      "array([[7.07106781e-01-2.22044605e-16j, 5.55111512e-17+7.07106781e-01j],\n",
      "       [5.55111512e-17+7.07106781e-01j, 7.07106781e-01+0.00000000e+00j]]), DenseOperator with data: \n",
      "array([[-5.55359092e-01+2.22044605e-06j, -5.55111512e-07+5.55362423e-01j],\n",
      "       [-5.55111512e-07+5.55362423e-01j, -5.55361312e-01+0.00000000e+00j]]))\n"
     ]
    }
   ],
   "source": [
    "print(sigma_x.dexp(tau=.25j * np.pi,\n",
    "                   method='approx',\n",
    "                   compute_expm=True,\n",
    "                   direction=sigma_x))"
   ],
   "metadata": {
    "collapsed": false,
    "pycharm": {
     "name": "#%%\n"
    }
   }
  },
  {
   "cell_type": "markdown",
   "source": [
    "And we can also explicitly calculate a number of terms in the expansion serias of\n",
    "the exponential function:"
   ],
   "metadata": {
    "collapsed": false,
    "pycharm": {
     "name": "#%% md\n"
    }
   }
  },
  {
   "cell_type": "code",
   "execution_count": 4,
   "outputs": [
    {
     "name": "stdout",
     "output_type": "stream",
     "text": [
      "(DenseOperator with data: \n",
      "array([[7.07106781e-01-2.22044605e-16j, 5.55111512e-17+7.07106781e-01j],\n",
      "       [5.55111512e-17+7.07106781e-01j, 7.07106781e-01+0.00000000e+00j]]), DenseOperator with data: \n",
      "array([[0.+0.j        , 0.+0.78539816j],\n",
      "       [0.+0.78539816j, 0.+0.j        ]]))\n"
     ]
    }
   ],
   "source": [
    "print(sigma_x.dexp(tau=.25j * np.pi,\n",
    "                   method='first_order',\n",
    "                   compute_expm=True,\n",
    "                   direction=sigma_x))"
   ],
   "metadata": {
    "collapsed": false,
    "pycharm": {
     "name": "#%%\n"
    }
   }
  },
  {
   "cell_type": "code",
   "execution_count": 5,
   "outputs": [
    {
     "name": "stdout",
     "output_type": "stream",
     "text": [
      "(DenseOperator with data: \n",
      "array([[7.07106781e-01-2.22044605e-16j, 5.55111512e-17+7.07106781e-01j],\n",
      "       [5.55111512e-17+7.07106781e-01j, 7.07106781e-01+0.00000000e+00j]]), DenseOperator with data: \n",
      "array([[-0.61685028+0.j        ,  0.        +0.78539816j],\n",
      "       [ 0.        +0.78539816j, -0.61685028+0.j        ]]))\n"
     ]
    }
   ],
   "source": [
    "print(sigma_x.dexp(tau=.25j * np.pi,\n",
    "                   method='second_order',\n",
    "                   compute_expm=True,\n",
    "                   direction=sigma_x))"
   ],
   "metadata": {
    "collapsed": false,
    "pycharm": {
     "name": "#%%\n"
    }
   }
  },
  {
   "cell_type": "code",
   "source": [
    "print(sigma_x.dexp(tau=.25j * np.pi,\n",
    "                   method='third_order',\n",
    "                   compute_expm=True,\n",
    "                   direction=sigma_x))"
   ],
   "metadata": {
    "collapsed": false,
    "pycharm": {
     "name": "#%%\n"
    }
   },
   "execution_count": 6,
   "outputs": [
    {
     "name": "stdout",
     "output_type": "stream",
     "text": [
      "(DenseOperator with data: \n",
      "array([[7.07106781e-01-2.22044605e-16j, 5.55111512e-17+7.07106781e-01j],\n",
      "       [5.55111512e-17+7.07106781e-01j, 7.07106781e-01+0.00000000e+00j]]), DenseOperator with data: \n",
      "array([[-0.61685028+0.j        ,  0.        +0.54316163j],\n",
      "       [ 0.        +0.54316163j, -0.61685028+0.j        ]]))\n"
     ]
    }
   ]
  },
  {
   "cell_type": "code",
   "execution_count": 6,
   "outputs": [],
   "source": [],
   "metadata": {
    "collapsed": false,
    "pycharm": {
     "name": "#%%\n"
    }
   }
  }
 ],
 "metadata": {
  "kernelspec": {
   "display_name": "Python 3",
   "language": "python",
   "name": "python3"
  },
  "language_info": {
   "codemirror_mode": {
    "name": "ipython",
    "version": 2
   },
   "file_extension": ".py",
   "mimetype": "text/x-python",
   "name": "python",
   "nbconvert_exporter": "python",
   "pygments_lexer": "ipython2",
   "version": "2.7.6"
  }
 },
 "nbformat": 4,
 "nbformat_minor": 0
}