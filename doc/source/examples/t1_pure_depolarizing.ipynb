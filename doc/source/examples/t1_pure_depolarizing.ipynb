{
 "cells": [
  {
   "cell_type": "markdown",
   "metadata": {
    "collapsed": true,
    "pycharm": {
     "name": "#%% md\n"
    }
   },
   "source": [
    "# Decoherence\n",
    "\n",
    "In the following notebooks, various decay channels will be simulated and\n",
    "compared to theoretical results. This serves two purposes as it gives a\n",
    "practical instruction how to simulate various noise sources and it serves\n",
    "as integration test for the qopt package. The reproduction of theoretically\n",
    "results also serves as transparent and comprehensible integration test.\n",
    "\n",
    "Within the next notebooks on decoherence, we will set $\\hbar = 1$, measure all\n",
    "times in milli seconds $\\mathrm{ms}$ and all frequencies and energies in\n",
    "inverse milli seconds $1/ \\mathrm{ms}$.\n",
    "\n",
    "## $T_1$ Depolarization\n",
    "The depolarization occurs when a qubit relaxes into its ground state. This\n",
    "behavior is not reversible and hence cannot be described by Schroedinger's\n",
    "equation which is solved by a unitary propagator. However, we can describe such\n",
    "dissipative effects using the theory of open quantum systems and describing the\n",
    "system with a master equation in Lindblad form. A pedagogical introduction\n",
    "and our examples can be found in these\n",
    "[lecture notes](https://arxiv.org/abs/1902.00967).\n",
    "\n",
    "We describe our system with the general master equation in Lindlbad form:\n",
    "\n",
    "\\begin{equation}\n",
    "\\partial_t \\rho(t) = -i [H, \\rho (t)] + \\sum_k \\gamma_k\n",
    "\\left( L_k \\rho(t) L_k^\\dagger-\n",
    "\\frac{1}{2} \\{ L_k^\\dagger L_k, \\rho(t) \\} \\right)\n",
    "\\end{equation}\n",
    "\n",
    "In order to discuss a basic depolarization channel, we can\n",
    "solve the equation for a single qubit with $H=0$,\n",
    "$L_1 = \\sigma_- = \\frac{1}{2} (\\sigma_x -i \\sigma_y)$,\n",
    "$\\gamma_1 = \\gamma$ and $\\gamma_k = 0 \\, \\forall \\, k >1$. In this case the\n",
    "equation simplifies to\n",
    "\n",
    "\\begin{equation}\n",
    "\\partial_t \\rho(t) =  \\gamma (\\sigma_- \\rho \\sigma_+\n",
    "- \\frac{1}{2} \\{ \\sigma_+ \\sigma_-, \\rho \\} )\n",
    "\\end{equation}\n",
    "\n",
    "with $\\sigma_+ = \\sigma_-^\\dagger$. The density matrix\n",
    "of a single qubit can be written as\n",
    "$\\rho = \\frac{1}{2} (\\mathbb{I} + \\vec{v} \\cdot \\vec{\\sigma}) $ and the\n",
    "solution to the Lindblad equation is:\n",
    "\n",
    "\\begin{align}\n",
    "v_x(t) &= v_x(0)e^{-\\gamma t / 2} \\\\\n",
    "v_y(t) &= v_y(0)e^{-\\gamma t / 2} \\\\\n",
    "v_z(t) &= 1 + [ v_z(0) - 1]e^{-\\gamma t }. \\\\\n",
    "\\end{align}\n",
    "\n",
    "Let's set the simulation of the qubit governed by the Lindblad master equation:"
   ]
  },
  {
   "cell_type": "code",
   "execution_count": 1,
   "outputs": [],
   "source": [
    "import numpy as np\n",
    "import matplotlib.pyplot as plt\n",
    "import scipy.optimize\n",
    "from qopt import *\n",
    "\n",
    "gamma = .5\n",
    "n_time_steps = 100\n",
    "total_time = 10\n",
    "\n",
    "def prefactor_function(transferred_parameters, _):\n",
    "    return gamma * np.ones_like(transferred_parameters)\n",
    "\n",
    "lindblad_solver = LindbladSolver(\n",
    "    h_drift=[0 * DenseOperator.pauli_x()],\n",
    "    h_ctrl=[0 * DenseOperator.pauli_z()],\n",
    "    tau=total_time / n_time_steps * np.ones(n_time_steps),\n",
    "    prefactor_function=prefactor_function,\n",
    "    lindblad_operators=[DenseOperator.pauli_m()]\n",
    ")\n",
    "\n",
    "fid_ctrl_amps = np.expand_dims(np.zeros(n_time_steps), 1)\n",
    "lindblad_solver.set_optimization_parameters(fid_ctrl_amps)"
   ],
   "metadata": {
    "collapsed": false,
    "pycharm": {
     "name": "#%%\n"
    }
   }
  },
  {
   "cell_type": "markdown",
   "source": [
    "The Lindblad master equation is solved by vectorizing the equation and working\n",
    "with the so called super operator formalism. To change between the super\n",
    "operator formalism and the usual representation, we define some helper\n",
    "functions."
   ],
   "metadata": {
    "collapsed": false,
    "pycharm": {
     "name": "#%% md\n"
    }
   }
  },
  {
   "cell_type": "code",
   "execution_count": 2,
   "outputs": [],
   "source": [
    "def vectorize(rho):\n",
    "    \"\"\"Vectorizes a density matrix. \"\"\"\n",
    "    d_square = int(rho.shape[0] ** 2)\n",
    "    return DenseOperator(np.reshape(rho.data.T, (d_square, 1)))\n",
    "\n",
    "def devectorize(rho_vec):\n",
    "    \"\"\"Calculates the regular matrix expression from a vectorized matrix. \"\"\"\n",
    "    d = int(np.round(np.sqrt(rho_vec.shape[0])))\n",
    "    return DenseOperator(np.reshape(rho_vec.data, (d, d)).T)"
   ],
   "metadata": {
    "collapsed": false,
    "pycharm": {
     "name": "#%%\n"
    }
   }
  },
  {
   "cell_type": "markdown",
   "source": [
    "To reproduce the theoretical description of a $T_1$ process, we start with a\n",
    "qubit in the excited state $\\vert 1 \\rangle$ and plot the decay in amplitude."
   ],
   "metadata": {
    "collapsed": false,
    "pycharm": {
     "name": "#%% md\n"
    }
   }
  },
  {
   "cell_type": "code",
   "execution_count": 3,
   "outputs": [
    {
     "name": "stdout",
     "output_type": "stream",
     "text": [
      "The T1 time is 2.000000000000001.\n"
     ]
    },
    {
     "data": {
      "text/plain": "<Figure size 432x288 with 1 Axes>",
      "image/png": "[encoded data removed]"
     },
     "metadata": {
      "needs_background": "light"
     },
     "output_type": "display_data"
    }
   ],
   "source": [
    "def measure_z(rho):\n",
    "    \"\"\"Calculates the expectation values of the sigma_z operator. \"\"\"\n",
    "    return np.real((rho * DenseOperator.pauli_z()).tr())\n",
    "\n",
    "up_state = DenseOperator(np.asarray([[1, 0], [0, 0]]))\n",
    "\n",
    "propagators = lindblad_solver.forward_propagators\n",
    "z_projections = [\n",
    "    measure_z(devectorize(p * vectorize(up_state))) for p in propagators\n",
    "]\n",
    "\n",
    "def t1_decay(t, t1):\n",
    "    return -1 + 2 * np.exp(-1. * t / t1)\n",
    "\n",
    "popt, pcov = scipy.optimize.curve_fit(\n",
    "    t1_decay,\n",
    "    xdata= total_time / n_time_steps * np.arange(n_time_steps + 1),\n",
    "    ydata=z_projections,\n",
    "    p0=np.asarray([1 / .5])\n",
    ")\n",
    "\n",
    "plt.plot(total_time / n_time_steps * np.arange(n_time_steps + 1),\n",
    "         z_projections, label='Simulation')\n",
    "plt.plot(total_time / n_time_steps * np.arange(n_time_steps + 1),\n",
    "         t1_decay(\n",
    "             total_time / n_time_steps * np.arange(n_time_steps + 1), *popt\n",
    "         ), label='Fit')\n",
    "plt.xlabel('Time ($\\mathrm{ms})$')\n",
    "plt.ylabel('Expectation value of $\\sigma_z$')\n",
    "plt.legend()\n",
    "\n",
    "print('The T1 time is ' + str(popt[0]) + '.')\n",
    "plt.show()"
   ],
   "metadata": {
    "collapsed": false,
    "pycharm": {
     "name": "#%%\n"
    }
   }
  },
  {
   "cell_type": "markdown",
   "source": [
    "We reproduce the theoretical calculation of the T1 time:\n",
    "\n",
    "\\begin{equation}\n",
    "T_1 = \\frac{1}{\\gamma}\n",
    "\\end{equation}\n"
   ],
   "metadata": {
    "collapsed": false,
    "pycharm": {
     "name": "#%% md\n"
    }
   }
  }
 ],
 "metadata": {
  "kernelspec": {
   "display_name": "Python 3",
   "language": "python",
   "name": "python3"
  },
  "language_info": {
   "codemirror_mode": {
    "name": "ipython",
    "version": 2
   },
   "file_extension": ".py",
   "mimetype": "text/x-python",
   "name": "python",
   "nbconvert_exporter": "python",
   "pygments_lexer": "ipython2",
   "version": "2.7.6"
  }
 },
 "nbformat": 4,
 "nbformat_minor": 0
}